{
  "nbformat": 4,
  "nbformat_minor": 0,
  "metadata": {
    "colab": {
      "provenance": [],
      "gpuType": "T4",
      "authorship_tag": "ABX9TyPamb3GjODWdkaW+m9P2cse",
      "include_colab_link": true
    },
    "kernelspec": {
      "name": "python3",
      "display_name": "Python 3"
    },
    "language_info": {
      "name": "python"
    },
    "accelerator": "GPU"
  },
  "cells": [
    {
      "cell_type": "markdown",
      "metadata": {
        "id": "view-in-github",
        "colab_type": "text"
      },
      "source": [
        "<a href=\"https://colab.research.google.com/github/TheEleventhAvatar/Wobot.AiClone/blob/main/Final.ipynb\" target=\"_parent\"><img src=\"https://colab.research.google.com/assets/colab-badge.svg\" alt=\"Open In Colab\"/></a>"
      ]
    },
    {
      "cell_type": "code",
      "execution_count": 1,
      "metadata": {
        "colab": {
          "base_uri": "https://localhost:8080/"
        },
        "id": "MrNeRrT3jweA",
        "outputId": "55d6f143-d126-404a-cf73-7c6dc67737b1"
      },
      "outputs": [
        {
          "output_type": "stream",
          "name": "stdout",
          "text": [
            "\u001b[?25l   \u001b[90m━━━━━━━━━━━━━━━━━━━━━━━━━━━━━━━━━━━━━━━━\u001b[0m \u001b[32m0.0/86.9 kB\u001b[0m \u001b[31m?\u001b[0m eta \u001b[36m-:--:--\u001b[0m\r\u001b[2K   \u001b[90m━━━━━━━━━━━━━━━━━━━━━━━━━━━━━━━━━━━━━━━━\u001b[0m \u001b[32m86.9/86.9 kB\u001b[0m \u001b[31m7.0 MB/s\u001b[0m eta \u001b[36m0:00:00\u001b[0m\n",
            "\u001b[2K   \u001b[90m━━━━━━━━━━━━━━━━━━━━━━━━━━━━━━━━━━━━━━━━\u001b[0m \u001b[32m66.8/66.8 kB\u001b[0m \u001b[31m7.4 MB/s\u001b[0m eta \u001b[36m0:00:00\u001b[0m\n",
            "\u001b[2K   \u001b[90m━━━━━━━━━━━━━━━━━━━━━━━━━━━━━━━━━━━━━━━━\u001b[0m \u001b[32m49.9/49.9 MB\u001b[0m \u001b[31m20.5 MB/s\u001b[0m eta \u001b[36m0:00:00\u001b[0m\n",
            "\u001b[2K   \u001b[90m━━━━━━━━━━━━━━━━━━━━━━━━━━━━━━━━━━━━━━━━\u001b[0m \u001b[32m1.0/1.0 MB\u001b[0m \u001b[31m62.7 MB/s\u001b[0m eta \u001b[36m0:00:00\u001b[0m\n",
            "\u001b[2K   \u001b[90m━━━━━━━━━━━━━━━━━━━━━━━━━━━━━━━━━━━━━━━━\u001b[0m \u001b[32m4.2/4.2 MB\u001b[0m \u001b[31m115.0 MB/s\u001b[0m eta \u001b[36m0:00:00\u001b[0m\n",
            "\u001b[2K   \u001b[90m━━━━━━━━━━━━━━━━━━━━━━━━━━━━━━━━━━━━━━━━\u001b[0m \u001b[32m4.9/4.9 MB\u001b[0m \u001b[31m134.0 MB/s\u001b[0m eta \u001b[36m0:00:00\u001b[0m\n",
            "\u001b[2K   \u001b[90m━━━━━━━━━━━━━━━━━━━━━━━━━━━━━━━━━━━━━━━━\u001b[0m \u001b[32m363.4/363.4 MB\u001b[0m \u001b[31m4.6 MB/s\u001b[0m eta \u001b[36m0:00:00\u001b[0m\n",
            "\u001b[2K   \u001b[90m━━━━━━━━━━━━━━━━━━━━━━━━━━━━━━━━━━━━━━━━\u001b[0m \u001b[32m13.8/13.8 MB\u001b[0m \u001b[31m103.9 MB/s\u001b[0m eta \u001b[36m0:00:00\u001b[0m\n",
            "\u001b[2K   \u001b[90m━━━━━━━━━━━━━━━━━━━━━━━━━━━━━━━━━━━━━━━━\u001b[0m \u001b[32m24.6/24.6 MB\u001b[0m \u001b[31m79.0 MB/s\u001b[0m eta \u001b[36m0:00:00\u001b[0m\n",
            "\u001b[2K   \u001b[90m━━━━━━━━━━━━━━━━━━━━━━━━━━━━━━━━━━━━━━━━\u001b[0m \u001b[32m883.7/883.7 kB\u001b[0m \u001b[31m59.8 MB/s\u001b[0m eta \u001b[36m0:00:00\u001b[0m\n",
            "\u001b[2K   \u001b[90m━━━━━━━━━━━━━━━━━━━━━━━━━━━━━━━━━━━━━━━━\u001b[0m \u001b[32m664.8/664.8 MB\u001b[0m \u001b[31m2.2 MB/s\u001b[0m eta \u001b[36m0:00:00\u001b[0m\n",
            "\u001b[2K   \u001b[90m━━━━━━━━━━━━━━━━━━━━━━━━━━━━━━━━━━━━━━━━\u001b[0m \u001b[32m211.5/211.5 MB\u001b[0m \u001b[31m5.4 MB/s\u001b[0m eta \u001b[36m0:00:00\u001b[0m\n",
            "\u001b[2K   \u001b[90m━━━━━━━━━━━━━━━━━━━━━━━━━━━━━━━━━━━━━━━━\u001b[0m \u001b[32m56.3/56.3 MB\u001b[0m \u001b[31m13.1 MB/s\u001b[0m eta \u001b[36m0:00:00\u001b[0m\n",
            "\u001b[2K   \u001b[90m━━━━━━━━━━━━━━━━━━━━━━━━━━━━━━━━━━━━━━━━\u001b[0m \u001b[32m127.9/127.9 MB\u001b[0m \u001b[31m7.0 MB/s\u001b[0m eta \u001b[36m0:00:00\u001b[0m\n",
            "\u001b[2K   \u001b[90m━━━━━━━━━━━━━━━━━━━━━━━━━━━━━━━━━━━━━━━━\u001b[0m \u001b[32m207.5/207.5 MB\u001b[0m \u001b[31m6.7 MB/s\u001b[0m eta \u001b[36m0:00:00\u001b[0m\n",
            "\u001b[2K   \u001b[90m━━━━━━━━━━━━━━━━━━━━━━━━━━━━━━━━━━━━━━━━\u001b[0m \u001b[32m21.1/21.1 MB\u001b[0m \u001b[31m91.6 MB/s\u001b[0m eta \u001b[36m0:00:00\u001b[0m\n",
            "loading Roboflow workspace...\n",
            "loading Roboflow project...\n"
          ]
        },
        {
          "output_type": "stream",
          "name": "stderr",
          "text": [
            "Downloading Dataset Version Zip in facemaskdataset-1 to yolov8:: 100%|██████████| 93073/93073 [00:06<00:00, 13843.30it/s]"
          ]
        },
        {
          "output_type": "stream",
          "name": "stdout",
          "text": [
            "\n"
          ]
        },
        {
          "output_type": "stream",
          "name": "stderr",
          "text": [
            "\n",
            "Extracting Dataset Version Zip to facemaskdataset-1 in yolov8:: 100%|██████████| 4080/4080 [00:00<00:00, 4668.19it/s]\n"
          ]
        },
        {
          "output_type": "stream",
          "name": "stdout",
          "text": [
            "Creating new Ultralytics Settings v0.0.6 file ✅ \n",
            "View Ultralytics Settings with 'yolo settings' or at '/root/.config/Ultralytics/settings.json'\n",
            "Update Settings with 'yolo settings key=value', i.e. 'yolo settings runs_dir=path/to/dir'. For help see https://docs.ultralytics.com/quickstart/#ultralytics-settings.\n"
          ]
        }
      ],
      "source": [
        "!pip install roboflow ultralytics -q\n",
        "from roboflow import Roboflow\n",
        "\n",
        "rf = Roboflow(api_key=\"ogwOqqIsGNhuFy48NLdm\")\n",
        "project = rf.workspace(\"computervisionprojects-y7ssn\").project(\"facemaskdataset-0du4h\")\n",
        "dataset = project.version(\"1\").download(\"yolov8\")"
      ]
    },
    {
      "cell_type": "code",
      "source": [
        "import os\n",
        "\n",
        "print(\"Dataset location:\", dataset.location)\n",
        "print(\"Files inside dataset folder:\")\n",
        "print(os.listdir(dataset.location))\n",
        "\n",
        "# Show the path to your data.yaml\n",
        "data_yaml_path = os.path.join(dataset.location, \"data.yaml\")\n",
        "print(\"\\nPath to data.yaml:\")\n",
        "print(data_yaml_path)"
      ],
      "metadata": {
        "colab": {
          "base_uri": "https://localhost:8080/"
        },
        "id": "IqzK-e48oHj2",
        "outputId": "2c8ed2d1-a653-46bb-ab29-0e2e9dba4441"
      },
      "execution_count": 2,
      "outputs": [
        {
          "output_type": "stream",
          "name": "stdout",
          "text": [
            "Dataset location: /content/facemaskdataset-1\n",
            "Files inside dataset folder:\n",
            "['README.dataset.txt', 'data.yaml', 'test', 'README.roboflow.txt', 'train', 'valid']\n",
            "\n",
            "Path to data.yaml:\n",
            "/content/facemaskdataset-1/data.yaml\n"
          ]
        }
      ]
    },
    {
      "cell_type": "code",
      "source": [
        "# Load a YOLOv8 model (e.g., yolov8n for nano)\n",
        "from ultralytics import YOLO\n",
        "model = YOLO('yolov8n.pt')  # or yolov8n.pt to finetune a pretrained model\n",
        "\n",
        "# Train the model\n",
        "model.train(data='/content/facemaskdataset-1/data.yaml', epochs=50, imgsz=640)"
      ],
      "metadata": {
        "colab": {
          "base_uri": "https://localhost:8080/"
        },
        "id": "QUAYgyEwoWGM",
        "outputId": "244bd445-a84b-4fbe-df48-b41a64dd496a"
      },
      "execution_count": 3,
      "outputs": [
        {
          "output_type": "stream",
          "name": "stdout",
          "text": [
            "Ultralytics 8.3.170 🚀 Python-3.11.13 torch-2.6.0+cu124 CUDA:0 (Tesla T4, 15095MiB)\n",
            "\u001b[34m\u001b[1mengine/trainer: \u001b[0magnostic_nms=False, amp=True, augment=False, auto_augment=randaugment, batch=16, bgr=0.0, box=7.5, cache=False, cfg=None, classes=None, close_mosaic=10, cls=0.5, conf=None, copy_paste=0.0, copy_paste_mode=flip, cos_lr=False, cutmix=0.0, data=/content/facemaskdataset-1/data.yaml, degrees=0.0, deterministic=True, device=None, dfl=1.5, dnn=False, dropout=0.0, dynamic=False, embed=None, epochs=50, erasing=0.4, exist_ok=False, fliplr=0.5, flipud=0.0, format=torchscript, fraction=1.0, freeze=None, half=False, hsv_h=0.015, hsv_s=0.7, hsv_v=0.4, imgsz=640, int8=False, iou=0.7, keras=False, kobj=1.0, line_width=None, lr0=0.01, lrf=0.01, mask_ratio=4, max_det=300, mixup=0.0, mode=train, model=yolov8n.yaml, momentum=0.937, mosaic=1.0, multi_scale=False, name=train, nbs=64, nms=False, opset=None, optimize=False, optimizer=auto, overlap_mask=True, patience=100, perspective=0.0, plots=True, pose=12.0, pretrained=True, profile=False, project=None, rect=False, resume=False, retina_masks=False, save=True, save_conf=False, save_crop=False, save_dir=runs/detect/train, save_frames=False, save_json=False, save_period=-1, save_txt=False, scale=0.5, seed=0, shear=0.0, show=False, show_boxes=True, show_conf=True, show_labels=True, simplify=True, single_cls=False, source=None, split=val, stream_buffer=False, task=detect, time=None, tracker=botsort.yaml, translate=0.1, val=True, verbose=True, vid_stride=1, visualize=False, warmup_bias_lr=0.1, warmup_epochs=3.0, warmup_momentum=0.8, weight_decay=0.0005, workers=8, workspace=None\n",
            "Downloading https://ultralytics.com/assets/Arial.ttf to '/root/.config/Ultralytics/Arial.ttf'...\n"
          ]
        },
        {
          "output_type": "stream",
          "name": "stderr",
          "text": [
            "100%|██████████| 755k/755k [00:00<00:00, 89.0MB/s]"
          ]
        },
        {
          "output_type": "stream",
          "name": "stdout",
          "text": [
            "Overriding model.yaml nc=80 with nc=3\n",
            "\n",
            "                   from  n    params  module                                       arguments                     \n",
            "  0                  -1  1       464  ultralytics.nn.modules.conv.Conv             [3, 16, 3, 2]                 \n",
            "  1                  -1  1      4672  ultralytics.nn.modules.conv.Conv             [16, 32, 3, 2]                \n",
            "  2                  -1  1      7360  ultralytics.nn.modules.block.C2f             [32, 32, 1, True]             \n",
            "  3                  -1  1     18560  ultralytics.nn.modules.conv.Conv             [32, 64, 3, 2]                \n",
            "  4                  -1  2     49664  ultralytics.nn.modules.block.C2f             [64, 64, 2, True]             \n",
            "  5                  -1  1     73984  ultralytics.nn.modules.conv.Conv             [64, 128, 3, 2]               \n",
            "  6                  -1  2    197632  ultralytics.nn.modules.block.C2f             [128, 128, 2, True]           \n",
            "  7                  -1  1    295424  ultralytics.nn.modules.conv.Conv             [128, 256, 3, 2]              \n",
            "  8                  -1  1    460288  ultralytics.nn.modules.block.C2f             [256, 256, 1, True]           \n",
            "  9                  -1  1    164608  ultralytics.nn.modules.block.SPPF            [256, 256, 5]                 \n",
            " 10                  -1  1         0  torch.nn.modules.upsampling.Upsample         [None, 2, 'nearest']          \n",
            " 11             [-1, 6]  1         0  ultralytics.nn.modules.conv.Concat           [1]                           \n",
            " 12                  -1  1    148224  ultralytics.nn.modules.block.C2f             [384, 128, 1]                 \n",
            " 13                  -1  1         0  torch.nn.modules.upsampling.Upsample         [None, 2, 'nearest']          \n",
            " 14             [-1, 4]  1         0  ultralytics.nn.modules.conv.Concat           [1]                           \n",
            " 15                  -1  1     37248  ultralytics.nn.modules.block.C2f             [192, 64, 1]                  \n",
            " 16                  -1  1     36992  ultralytics.nn.modules.conv.Conv             [64, 64, 3, 2]                \n",
            " 17            [-1, 12]  1         0  ultralytics.nn.modules.conv.Concat           [1]                           \n",
            " 18                  -1  1    123648  ultralytics.nn.modules.block.C2f             [192, 128, 1]                 \n",
            " 19                  -1  1    147712  ultralytics.nn.modules.conv.Conv             [128, 128, 3, 2]              \n",
            " 20             [-1, 9]  1         0  ultralytics.nn.modules.conv.Concat           [1]                           \n",
            " 21                  -1  1    493056  ultralytics.nn.modules.block.C2f             [384, 256, 1]                 \n",
            " 22        [15, 18, 21]  1    751897  ultralytics.nn.modules.head.Detect           [3, [64, 128, 256]]           \n"
          ]
        },
        {
          "output_type": "stream",
          "name": "stderr",
          "text": [
            "\n"
          ]
        },
        {
          "output_type": "stream",
          "name": "stdout",
          "text": [
            "YOLOv8n summary: 129 layers, 3,011,433 parameters, 3,011,417 gradients, 8.2 GFLOPs\n",
            "\n",
            "Freezing layer 'model.22.dfl.conv.weight'\n",
            "\u001b[34m\u001b[1mAMP: \u001b[0mrunning Automatic Mixed Precision (AMP) checks...\n",
            "Downloading https://github.com/ultralytics/assets/releases/download/v8.3.0/yolo11n.pt to 'yolo11n.pt'...\n"
          ]
        },
        {
          "output_type": "stream",
          "name": "stderr",
          "text": [
            "100%|██████████| 5.35M/5.35M [00:00<00:00, 253MB/s]\n"
          ]
        },
        {
          "output_type": "stream",
          "name": "stdout",
          "text": [
            "\u001b[34m\u001b[1mAMP: \u001b[0mchecks passed ✅\n",
            "\u001b[34m\u001b[1mtrain: \u001b[0mFast image access ✅ (ping: 0.0±0.0 ms, read: 1355.8±603.2 MB/s, size: 43.4 KB)\n"
          ]
        },
        {
          "output_type": "stream",
          "name": "stderr",
          "text": [
            "\u001b[34m\u001b[1mtrain: \u001b[0mScanning /content/facemaskdataset-1/train/labels... 1779 images, 0 backgrounds, 0 corrupt: 100%|██████████| 1779/1779 [00:00<00:00, 2470.00it/s]"
          ]
        },
        {
          "output_type": "stream",
          "name": "stdout",
          "text": [
            "\u001b[34m\u001b[1mtrain: \u001b[0mNew cache created: /content/facemaskdataset-1/train/labels.cache\n"
          ]
        },
        {
          "output_type": "stream",
          "name": "stderr",
          "text": [
            "\n"
          ]
        },
        {
          "output_type": "stream",
          "name": "stdout",
          "text": [
            "\u001b[34m\u001b[1malbumentations: \u001b[0mBlur(p=0.01, blur_limit=(3, 7)), MedianBlur(p=0.01, blur_limit=(3, 7)), ToGray(p=0.01, method='weighted_average', num_output_channels=3), CLAHE(p=0.01, clip_limit=(1.0, 4.0), tile_grid_size=(8, 8))\n",
            "\u001b[34m\u001b[1mval: \u001b[0mFast image access ✅ (ping: 0.0±0.0 ms, read: 391.4±159.6 MB/s, size: 50.8 KB)\n"
          ]
        },
        {
          "output_type": "stream",
          "name": "stderr",
          "text": [
            "\u001b[34m\u001b[1mval: \u001b[0mScanning /content/facemaskdataset-1/valid/labels... 171 images, 0 backgrounds, 0 corrupt: 100%|██████████| 171/171 [00:00<00:00, 1643.67it/s]"
          ]
        },
        {
          "output_type": "stream",
          "name": "stdout",
          "text": [
            "\u001b[34m\u001b[1mval: \u001b[0mNew cache created: /content/facemaskdataset-1/valid/labels.cache\n"
          ]
        },
        {
          "output_type": "stream",
          "name": "stderr",
          "text": [
            "\n"
          ]
        },
        {
          "output_type": "stream",
          "name": "stdout",
          "text": [
            "Plotting labels to runs/detect/train/labels.jpg... \n",
            "\u001b[34m\u001b[1moptimizer:\u001b[0m 'optimizer=auto' found, ignoring 'lr0=0.01' and 'momentum=0.937' and determining best 'optimizer', 'lr0' and 'momentum' automatically... \n",
            "\u001b[34m\u001b[1moptimizer:\u001b[0m AdamW(lr=0.001429, momentum=0.9) with parameter groups 57 weight(decay=0.0), 64 weight(decay=0.0005), 63 bias(decay=0.0)\n",
            "Image sizes 640 train, 640 val\n",
            "Using 2 dataloader workers\n",
            "Logging results to \u001b[1mruns/detect/train\u001b[0m\n",
            "Starting training for 50 epochs...\n",
            "\n",
            "      Epoch    GPU_mem   box_loss   cls_loss   dfl_loss  Instances       Size\n"
          ]
        },
        {
          "output_type": "stream",
          "name": "stderr",
          "text": [
            "       1/50      2.75G       3.67      4.248      3.931         13        640: 100%|██████████| 112/112 [00:31<00:00,  3.53it/s]\n",
            "                 Class     Images  Instances      Box(P          R      mAP50  mAP50-95): 100%|██████████| 6/6 [00:02<00:00,  2.38it/s]\n"
          ]
        },
        {
          "output_type": "stream",
          "name": "stdout",
          "text": [
            "                   all        171        959   0.000293     0.0153   0.000235   5.67e-05\n",
            "\n",
            "      Epoch    GPU_mem   box_loss   cls_loss   dfl_loss  Instances       Size\n"
          ]
        },
        {
          "output_type": "stream",
          "name": "stderr",
          "text": [
            "       2/50      4.03G      2.574      2.816      2.703         12        640: 100%|██████████| 112/112 [00:30<00:00,  3.65it/s]\n",
            "                 Class     Images  Instances      Box(P          R      mAP50  mAP50-95): 100%|██████████| 6/6 [00:01<00:00,  3.58it/s]"
          ]
        },
        {
          "output_type": "stream",
          "name": "stdout",
          "text": [
            "                   all        171        959      0.872      0.146      0.181     0.0823\n"
          ]
        },
        {
          "output_type": "stream",
          "name": "stderr",
          "text": [
            "\n"
          ]
        },
        {
          "output_type": "stream",
          "name": "stdout",
          "text": [
            "\n",
            "      Epoch    GPU_mem   box_loss   cls_loss   dfl_loss  Instances       Size\n"
          ]
        },
        {
          "output_type": "stream",
          "name": "stderr",
          "text": [
            "       3/50      4.03G      2.259      2.217      2.227         33        640: 100%|██████████| 112/112 [00:28<00:00,  3.93it/s]\n",
            "                 Class     Images  Instances      Box(P          R      mAP50  mAP50-95): 100%|██████████| 6/6 [00:01<00:00,  3.79it/s]"
          ]
        },
        {
          "output_type": "stream",
          "name": "stdout",
          "text": [
            "                   all        171        959      0.812      0.142      0.136     0.0446\n"
          ]
        },
        {
          "output_type": "stream",
          "name": "stderr",
          "text": [
            "\n"
          ]
        },
        {
          "output_type": "stream",
          "name": "stdout",
          "text": [
            "\n",
            "      Epoch    GPU_mem   box_loss   cls_loss   dfl_loss  Instances       Size\n"
          ]
        },
        {
          "output_type": "stream",
          "name": "stderr",
          "text": [
            "       4/50      4.05G      2.085      1.964       2.03         33        640: 100%|██████████| 112/112 [00:28<00:00,  3.88it/s]\n",
            "                 Class     Images  Instances      Box(P          R      mAP50  mAP50-95): 100%|██████████| 6/6 [00:02<00:00,  2.73it/s]\n"
          ]
        },
        {
          "output_type": "stream",
          "name": "stdout",
          "text": [
            "                   all        171        959      0.726      0.244      0.261      0.116\n",
            "\n",
            "      Epoch    GPU_mem   box_loss   cls_loss   dfl_loss  Instances       Size\n"
          ]
        },
        {
          "output_type": "stream",
          "name": "stderr",
          "text": [
            "       5/50      4.07G      1.956      1.783      1.911         27        640: 100%|██████████| 112/112 [00:28<00:00,  3.95it/s]\n",
            "                 Class     Images  Instances      Box(P          R      mAP50  mAP50-95): 100%|██████████| 6/6 [00:01<00:00,  3.86it/s]"
          ]
        },
        {
          "output_type": "stream",
          "name": "stdout",
          "text": [
            "                   all        171        959      0.682      0.305      0.325      0.169\n"
          ]
        },
        {
          "output_type": "stream",
          "name": "stderr",
          "text": [
            "\n"
          ]
        },
        {
          "output_type": "stream",
          "name": "stdout",
          "text": [
            "\n",
            "      Epoch    GPU_mem   box_loss   cls_loss   dfl_loss  Instances       Size\n"
          ]
        },
        {
          "output_type": "stream",
          "name": "stderr",
          "text": [
            "       6/50      4.09G      1.835      1.601      1.774          8        640: 100%|██████████| 112/112 [00:28<00:00,  3.94it/s]\n",
            "                 Class     Images  Instances      Box(P          R      mAP50  mAP50-95): 100%|██████████| 6/6 [00:01<00:00,  4.13it/s]"
          ]
        },
        {
          "output_type": "stream",
          "name": "stdout",
          "text": [
            "                   all        171        959      0.731       0.34      0.362      0.189\n"
          ]
        },
        {
          "output_type": "stream",
          "name": "stderr",
          "text": [
            "\n"
          ]
        },
        {
          "output_type": "stream",
          "name": "stdout",
          "text": [
            "\n",
            "      Epoch    GPU_mem   box_loss   cls_loss   dfl_loss  Instances       Size\n"
          ]
        },
        {
          "output_type": "stream",
          "name": "stderr",
          "text": [
            "       7/50      4.11G      1.757      1.488      1.719         13        640: 100%|██████████| 112/112 [00:28<00:00,  3.87it/s]\n",
            "                 Class     Images  Instances      Box(P          R      mAP50  mAP50-95): 100%|██████████| 6/6 [00:01<00:00,  3.38it/s]"
          ]
        },
        {
          "output_type": "stream",
          "name": "stdout",
          "text": [
            "                   all        171        959      0.768      0.369      0.389      0.155\n"
          ]
        },
        {
          "output_type": "stream",
          "name": "stderr",
          "text": [
            "\n"
          ]
        },
        {
          "output_type": "stream",
          "name": "stdout",
          "text": [
            "\n",
            "      Epoch    GPU_mem   box_loss   cls_loss   dfl_loss  Instances       Size\n"
          ]
        },
        {
          "output_type": "stream",
          "name": "stderr",
          "text": [
            "       8/50      4.12G      1.755      1.476      1.718         40        640: 100%|██████████| 112/112 [00:28<00:00,  3.95it/s]\n",
            "                 Class     Images  Instances      Box(P          R      mAP50  mAP50-95): 100%|██████████| 6/6 [00:01<00:00,  3.89it/s]"
          ]
        },
        {
          "output_type": "stream",
          "name": "stdout",
          "text": [
            "                   all        171        959      0.567      0.453       0.46       0.23\n"
          ]
        },
        {
          "output_type": "stream",
          "name": "stderr",
          "text": [
            "\n"
          ]
        },
        {
          "output_type": "stream",
          "name": "stdout",
          "text": [
            "\n",
            "      Epoch    GPU_mem   box_loss   cls_loss   dfl_loss  Instances       Size\n"
          ]
        },
        {
          "output_type": "stream",
          "name": "stderr",
          "text": [
            "       9/50      4.14G      1.724        1.4      1.665         35        640: 100%|██████████| 112/112 [00:29<00:00,  3.77it/s]\n",
            "                 Class     Images  Instances      Box(P          R      mAP50  mAP50-95): 100%|██████████| 6/6 [00:02<00:00,  2.38it/s]"
          ]
        },
        {
          "output_type": "stream",
          "name": "stdout",
          "text": [
            "                   all        171        959      0.831      0.399      0.483      0.236\n"
          ]
        },
        {
          "output_type": "stream",
          "name": "stderr",
          "text": [
            "\n"
          ]
        },
        {
          "output_type": "stream",
          "name": "stdout",
          "text": [
            "\n",
            "      Epoch    GPU_mem   box_loss   cls_loss   dfl_loss  Instances       Size\n"
          ]
        },
        {
          "output_type": "stream",
          "name": "stderr",
          "text": [
            "      10/50      4.15G      1.702      1.366      1.642         39        640: 100%|██████████| 112/112 [00:29<00:00,  3.84it/s]\n",
            "                 Class     Images  Instances      Box(P          R      mAP50  mAP50-95): 100%|██████████| 6/6 [00:01<00:00,  3.91it/s]"
          ]
        },
        {
          "output_type": "stream",
          "name": "stdout",
          "text": [
            "                   all        171        959      0.665      0.413      0.491      0.245\n"
          ]
        },
        {
          "output_type": "stream",
          "name": "stderr",
          "text": [
            "\n"
          ]
        },
        {
          "output_type": "stream",
          "name": "stdout",
          "text": [
            "\n",
            "      Epoch    GPU_mem   box_loss   cls_loss   dfl_loss  Instances       Size\n"
          ]
        },
        {
          "output_type": "stream",
          "name": "stderr",
          "text": [
            "      11/50      4.18G      1.674      1.329      1.623         17        640: 100%|██████████| 112/112 [00:30<00:00,  3.67it/s]\n",
            "                 Class     Images  Instances      Box(P          R      mAP50  mAP50-95): 100%|██████████| 6/6 [00:02<00:00,  2.60it/s]\n"
          ]
        },
        {
          "output_type": "stream",
          "name": "stdout",
          "text": [
            "                   all        171        959      0.531      0.405      0.486      0.251\n",
            "\n",
            "      Epoch    GPU_mem   box_loss   cls_loss   dfl_loss  Instances       Size\n"
          ]
        },
        {
          "output_type": "stream",
          "name": "stderr",
          "text": [
            "      12/50      4.19G      1.646       1.27      1.604         17        640: 100%|██████████| 112/112 [00:28<00:00,  3.89it/s]\n",
            "                 Class     Images  Instances      Box(P          R      mAP50  mAP50-95): 100%|██████████| 6/6 [00:01<00:00,  3.80it/s]"
          ]
        },
        {
          "output_type": "stream",
          "name": "stdout",
          "text": [
            "                   all        171        959      0.727       0.45      0.504       0.25\n"
          ]
        },
        {
          "output_type": "stream",
          "name": "stderr",
          "text": [
            "\n"
          ]
        },
        {
          "output_type": "stream",
          "name": "stdout",
          "text": [
            "\n",
            "      Epoch    GPU_mem   box_loss   cls_loss   dfl_loss  Instances       Size\n"
          ]
        },
        {
          "output_type": "stream",
          "name": "stderr",
          "text": [
            "      13/50      4.21G      1.655      1.278      1.606         16        640: 100%|██████████| 112/112 [00:28<00:00,  3.90it/s]\n",
            "                 Class     Images  Instances      Box(P          R      mAP50  mAP50-95): 100%|██████████| 6/6 [00:01<00:00,  4.09it/s]"
          ]
        },
        {
          "output_type": "stream",
          "name": "stdout",
          "text": [
            "                   all        171        959      0.823      0.449      0.522      0.304\n"
          ]
        },
        {
          "output_type": "stream",
          "name": "stderr",
          "text": [
            "\n"
          ]
        },
        {
          "output_type": "stream",
          "name": "stdout",
          "text": [
            "\n",
            "      Epoch    GPU_mem   box_loss   cls_loss   dfl_loss  Instances       Size\n"
          ]
        },
        {
          "output_type": "stream",
          "name": "stderr",
          "text": [
            "      14/50      4.23G      1.622      1.257      1.573         15        640: 100%|██████████| 112/112 [00:29<00:00,  3.76it/s]\n",
            "                 Class     Images  Instances      Box(P          R      mAP50  mAP50-95): 100%|██████████| 6/6 [00:01<00:00,  3.99it/s]"
          ]
        },
        {
          "output_type": "stream",
          "name": "stdout",
          "text": [
            "                   all        171        959      0.717      0.499       0.55       0.32\n"
          ]
        },
        {
          "output_type": "stream",
          "name": "stderr",
          "text": [
            "\n"
          ]
        },
        {
          "output_type": "stream",
          "name": "stdout",
          "text": [
            "\n",
            "      Epoch    GPU_mem   box_loss   cls_loss   dfl_loss  Instances       Size\n"
          ]
        },
        {
          "output_type": "stream",
          "name": "stderr",
          "text": [
            "      15/50      4.24G      1.589      1.197      1.552         14        640: 100%|██████████| 112/112 [00:28<00:00,  3.96it/s]\n",
            "                 Class     Images  Instances      Box(P          R      mAP50  mAP50-95): 100%|██████████| 6/6 [00:01<00:00,  3.42it/s]"
          ]
        },
        {
          "output_type": "stream",
          "name": "stdout",
          "text": [
            "                   all        171        959      0.804      0.536      0.592      0.297\n"
          ]
        },
        {
          "output_type": "stream",
          "name": "stderr",
          "text": [
            "\n"
          ]
        },
        {
          "output_type": "stream",
          "name": "stdout",
          "text": [
            "\n",
            "      Epoch    GPU_mem   box_loss   cls_loss   dfl_loss  Instances       Size\n"
          ]
        },
        {
          "output_type": "stream",
          "name": "stderr",
          "text": [
            "      16/50      4.26G      1.595      1.184      1.555         17        640: 100%|██████████| 112/112 [00:31<00:00,  3.59it/s]\n",
            "                 Class     Images  Instances      Box(P          R      mAP50  mAP50-95): 100%|██████████| 6/6 [00:01<00:00,  3.07it/s]"
          ]
        },
        {
          "output_type": "stream",
          "name": "stdout",
          "text": [
            "                   all        171        959       0.88      0.464      0.553      0.323\n"
          ]
        },
        {
          "output_type": "stream",
          "name": "stderr",
          "text": [
            "\n"
          ]
        },
        {
          "output_type": "stream",
          "name": "stdout",
          "text": [
            "\n",
            "      Epoch    GPU_mem   box_loss   cls_loss   dfl_loss  Instances       Size\n"
          ]
        },
        {
          "output_type": "stream",
          "name": "stderr",
          "text": [
            "      17/50      4.27G      1.593      1.169      1.544         50        640: 100%|██████████| 112/112 [00:29<00:00,  3.79it/s]\n",
            "                 Class     Images  Instances      Box(P          R      mAP50  mAP50-95): 100%|██████████| 6/6 [00:01<00:00,  3.85it/s]"
          ]
        },
        {
          "output_type": "stream",
          "name": "stdout",
          "text": [
            "                   all        171        959      0.871      0.435      0.578      0.296\n"
          ]
        },
        {
          "output_type": "stream",
          "name": "stderr",
          "text": [
            "\n"
          ]
        },
        {
          "output_type": "stream",
          "name": "stdout",
          "text": [
            "\n",
            "      Epoch    GPU_mem   box_loss   cls_loss   dfl_loss  Instances       Size\n"
          ]
        },
        {
          "output_type": "stream",
          "name": "stderr",
          "text": [
            "      18/50      4.29G      1.572       1.15      1.534         10        640: 100%|██████████| 112/112 [00:29<00:00,  3.85it/s]\n",
            "                 Class     Images  Instances      Box(P          R      mAP50  mAP50-95): 100%|██████████| 6/6 [00:02<00:00,  2.69it/s]"
          ]
        },
        {
          "output_type": "stream",
          "name": "stdout",
          "text": [
            "                   all        171        959       0.87       0.46      0.578      0.325\n"
          ]
        },
        {
          "output_type": "stream",
          "name": "stderr",
          "text": [
            "\n"
          ]
        },
        {
          "output_type": "stream",
          "name": "stdout",
          "text": [
            "\n",
            "      Epoch    GPU_mem   box_loss   cls_loss   dfl_loss  Instances       Size\n"
          ]
        },
        {
          "output_type": "stream",
          "name": "stderr",
          "text": [
            "      19/50      4.31G      1.561      1.122      1.515          9        640: 100%|██████████| 112/112 [00:28<00:00,  3.86it/s]\n",
            "                 Class     Images  Instances      Box(P          R      mAP50  mAP50-95): 100%|██████████| 6/6 [00:01<00:00,  4.03it/s]"
          ]
        },
        {
          "output_type": "stream",
          "name": "stdout",
          "text": [
            "                   all        171        959       0.88      0.491      0.596      0.319\n"
          ]
        },
        {
          "output_type": "stream",
          "name": "stderr",
          "text": [
            "\n"
          ]
        },
        {
          "output_type": "stream",
          "name": "stdout",
          "text": [
            "\n",
            "      Epoch    GPU_mem   box_loss   cls_loss   dfl_loss  Instances       Size\n"
          ]
        },
        {
          "output_type": "stream",
          "name": "stderr",
          "text": [
            "      20/50      4.33G      1.543      1.089      1.498         12        640: 100%|██████████| 112/112 [00:28<00:00,  3.89it/s]\n",
            "                 Class     Images  Instances      Box(P          R      mAP50  mAP50-95): 100%|██████████| 6/6 [00:01<00:00,  3.72it/s]"
          ]
        },
        {
          "output_type": "stream",
          "name": "stdout",
          "text": [
            "                   all        171        959      0.828      0.535      0.601      0.344\n"
          ]
        },
        {
          "output_type": "stream",
          "name": "stderr",
          "text": [
            "\n"
          ]
        },
        {
          "output_type": "stream",
          "name": "stdout",
          "text": [
            "\n",
            "      Epoch    GPU_mem   box_loss   cls_loss   dfl_loss  Instances       Size\n"
          ]
        },
        {
          "output_type": "stream",
          "name": "stderr",
          "text": [
            "      21/50      4.34G      1.544      1.083      1.512         51        640: 100%|██████████| 112/112 [00:29<00:00,  3.81it/s]\n",
            "                 Class     Images  Instances      Box(P          R      mAP50  mAP50-95): 100%|██████████| 6/6 [00:01<00:00,  3.97it/s]"
          ]
        },
        {
          "output_type": "stream",
          "name": "stdout",
          "text": [
            "                   all        171        959      0.669      0.514      0.561      0.309\n"
          ]
        },
        {
          "output_type": "stream",
          "name": "stderr",
          "text": [
            "\n"
          ]
        },
        {
          "output_type": "stream",
          "name": "stdout",
          "text": [
            "\n",
            "      Epoch    GPU_mem   box_loss   cls_loss   dfl_loss  Instances       Size\n"
          ]
        },
        {
          "output_type": "stream",
          "name": "stderr",
          "text": [
            "      22/50      4.36G      1.534      1.078      1.501         14        640: 100%|██████████| 112/112 [00:28<00:00,  3.94it/s]\n",
            "                 Class     Images  Instances      Box(P          R      mAP50  mAP50-95): 100%|██████████| 6/6 [00:01<00:00,  4.34it/s]"
          ]
        },
        {
          "output_type": "stream",
          "name": "stdout",
          "text": [
            "                   all        171        959      0.638      0.562      0.585       0.31\n"
          ]
        },
        {
          "output_type": "stream",
          "name": "stderr",
          "text": [
            "\n"
          ]
        },
        {
          "output_type": "stream",
          "name": "stdout",
          "text": [
            "\n",
            "      Epoch    GPU_mem   box_loss   cls_loss   dfl_loss  Instances       Size\n"
          ]
        },
        {
          "output_type": "stream",
          "name": "stderr",
          "text": [
            "      23/50      4.38G      1.521      1.058      1.494          9        640: 100%|██████████| 112/112 [00:28<00:00,  3.95it/s]\n",
            "                 Class     Images  Instances      Box(P          R      mAP50  mAP50-95): 100%|██████████| 6/6 [00:02<00:00,  2.48it/s]"
          ]
        },
        {
          "output_type": "stream",
          "name": "stdout",
          "text": [
            "                   all        171        959      0.683      0.557      0.592       0.32\n"
          ]
        },
        {
          "output_type": "stream",
          "name": "stderr",
          "text": [
            "\n"
          ]
        },
        {
          "output_type": "stream",
          "name": "stdout",
          "text": [
            "\n",
            "      Epoch    GPU_mem   box_loss   cls_loss   dfl_loss  Instances       Size\n"
          ]
        },
        {
          "output_type": "stream",
          "name": "stderr",
          "text": [
            "      24/50       4.4G      1.516      1.046      1.487         18        640: 100%|██████████| 112/112 [00:28<00:00,  3.94it/s]\n",
            "                 Class     Images  Instances      Box(P          R      mAP50  mAP50-95): 100%|██████████| 6/6 [00:01<00:00,  4.05it/s]"
          ]
        },
        {
          "output_type": "stream",
          "name": "stdout",
          "text": [
            "                   all        171        959       0.62      0.635      0.641       0.31\n"
          ]
        },
        {
          "output_type": "stream",
          "name": "stderr",
          "text": [
            "\n"
          ]
        },
        {
          "output_type": "stream",
          "name": "stdout",
          "text": [
            "\n",
            "      Epoch    GPU_mem   box_loss   cls_loss   dfl_loss  Instances       Size\n"
          ]
        },
        {
          "output_type": "stream",
          "name": "stderr",
          "text": [
            "      25/50      4.41G      1.494      1.018      1.466         13        640: 100%|██████████| 112/112 [00:28<00:00,  3.94it/s]\n",
            "                 Class     Images  Instances      Box(P          R      mAP50  mAP50-95): 100%|██████████| 6/6 [00:01<00:00,  3.87it/s]"
          ]
        },
        {
          "output_type": "stream",
          "name": "stdout",
          "text": [
            "                   all        171        959      0.637      0.527      0.599      0.304\n"
          ]
        },
        {
          "output_type": "stream",
          "name": "stderr",
          "text": [
            "\n"
          ]
        },
        {
          "output_type": "stream",
          "name": "stdout",
          "text": [
            "\n",
            "      Epoch    GPU_mem   box_loss   cls_loss   dfl_loss  Instances       Size\n"
          ]
        },
        {
          "output_type": "stream",
          "name": "stderr",
          "text": [
            "      26/50      4.43G      1.489      1.005      1.471         18        640: 100%|██████████| 112/112 [00:29<00:00,  3.80it/s]\n",
            "                 Class     Images  Instances      Box(P          R      mAP50  mAP50-95): 100%|██████████| 6/6 [00:01<00:00,  3.74it/s]"
          ]
        },
        {
          "output_type": "stream",
          "name": "stdout",
          "text": [
            "                   all        171        959      0.636      0.596      0.628      0.363\n"
          ]
        },
        {
          "output_type": "stream",
          "name": "stderr",
          "text": [
            "\n"
          ]
        },
        {
          "output_type": "stream",
          "name": "stdout",
          "text": [
            "\n",
            "      Epoch    GPU_mem   box_loss   cls_loss   dfl_loss  Instances       Size\n"
          ]
        },
        {
          "output_type": "stream",
          "name": "stderr",
          "text": [
            "      27/50      4.44G       1.48      1.028      1.464          4        640: 100%|██████████| 112/112 [00:28<00:00,  3.87it/s]\n",
            "                 Class     Images  Instances      Box(P          R      mAP50  mAP50-95): 100%|██████████| 6/6 [00:01<00:00,  3.80it/s]"
          ]
        },
        {
          "output_type": "stream",
          "name": "stdout",
          "text": [
            "                   all        171        959      0.703      0.617       0.66      0.375\n"
          ]
        },
        {
          "output_type": "stream",
          "name": "stderr",
          "text": [
            "\n"
          ]
        },
        {
          "output_type": "stream",
          "name": "stdout",
          "text": [
            "\n",
            "      Epoch    GPU_mem   box_loss   cls_loss   dfl_loss  Instances       Size\n"
          ]
        },
        {
          "output_type": "stream",
          "name": "stderr",
          "text": [
            "      28/50      4.46G       1.46     0.9855       1.45         22        640: 100%|██████████| 112/112 [00:28<00:00,  3.89it/s]\n",
            "                 Class     Images  Instances      Box(P          R      mAP50  mAP50-95): 100%|██████████| 6/6 [00:02<00:00,  2.67it/s]"
          ]
        },
        {
          "output_type": "stream",
          "name": "stdout",
          "text": [
            "                   all        171        959      0.739      0.649      0.687      0.382\n"
          ]
        },
        {
          "output_type": "stream",
          "name": "stderr",
          "text": [
            "\n"
          ]
        },
        {
          "output_type": "stream",
          "name": "stdout",
          "text": [
            "\n",
            "      Epoch    GPU_mem   box_loss   cls_loss   dfl_loss  Instances       Size\n"
          ]
        },
        {
          "output_type": "stream",
          "name": "stderr",
          "text": [
            "      29/50      4.48G      1.448     0.9685      1.452          7        640: 100%|██████████| 112/112 [00:29<00:00,  3.85it/s]\n",
            "                 Class     Images  Instances      Box(P          R      mAP50  mAP50-95): 100%|██████████| 6/6 [00:01<00:00,  3.88it/s]"
          ]
        },
        {
          "output_type": "stream",
          "name": "stdout",
          "text": [
            "                   all        171        959      0.725      0.607      0.669      0.396\n"
          ]
        },
        {
          "output_type": "stream",
          "name": "stderr",
          "text": [
            "\n"
          ]
        },
        {
          "output_type": "stream",
          "name": "stdout",
          "text": [
            "\n",
            "      Epoch    GPU_mem   box_loss   cls_loss   dfl_loss  Instances       Size\n"
          ]
        },
        {
          "output_type": "stream",
          "name": "stderr",
          "text": [
            "      30/50       4.5G       1.45     0.9601      1.433          7        640: 100%|██████████| 112/112 [00:29<00:00,  3.85it/s]\n",
            "                 Class     Images  Instances      Box(P          R      mAP50  mAP50-95): 100%|██████████| 6/6 [00:01<00:00,  3.69it/s]\n"
          ]
        },
        {
          "output_type": "stream",
          "name": "stdout",
          "text": [
            "                   all        171        959       0.68      0.622      0.646       0.38\n",
            "\n",
            "      Epoch    GPU_mem   box_loss   cls_loss   dfl_loss  Instances       Size\n"
          ]
        },
        {
          "output_type": "stream",
          "name": "stderr",
          "text": [
            "      31/50      4.51G      1.415     0.9408      1.421         33        640: 100%|██████████| 112/112 [00:29<00:00,  3.81it/s]\n",
            "                 Class     Images  Instances      Box(P          R      mAP50  mAP50-95): 100%|██████████| 6/6 [00:01<00:00,  3.86it/s]"
          ]
        },
        {
          "output_type": "stream",
          "name": "stdout",
          "text": [
            "                   all        171        959      0.689      0.595      0.631       0.36\n"
          ]
        },
        {
          "output_type": "stream",
          "name": "stderr",
          "text": [
            "\n"
          ]
        },
        {
          "output_type": "stream",
          "name": "stdout",
          "text": [
            "\n",
            "      Epoch    GPU_mem   box_loss   cls_loss   dfl_loss  Instances       Size\n"
          ]
        },
        {
          "output_type": "stream",
          "name": "stderr",
          "text": [
            "      32/50      4.54G      1.432      0.933       1.43         17        640: 100%|██████████| 112/112 [00:28<00:00,  3.88it/s]\n",
            "                 Class     Images  Instances      Box(P          R      mAP50  mAP50-95): 100%|██████████| 6/6 [00:01<00:00,  4.19it/s]"
          ]
        },
        {
          "output_type": "stream",
          "name": "stdout",
          "text": [
            "                   all        171        959      0.755      0.596      0.657      0.359\n"
          ]
        },
        {
          "output_type": "stream",
          "name": "stderr",
          "text": [
            "\n"
          ]
        },
        {
          "output_type": "stream",
          "name": "stdout",
          "text": [
            "\n",
            "      Epoch    GPU_mem   box_loss   cls_loss   dfl_loss  Instances       Size\n"
          ]
        },
        {
          "output_type": "stream",
          "name": "stderr",
          "text": [
            "      33/50      4.55G      1.437     0.9241      1.413         39        640: 100%|██████████| 112/112 [00:29<00:00,  3.73it/s]\n",
            "                 Class     Images  Instances      Box(P          R      mAP50  mAP50-95): 100%|██████████| 6/6 [00:01<00:00,  3.81it/s]"
          ]
        },
        {
          "output_type": "stream",
          "name": "stdout",
          "text": [
            "                   all        171        959      0.797      0.626      0.681      0.385\n"
          ]
        },
        {
          "output_type": "stream",
          "name": "stderr",
          "text": [
            "\n"
          ]
        },
        {
          "output_type": "stream",
          "name": "stdout",
          "text": [
            "\n",
            "      Epoch    GPU_mem   box_loss   cls_loss   dfl_loss  Instances       Size\n"
          ]
        },
        {
          "output_type": "stream",
          "name": "stderr",
          "text": [
            "      34/50      4.56G      1.422     0.9156      1.409         11        640: 100%|██████████| 112/112 [00:28<00:00,  3.89it/s]\n",
            "                 Class     Images  Instances      Box(P          R      mAP50  mAP50-95): 100%|██████████| 6/6 [00:01<00:00,  3.95it/s]"
          ]
        },
        {
          "output_type": "stream",
          "name": "stdout",
          "text": [
            "                   all        171        959      0.761       0.58      0.636      0.368\n"
          ]
        },
        {
          "output_type": "stream",
          "name": "stderr",
          "text": [
            "\n"
          ]
        },
        {
          "output_type": "stream",
          "name": "stdout",
          "text": [
            "\n",
            "      Epoch    GPU_mem   box_loss   cls_loss   dfl_loss  Instances       Size\n"
          ]
        },
        {
          "output_type": "stream",
          "name": "stderr",
          "text": [
            "      35/50      4.58G      1.416     0.9131      1.414         21        640: 100%|██████████| 112/112 [00:29<00:00,  3.84it/s]\n",
            "                 Class     Images  Instances      Box(P          R      mAP50  mAP50-95): 100%|██████████| 6/6 [00:02<00:00,  2.61it/s]\n"
          ]
        },
        {
          "output_type": "stream",
          "name": "stdout",
          "text": [
            "                   all        171        959      0.672       0.62      0.672      0.402\n",
            "\n",
            "      Epoch    GPU_mem   box_loss   cls_loss   dfl_loss  Instances       Size\n"
          ]
        },
        {
          "output_type": "stream",
          "name": "stderr",
          "text": [
            "      36/50       4.6G      1.406     0.8936      1.395          7        640: 100%|██████████| 112/112 [00:29<00:00,  3.82it/s]\n",
            "                 Class     Images  Instances      Box(P          R      mAP50  mAP50-95): 100%|██████████| 6/6 [00:01<00:00,  4.19it/s]"
          ]
        },
        {
          "output_type": "stream",
          "name": "stdout",
          "text": [
            "                   all        171        959      0.708      0.588      0.653      0.394\n"
          ]
        },
        {
          "output_type": "stream",
          "name": "stderr",
          "text": [
            "\n"
          ]
        },
        {
          "output_type": "stream",
          "name": "stdout",
          "text": [
            "\n",
            "      Epoch    GPU_mem   box_loss   cls_loss   dfl_loss  Instances       Size\n"
          ]
        },
        {
          "output_type": "stream",
          "name": "stderr",
          "text": [
            "      37/50      4.62G      1.406      0.895      1.397         21        640: 100%|██████████| 112/112 [00:28<00:00,  3.89it/s]\n",
            "                 Class     Images  Instances      Box(P          R      mAP50  mAP50-95): 100%|██████████| 6/6 [00:01<00:00,  3.93it/s]"
          ]
        },
        {
          "output_type": "stream",
          "name": "stdout",
          "text": [
            "                   all        171        959       0.77      0.604      0.674      0.386\n"
          ]
        },
        {
          "output_type": "stream",
          "name": "stderr",
          "text": [
            "\n"
          ]
        },
        {
          "output_type": "stream",
          "name": "stdout",
          "text": [
            "\n",
            "      Epoch    GPU_mem   box_loss   cls_loss   dfl_loss  Instances       Size\n"
          ]
        },
        {
          "output_type": "stream",
          "name": "stderr",
          "text": [
            "      38/50      4.63G      1.379     0.8773      1.387         16        640: 100%|██████████| 112/112 [00:30<00:00,  3.72it/s]\n",
            "                 Class     Images  Instances      Box(P          R      mAP50  mAP50-95): 100%|██████████| 6/6 [00:01<00:00,  4.21it/s]"
          ]
        },
        {
          "output_type": "stream",
          "name": "stdout",
          "text": [
            "                   all        171        959      0.727      0.655      0.678      0.407\n"
          ]
        },
        {
          "output_type": "stream",
          "name": "stderr",
          "text": [
            "\n"
          ]
        },
        {
          "output_type": "stream",
          "name": "stdout",
          "text": [
            "\n",
            "      Epoch    GPU_mem   box_loss   cls_loss   dfl_loss  Instances       Size\n"
          ]
        },
        {
          "output_type": "stream",
          "name": "stderr",
          "text": [
            "      39/50      4.65G      1.365     0.8708      1.376         13        640: 100%|██████████| 112/112 [00:29<00:00,  3.84it/s]\n",
            "                 Class     Images  Instances      Box(P          R      mAP50  mAP50-95): 100%|██████████| 6/6 [00:01<00:00,  4.39it/s]"
          ]
        },
        {
          "output_type": "stream",
          "name": "stdout",
          "text": [
            "                   all        171        959      0.776      0.679      0.719      0.437\n"
          ]
        },
        {
          "output_type": "stream",
          "name": "stderr",
          "text": [
            "\n"
          ]
        },
        {
          "output_type": "stream",
          "name": "stdout",
          "text": [
            "\n",
            "      Epoch    GPU_mem   box_loss   cls_loss   dfl_loss  Instances       Size\n"
          ]
        },
        {
          "output_type": "stream",
          "name": "stderr",
          "text": [
            "      40/50      4.67G      1.392     0.8768      1.398         19        640: 100%|██████████| 112/112 [00:29<00:00,  3.77it/s]\n",
            "                 Class     Images  Instances      Box(P          R      mAP50  mAP50-95): 100%|██████████| 6/6 [00:01<00:00,  3.77it/s]"
          ]
        },
        {
          "output_type": "stream",
          "name": "stdout",
          "text": [
            "                   all        171        959        0.7      0.667      0.708      0.432\n"
          ]
        },
        {
          "output_type": "stream",
          "name": "stderr",
          "text": [
            "\n"
          ]
        },
        {
          "output_type": "stream",
          "name": "stdout",
          "text": [
            "Closing dataloader mosaic\n",
            "\u001b[34m\u001b[1malbumentations: \u001b[0mBlur(p=0.01, blur_limit=(3, 7)), MedianBlur(p=0.01, blur_limit=(3, 7)), ToGray(p=0.01, method='weighted_average', num_output_channels=3), CLAHE(p=0.01, clip_limit=(1.0, 4.0), tile_grid_size=(8, 8))\n",
            "\n",
            "      Epoch    GPU_mem   box_loss   cls_loss   dfl_loss  Instances       Size\n"
          ]
        },
        {
          "output_type": "stream",
          "name": "stderr",
          "text": [
            "      41/50      4.68G      1.348     0.7882      1.409          6        640: 100%|██████████| 112/112 [00:29<00:00,  3.83it/s]\n",
            "                 Class     Images  Instances      Box(P          R      mAP50  mAP50-95): 100%|██████████| 6/6 [00:01<00:00,  4.24it/s]"
          ]
        },
        {
          "output_type": "stream",
          "name": "stdout",
          "text": [
            "                   all        171        959      0.738       0.64      0.693       0.41\n"
          ]
        },
        {
          "output_type": "stream",
          "name": "stderr",
          "text": [
            "\n"
          ]
        },
        {
          "output_type": "stream",
          "name": "stdout",
          "text": [
            "\n",
            "      Epoch    GPU_mem   box_loss   cls_loss   dfl_loss  Instances       Size\n"
          ]
        },
        {
          "output_type": "stream",
          "name": "stderr",
          "text": [
            "      42/50       4.7G        1.3     0.7594      1.366         29        640: 100%|██████████| 112/112 [00:27<00:00,  4.06it/s]\n",
            "                 Class     Images  Instances      Box(P          R      mAP50  mAP50-95): 100%|██████████| 6/6 [00:01<00:00,  3.06it/s]"
          ]
        },
        {
          "output_type": "stream",
          "name": "stdout",
          "text": [
            "                   all        171        959      0.701      0.678      0.716      0.421\n"
          ]
        },
        {
          "output_type": "stream",
          "name": "stderr",
          "text": [
            "\n"
          ]
        },
        {
          "output_type": "stream",
          "name": "stdout",
          "text": [
            "\n",
            "      Epoch    GPU_mem   box_loss   cls_loss   dfl_loss  Instances       Size\n"
          ]
        },
        {
          "output_type": "stream",
          "name": "stderr",
          "text": [
            "      43/50      4.72G      1.283     0.7534      1.368         14        640: 100%|██████████| 112/112 [00:27<00:00,  4.03it/s]\n",
            "                 Class     Images  Instances      Box(P          R      mAP50  mAP50-95): 100%|██████████| 6/6 [00:01<00:00,  4.13it/s]"
          ]
        },
        {
          "output_type": "stream",
          "name": "stdout",
          "text": [
            "                   all        171        959      0.818        0.6      0.711      0.426\n"
          ]
        },
        {
          "output_type": "stream",
          "name": "stderr",
          "text": [
            "\n"
          ]
        },
        {
          "output_type": "stream",
          "name": "stdout",
          "text": [
            "\n",
            "      Epoch    GPU_mem   box_loss   cls_loss   dfl_loss  Instances       Size\n"
          ]
        },
        {
          "output_type": "stream",
          "name": "stderr",
          "text": [
            "      44/50      4.74G      1.278     0.7433      1.363         17        640: 100%|██████████| 112/112 [00:27<00:00,  4.02it/s]\n",
            "                 Class     Images  Instances      Box(P          R      mAP50  mAP50-95): 100%|██████████| 6/6 [00:01<00:00,  4.15it/s]"
          ]
        },
        {
          "output_type": "stream",
          "name": "stdout",
          "text": [
            "                   all        171        959      0.748      0.655      0.723      0.415\n"
          ]
        },
        {
          "output_type": "stream",
          "name": "stderr",
          "text": [
            "\n"
          ]
        },
        {
          "output_type": "stream",
          "name": "stdout",
          "text": [
            "\n",
            "      Epoch    GPU_mem   box_loss   cls_loss   dfl_loss  Instances       Size\n"
          ]
        },
        {
          "output_type": "stream",
          "name": "stderr",
          "text": [
            "      45/50      4.75G      1.255     0.7294      1.358         31        640: 100%|██████████| 112/112 [00:27<00:00,  4.07it/s]\n",
            "                 Class     Images  Instances      Box(P          R      mAP50  mAP50-95): 100%|██████████| 6/6 [00:01<00:00,  4.20it/s]"
          ]
        },
        {
          "output_type": "stream",
          "name": "stdout",
          "text": [
            "                   all        171        959      0.783      0.671      0.722      0.432\n"
          ]
        },
        {
          "output_type": "stream",
          "name": "stderr",
          "text": [
            "\n"
          ]
        },
        {
          "output_type": "stream",
          "name": "stdout",
          "text": [
            "\n",
            "      Epoch    GPU_mem   box_loss   cls_loss   dfl_loss  Instances       Size\n"
          ]
        },
        {
          "output_type": "stream",
          "name": "stderr",
          "text": [
            "      46/50      4.77G      1.256     0.7193      1.353         18        640: 100%|██████████| 112/112 [00:28<00:00,  3.94it/s]\n",
            "                 Class     Images  Instances      Box(P          R      mAP50  mAP50-95): 100%|██████████| 6/6 [00:01<00:00,  4.01it/s]"
          ]
        },
        {
          "output_type": "stream",
          "name": "stdout",
          "text": [
            "                   all        171        959      0.792      0.642      0.732      0.441\n"
          ]
        },
        {
          "output_type": "stream",
          "name": "stderr",
          "text": [
            "\n"
          ]
        },
        {
          "output_type": "stream",
          "name": "stdout",
          "text": [
            "\n",
            "      Epoch    GPU_mem   box_loss   cls_loss   dfl_loss  Instances       Size\n"
          ]
        },
        {
          "output_type": "stream",
          "name": "stderr",
          "text": [
            "      47/50      4.79G      1.245     0.7143      1.341          5        640: 100%|██████████| 112/112 [00:27<00:00,  4.04it/s]\n",
            "                 Class     Images  Instances      Box(P          R      mAP50  mAP50-95): 100%|██████████| 6/6 [00:01<00:00,  4.21it/s]"
          ]
        },
        {
          "output_type": "stream",
          "name": "stdout",
          "text": [
            "                   all        171        959      0.717      0.692      0.707      0.439\n"
          ]
        },
        {
          "output_type": "stream",
          "name": "stderr",
          "text": [
            "\n"
          ]
        },
        {
          "output_type": "stream",
          "name": "stdout",
          "text": [
            "\n",
            "      Epoch    GPU_mem   box_loss   cls_loss   dfl_loss  Instances       Size\n"
          ]
        },
        {
          "output_type": "stream",
          "name": "stderr",
          "text": [
            "      48/50      4.81G      1.248     0.7207      1.341         12        640: 100%|██████████| 112/112 [00:27<00:00,  4.04it/s]\n",
            "                 Class     Images  Instances      Box(P          R      mAP50  mAP50-95): 100%|██████████| 6/6 [00:01<00:00,  4.19it/s]"
          ]
        },
        {
          "output_type": "stream",
          "name": "stdout",
          "text": [
            "                   all        171        959       0.75      0.694      0.735      0.424\n"
          ]
        },
        {
          "output_type": "stream",
          "name": "stderr",
          "text": [
            "\n"
          ]
        },
        {
          "output_type": "stream",
          "name": "stdout",
          "text": [
            "\n",
            "      Epoch    GPU_mem   box_loss   cls_loss   dfl_loss  Instances       Size\n"
          ]
        },
        {
          "output_type": "stream",
          "name": "stderr",
          "text": [
            "      49/50      4.82G      1.223     0.7126      1.333         12        640: 100%|██████████| 112/112 [00:28<00:00,  3.90it/s]\n",
            "                 Class     Images  Instances      Box(P          R      mAP50  mAP50-95): 100%|██████████| 6/6 [00:01<00:00,  3.42it/s]"
          ]
        },
        {
          "output_type": "stream",
          "name": "stdout",
          "text": [
            "                   all        171        959      0.748       0.69      0.724      0.438\n"
          ]
        },
        {
          "output_type": "stream",
          "name": "stderr",
          "text": [
            "\n"
          ]
        },
        {
          "output_type": "stream",
          "name": "stdout",
          "text": [
            "\n",
            "      Epoch    GPU_mem   box_loss   cls_loss   dfl_loss  Instances       Size\n"
          ]
        },
        {
          "output_type": "stream",
          "name": "stderr",
          "text": [
            "      50/50      4.84G      1.211     0.6963      1.321         11        640: 100%|██████████| 112/112 [00:27<00:00,  4.04it/s]\n",
            "                 Class     Images  Instances      Box(P          R      mAP50  mAP50-95): 100%|██████████| 6/6 [00:01<00:00,  4.49it/s]"
          ]
        },
        {
          "output_type": "stream",
          "name": "stdout",
          "text": [
            "                   all        171        959      0.766       0.69       0.73      0.441\n"
          ]
        },
        {
          "output_type": "stream",
          "name": "stderr",
          "text": [
            "\n"
          ]
        },
        {
          "output_type": "stream",
          "name": "stdout",
          "text": [
            "\n",
            "50 epochs completed in 0.431 hours.\n",
            "Optimizer stripped from runs/detect/train/weights/last.pt, 6.2MB\n",
            "Optimizer stripped from runs/detect/train/weights/best.pt, 6.2MB\n",
            "\n",
            "Validating runs/detect/train/weights/best.pt...\n",
            "Ultralytics 8.3.170 🚀 Python-3.11.13 torch-2.6.0+cu124 CUDA:0 (Tesla T4, 15095MiB)\n",
            "YOLOv8n summary (fused): 72 layers, 3,006,233 parameters, 0 gradients, 8.1 GFLOPs\n"
          ]
        },
        {
          "output_type": "stream",
          "name": "stderr",
          "text": [
            "                 Class     Images  Instances      Box(P          R      mAP50  mAP50-95): 100%|██████████| 6/6 [00:03<00:00,  1.51it/s]\n"
          ]
        },
        {
          "output_type": "stream",
          "name": "stdout",
          "text": [
            "                   all        171        959      0.766       0.69       0.73      0.441\n",
            " mask_weared_incorrect         23         28      0.695       0.57      0.583      0.352\n",
            "             with_mask        149        748      0.872      0.865      0.901      0.564\n",
            "          without_mask         60        183       0.73      0.634      0.706      0.409\n",
            "Speed: 0.5ms preprocess, 2.6ms inference, 0.0ms loss, 5.6ms postprocess per image\n",
            "Results saved to \u001b[1mruns/detect/train\u001b[0m\n"
          ]
        },
        {
          "output_type": "execute_result",
          "data": {
            "text/plain": [
              "ultralytics.utils.metrics.DetMetrics object with attributes:\n",
              "\n",
              "ap_class_index: array([0, 1, 2])\n",
              "box: ultralytics.utils.metrics.Metric object\n",
              "confusion_matrix: <ultralytics.utils.metrics.ConfusionMatrix object at 0x7d844bcc8390>\n",
              "curves: ['Precision-Recall(B)', 'F1-Confidence(B)', 'Precision-Confidence(B)', 'Recall-Confidence(B)']\n",
              "curves_results: [[array([          0,    0.001001,    0.002002,    0.003003,    0.004004,    0.005005,    0.006006,    0.007007,    0.008008,    0.009009,     0.01001,    0.011011,    0.012012,    0.013013,    0.014014,    0.015015,    0.016016,    0.017017,    0.018018,    0.019019,     0.02002,    0.021021,    0.022022,    0.023023,\n",
              "          0.024024,    0.025025,    0.026026,    0.027027,    0.028028,    0.029029,     0.03003,    0.031031,    0.032032,    0.033033,    0.034034,    0.035035,    0.036036,    0.037037,    0.038038,    0.039039,     0.04004,    0.041041,    0.042042,    0.043043,    0.044044,    0.045045,    0.046046,    0.047047,\n",
              "          0.048048,    0.049049,     0.05005,    0.051051,    0.052052,    0.053053,    0.054054,    0.055055,    0.056056,    0.057057,    0.058058,    0.059059,     0.06006,    0.061061,    0.062062,    0.063063,    0.064064,    0.065065,    0.066066,    0.067067,    0.068068,    0.069069,     0.07007,    0.071071,\n",
              "          0.072072,    0.073073,    0.074074,    0.075075,    0.076076,    0.077077,    0.078078,    0.079079,     0.08008,    0.081081,    0.082082,    0.083083,    0.084084,    0.085085,    0.086086,    0.087087,    0.088088,    0.089089,     0.09009,    0.091091,    0.092092,    0.093093,    0.094094,    0.095095,\n",
              "          0.096096,    0.097097,    0.098098,    0.099099,      0.1001,      0.1011,      0.1021,      0.1031,      0.1041,     0.10511,     0.10611,     0.10711,     0.10811,     0.10911,     0.11011,     0.11111,     0.11211,     0.11311,     0.11411,     0.11512,     0.11612,     0.11712,     0.11812,     0.11912,\n",
              "           0.12012,     0.12112,     0.12212,     0.12312,     0.12412,     0.12513,     0.12613,     0.12713,     0.12813,     0.12913,     0.13013,     0.13113,     0.13213,     0.13313,     0.13413,     0.13514,     0.13614,     0.13714,     0.13814,     0.13914,     0.14014,     0.14114,     0.14214,     0.14314,\n",
              "           0.14414,     0.14515,     0.14615,     0.14715,     0.14815,     0.14915,     0.15015,     0.15115,     0.15215,     0.15315,     0.15415,     0.15516,     0.15616,     0.15716,     0.15816,     0.15916,     0.16016,     0.16116,     0.16216,     0.16316,     0.16416,     0.16517,     0.16617,     0.16717,\n",
              "           0.16817,     0.16917,     0.17017,     0.17117,     0.17217,     0.17317,     0.17417,     0.17518,     0.17618,     0.17718,     0.17818,     0.17918,     0.18018,     0.18118,     0.18218,     0.18318,     0.18418,     0.18519,     0.18619,     0.18719,     0.18819,     0.18919,     0.19019,     0.19119,\n",
              "           0.19219,     0.19319,     0.19419,      0.1952,      0.1962,      0.1972,      0.1982,      0.1992,      0.2002,      0.2012,      0.2022,      0.2032,      0.2042,     0.20521,     0.20621,     0.20721,     0.20821,     0.20921,     0.21021,     0.21121,     0.21221,     0.21321,     0.21421,     0.21522,\n",
              "           0.21622,     0.21722,     0.21822,     0.21922,     0.22022,     0.22122,     0.22222,     0.22322,     0.22422,     0.22523,     0.22623,     0.22723,     0.22823,     0.22923,     0.23023,     0.23123,     0.23223,     0.23323,     0.23423,     0.23524,     0.23624,     0.23724,     0.23824,     0.23924,\n",
              "           0.24024,     0.24124,     0.24224,     0.24324,     0.24424,     0.24525,     0.24625,     0.24725,     0.24825,     0.24925,     0.25025,     0.25125,     0.25225,     0.25325,     0.25425,     0.25526,     0.25626,     0.25726,     0.25826,     0.25926,     0.26026,     0.26126,     0.26226,     0.26326,\n",
              "           0.26426,     0.26527,     0.26627,     0.26727,     0.26827,     0.26927,     0.27027,     0.27127,     0.27227,     0.27327,     0.27427,     0.27528,     0.27628,     0.27728,     0.27828,     0.27928,     0.28028,     0.28128,     0.28228,     0.28328,     0.28428,     0.28529,     0.28629,     0.28729,\n",
              "           0.28829,     0.28929,     0.29029,     0.29129,     0.29229,     0.29329,     0.29429,      0.2953,      0.2963,      0.2973,      0.2983,      0.2993,      0.3003,      0.3013,      0.3023,      0.3033,      0.3043,     0.30531,     0.30631,     0.30731,     0.30831,     0.30931,     0.31031,     0.31131,\n",
              "           0.31231,     0.31331,     0.31431,     0.31532,     0.31632,     0.31732,     0.31832,     0.31932,     0.32032,     0.32132,     0.32232,     0.32332,     0.32432,     0.32533,     0.32633,     0.32733,     0.32833,     0.32933,     0.33033,     0.33133,     0.33233,     0.33333,     0.33433,     0.33534,\n",
              "           0.33634,     0.33734,     0.33834,     0.33934,     0.34034,     0.34134,     0.34234,     0.34334,     0.34434,     0.34535,     0.34635,     0.34735,     0.34835,     0.34935,     0.35035,     0.35135,     0.35235,     0.35335,     0.35435,     0.35536,     0.35636,     0.35736,     0.35836,     0.35936,\n",
              "           0.36036,     0.36136,     0.36236,     0.36336,     0.36436,     0.36537,     0.36637,     0.36737,     0.36837,     0.36937,     0.37037,     0.37137,     0.37237,     0.37337,     0.37437,     0.37538,     0.37638,     0.37738,     0.37838,     0.37938,     0.38038,     0.38138,     0.38238,     0.38338,\n",
              "           0.38438,     0.38539,     0.38639,     0.38739,     0.38839,     0.38939,     0.39039,     0.39139,     0.39239,     0.39339,     0.39439,      0.3954,      0.3964,      0.3974,      0.3984,      0.3994,      0.4004,      0.4014,      0.4024,      0.4034,      0.4044,     0.40541,     0.40641,     0.40741,\n",
              "           0.40841,     0.40941,     0.41041,     0.41141,     0.41241,     0.41341,     0.41441,     0.41542,     0.41642,     0.41742,     0.41842,     0.41942,     0.42042,     0.42142,     0.42242,     0.42342,     0.42442,     0.42543,     0.42643,     0.42743,     0.42843,     0.42943,     0.43043,     0.43143,\n",
              "           0.43243,     0.43343,     0.43443,     0.43544,     0.43644,     0.43744,     0.43844,     0.43944,     0.44044,     0.44144,     0.44244,     0.44344,     0.44444,     0.44545,     0.44645,     0.44745,     0.44845,     0.44945,     0.45045,     0.45145,     0.45245,     0.45345,     0.45445,     0.45546,\n",
              "           0.45646,     0.45746,     0.45846,     0.45946,     0.46046,     0.46146,     0.46246,     0.46346,     0.46446,     0.46547,     0.46647,     0.46747,     0.46847,     0.46947,     0.47047,     0.47147,     0.47247,     0.47347,     0.47447,     0.47548,     0.47648,     0.47748,     0.47848,     0.47948,\n",
              "           0.48048,     0.48148,     0.48248,     0.48348,     0.48448,     0.48549,     0.48649,     0.48749,     0.48849,     0.48949,     0.49049,     0.49149,     0.49249,     0.49349,     0.49449,      0.4955,      0.4965,      0.4975,      0.4985,      0.4995,      0.5005,      0.5015,      0.5025,      0.5035,\n",
              "            0.5045,     0.50551,     0.50651,     0.50751,     0.50851,     0.50951,     0.51051,     0.51151,     0.51251,     0.51351,     0.51451,     0.51552,     0.51652,     0.51752,     0.51852,     0.51952,     0.52052,     0.52152,     0.52252,     0.52352,     0.52452,     0.52553,     0.52653,     0.52753,\n",
              "           0.52853,     0.52953,     0.53053,     0.53153,     0.53253,     0.53353,     0.53453,     0.53554,     0.53654,     0.53754,     0.53854,     0.53954,     0.54054,     0.54154,     0.54254,     0.54354,     0.54454,     0.54555,     0.54655,     0.54755,     0.54855,     0.54955,     0.55055,     0.55155,\n",
              "           0.55255,     0.55355,     0.55455,     0.55556,     0.55656,     0.55756,     0.55856,     0.55956,     0.56056,     0.56156,     0.56256,     0.56356,     0.56456,     0.56557,     0.56657,     0.56757,     0.56857,     0.56957,     0.57057,     0.57157,     0.57257,     0.57357,     0.57457,     0.57558,\n",
              "           0.57658,     0.57758,     0.57858,     0.57958,     0.58058,     0.58158,     0.58258,     0.58358,     0.58458,     0.58559,     0.58659,     0.58759,     0.58859,     0.58959,     0.59059,     0.59159,     0.59259,     0.59359,     0.59459,      0.5956,      0.5966,      0.5976,      0.5986,      0.5996,\n",
              "            0.6006,      0.6016,      0.6026,      0.6036,      0.6046,     0.60561,     0.60661,     0.60761,     0.60861,     0.60961,     0.61061,     0.61161,     0.61261,     0.61361,     0.61461,     0.61562,     0.61662,     0.61762,     0.61862,     0.61962,     0.62062,     0.62162,     0.62262,     0.62362,\n",
              "           0.62462,     0.62563,     0.62663,     0.62763,     0.62863,     0.62963,     0.63063,     0.63163,     0.63263,     0.63363,     0.63463,     0.63564,     0.63664,     0.63764,     0.63864,     0.63964,     0.64064,     0.64164,     0.64264,     0.64364,     0.64464,     0.64565,     0.64665,     0.64765,\n",
              "           0.64865,     0.64965,     0.65065,     0.65165,     0.65265,     0.65365,     0.65465,     0.65566,     0.65666,     0.65766,     0.65866,     0.65966,     0.66066,     0.66166,     0.66266,     0.66366,     0.66466,     0.66567,     0.66667,     0.66767,     0.66867,     0.66967,     0.67067,     0.67167,\n",
              "           0.67267,     0.67367,     0.67467,     0.67568,     0.67668,     0.67768,     0.67868,     0.67968,     0.68068,     0.68168,     0.68268,     0.68368,     0.68468,     0.68569,     0.68669,     0.68769,     0.68869,     0.68969,     0.69069,     0.69169,     0.69269,     0.69369,     0.69469,      0.6957,\n",
              "            0.6967,      0.6977,      0.6987,      0.6997,      0.7007,      0.7017,      0.7027,      0.7037,      0.7047,     0.70571,     0.70671,     0.70771,     0.70871,     0.70971,     0.71071,     0.71171,     0.71271,     0.71371,     0.71471,     0.71572,     0.71672,     0.71772,     0.71872,     0.71972,\n",
              "           0.72072,     0.72172,     0.72272,     0.72372,     0.72472,     0.72573,     0.72673,     0.72773,     0.72873,     0.72973,     0.73073,     0.73173,     0.73273,     0.73373,     0.73473,     0.73574,     0.73674,     0.73774,     0.73874,     0.73974,     0.74074,     0.74174,     0.74274,     0.74374,\n",
              "           0.74474,     0.74575,     0.74675,     0.74775,     0.74875,     0.74975,     0.75075,     0.75175,     0.75275,     0.75375,     0.75475,     0.75576,     0.75676,     0.75776,     0.75876,     0.75976,     0.76076,     0.76176,     0.76276,     0.76376,     0.76476,     0.76577,     0.76677,     0.76777,\n",
              "           0.76877,     0.76977,     0.77077,     0.77177,     0.77277,     0.77377,     0.77477,     0.77578,     0.77678,     0.77778,     0.77878,     0.77978,     0.78078,     0.78178,     0.78278,     0.78378,     0.78478,     0.78579,     0.78679,     0.78779,     0.78879,     0.78979,     0.79079,     0.79179,\n",
              "           0.79279,     0.79379,     0.79479,      0.7958,      0.7968,      0.7978,      0.7988,      0.7998,      0.8008,      0.8018,      0.8028,      0.8038,      0.8048,     0.80581,     0.80681,     0.80781,     0.80881,     0.80981,     0.81081,     0.81181,     0.81281,     0.81381,     0.81481,     0.81582,\n",
              "           0.81682,     0.81782,     0.81882,     0.81982,     0.82082,     0.82182,     0.82282,     0.82382,     0.82482,     0.82583,     0.82683,     0.82783,     0.82883,     0.82983,     0.83083,     0.83183,     0.83283,     0.83383,     0.83483,     0.83584,     0.83684,     0.83784,     0.83884,     0.83984,\n",
              "           0.84084,     0.84184,     0.84284,     0.84384,     0.84484,     0.84585,     0.84685,     0.84785,     0.84885,     0.84985,     0.85085,     0.85185,     0.85285,     0.85385,     0.85485,     0.85586,     0.85686,     0.85786,     0.85886,     0.85986,     0.86086,     0.86186,     0.86286,     0.86386,\n",
              "           0.86486,     0.86587,     0.86687,     0.86787,     0.86887,     0.86987,     0.87087,     0.87187,     0.87287,     0.87387,     0.87487,     0.87588,     0.87688,     0.87788,     0.87888,     0.87988,     0.88088,     0.88188,     0.88288,     0.88388,     0.88488,     0.88589,     0.88689,     0.88789,\n",
              "           0.88889,     0.88989,     0.89089,     0.89189,     0.89289,     0.89389,     0.89489,      0.8959,      0.8969,      0.8979,      0.8989,      0.8999,      0.9009,      0.9019,      0.9029,      0.9039,      0.9049,     0.90591,     0.90691,     0.90791,     0.90891,     0.90991,     0.91091,     0.91191,\n",
              "           0.91291,     0.91391,     0.91491,     0.91592,     0.91692,     0.91792,     0.91892,     0.91992,     0.92092,     0.92192,     0.92292,     0.92392,     0.92492,     0.92593,     0.92693,     0.92793,     0.92893,     0.92993,     0.93093,     0.93193,     0.93293,     0.93393,     0.93493,     0.93594,\n",
              "           0.93694,     0.93794,     0.93894,     0.93994,     0.94094,     0.94194,     0.94294,     0.94394,     0.94494,     0.94595,     0.94695,     0.94795,     0.94895,     0.94995,     0.95095,     0.95195,     0.95295,     0.95395,     0.95495,     0.95596,     0.95696,     0.95796,     0.95896,     0.95996,\n",
              "           0.96096,     0.96196,     0.96296,     0.96396,     0.96496,     0.96597,     0.96697,     0.96797,     0.96897,     0.96997,     0.97097,     0.97197,     0.97297,     0.97397,     0.97497,     0.97598,     0.97698,     0.97798,     0.97898,     0.97998,     0.98098,     0.98198,     0.98298,     0.98398,\n",
              "           0.98498,     0.98599,     0.98699,     0.98799,     0.98899,     0.98999,     0.99099,     0.99199,     0.99299,     0.99399,     0.99499,       0.996,       0.997,       0.998,       0.999,           1]), array([[          1,           1,           1, ...,  0.00061238,  0.00030619,           0],\n",
              "       [          1,           1,           1, ...,   0.0037235,   0.0018618,           0],\n",
              "       [          1,           1,           1, ...,  0.00089665,  0.00044833,           0]]), 'Recall', 'Precision'], [array([          0,    0.001001,    0.002002,    0.003003,    0.004004,    0.005005,    0.006006,    0.007007,    0.008008,    0.009009,     0.01001,    0.011011,    0.012012,    0.013013,    0.014014,    0.015015,    0.016016,    0.017017,    0.018018,    0.019019,     0.02002,    0.021021,    0.022022,    0.023023,\n",
              "          0.024024,    0.025025,    0.026026,    0.027027,    0.028028,    0.029029,     0.03003,    0.031031,    0.032032,    0.033033,    0.034034,    0.035035,    0.036036,    0.037037,    0.038038,    0.039039,     0.04004,    0.041041,    0.042042,    0.043043,    0.044044,    0.045045,    0.046046,    0.047047,\n",
              "          0.048048,    0.049049,     0.05005,    0.051051,    0.052052,    0.053053,    0.054054,    0.055055,    0.056056,    0.057057,    0.058058,    0.059059,     0.06006,    0.061061,    0.062062,    0.063063,    0.064064,    0.065065,    0.066066,    0.067067,    0.068068,    0.069069,     0.07007,    0.071071,\n",
              "          0.072072,    0.073073,    0.074074,    0.075075,    0.076076,    0.077077,    0.078078,    0.079079,     0.08008,    0.081081,    0.082082,    0.083083,    0.084084,    0.085085,    0.086086,    0.087087,    0.088088,    0.089089,     0.09009,    0.091091,    0.092092,    0.093093,    0.094094,    0.095095,\n",
              "          0.096096,    0.097097,    0.098098,    0.099099,      0.1001,      0.1011,      0.1021,      0.1031,      0.1041,     0.10511,     0.10611,     0.10711,     0.10811,     0.10911,     0.11011,     0.11111,     0.11211,     0.11311,     0.11411,     0.11512,     0.11612,     0.11712,     0.11812,     0.11912,\n",
              "           0.12012,     0.12112,     0.12212,     0.12312,     0.12412,     0.12513,     0.12613,     0.12713,     0.12813,     0.12913,     0.13013,     0.13113,     0.13213,     0.13313,     0.13413,     0.13514,     0.13614,     0.13714,     0.13814,     0.13914,     0.14014,     0.14114,     0.14214,     0.14314,\n",
              "           0.14414,     0.14515,     0.14615,     0.14715,     0.14815,     0.14915,     0.15015,     0.15115,     0.15215,     0.15315,     0.15415,     0.15516,     0.15616,     0.15716,     0.15816,     0.15916,     0.16016,     0.16116,     0.16216,     0.16316,     0.16416,     0.16517,     0.16617,     0.16717,\n",
              "           0.16817,     0.16917,     0.17017,     0.17117,     0.17217,     0.17317,     0.17417,     0.17518,     0.17618,     0.17718,     0.17818,     0.17918,     0.18018,     0.18118,     0.18218,     0.18318,     0.18418,     0.18519,     0.18619,     0.18719,     0.18819,     0.18919,     0.19019,     0.19119,\n",
              "           0.19219,     0.19319,     0.19419,      0.1952,      0.1962,      0.1972,      0.1982,      0.1992,      0.2002,      0.2012,      0.2022,      0.2032,      0.2042,     0.20521,     0.20621,     0.20721,     0.20821,     0.20921,     0.21021,     0.21121,     0.21221,     0.21321,     0.21421,     0.21522,\n",
              "           0.21622,     0.21722,     0.21822,     0.21922,     0.22022,     0.22122,     0.22222,     0.22322,     0.22422,     0.22523,     0.22623,     0.22723,     0.22823,     0.22923,     0.23023,     0.23123,     0.23223,     0.23323,     0.23423,     0.23524,     0.23624,     0.23724,     0.23824,     0.23924,\n",
              "           0.24024,     0.24124,     0.24224,     0.24324,     0.24424,     0.24525,     0.24625,     0.24725,     0.24825,     0.24925,     0.25025,     0.25125,     0.25225,     0.25325,     0.25425,     0.25526,     0.25626,     0.25726,     0.25826,     0.25926,     0.26026,     0.26126,     0.26226,     0.26326,\n",
              "           0.26426,     0.26527,     0.26627,     0.26727,     0.26827,     0.26927,     0.27027,     0.27127,     0.27227,     0.27327,     0.27427,     0.27528,     0.27628,     0.27728,     0.27828,     0.27928,     0.28028,     0.28128,     0.28228,     0.28328,     0.28428,     0.28529,     0.28629,     0.28729,\n",
              "           0.28829,     0.28929,     0.29029,     0.29129,     0.29229,     0.29329,     0.29429,      0.2953,      0.2963,      0.2973,      0.2983,      0.2993,      0.3003,      0.3013,      0.3023,      0.3033,      0.3043,     0.30531,     0.30631,     0.30731,     0.30831,     0.30931,     0.31031,     0.31131,\n",
              "           0.31231,     0.31331,     0.31431,     0.31532,     0.31632,     0.31732,     0.31832,     0.31932,     0.32032,     0.32132,     0.32232,     0.32332,     0.32432,     0.32533,     0.32633,     0.32733,     0.32833,     0.32933,     0.33033,     0.33133,     0.33233,     0.33333,     0.33433,     0.33534,\n",
              "           0.33634,     0.33734,     0.33834,     0.33934,     0.34034,     0.34134,     0.34234,     0.34334,     0.34434,     0.34535,     0.34635,     0.34735,     0.34835,     0.34935,     0.35035,     0.35135,     0.35235,     0.35335,     0.35435,     0.35536,     0.35636,     0.35736,     0.35836,     0.35936,\n",
              "           0.36036,     0.36136,     0.36236,     0.36336,     0.36436,     0.36537,     0.36637,     0.36737,     0.36837,     0.36937,     0.37037,     0.37137,     0.37237,     0.37337,     0.37437,     0.37538,     0.37638,     0.37738,     0.37838,     0.37938,     0.38038,     0.38138,     0.38238,     0.38338,\n",
              "           0.38438,     0.38539,     0.38639,     0.38739,     0.38839,     0.38939,     0.39039,     0.39139,     0.39239,     0.39339,     0.39439,      0.3954,      0.3964,      0.3974,      0.3984,      0.3994,      0.4004,      0.4014,      0.4024,      0.4034,      0.4044,     0.40541,     0.40641,     0.40741,\n",
              "           0.40841,     0.40941,     0.41041,     0.41141,     0.41241,     0.41341,     0.41441,     0.41542,     0.41642,     0.41742,     0.41842,     0.41942,     0.42042,     0.42142,     0.42242,     0.42342,     0.42442,     0.42543,     0.42643,     0.42743,     0.42843,     0.42943,     0.43043,     0.43143,\n",
              "           0.43243,     0.43343,     0.43443,     0.43544,     0.43644,     0.43744,     0.43844,     0.43944,     0.44044,     0.44144,     0.44244,     0.44344,     0.44444,     0.44545,     0.44645,     0.44745,     0.44845,     0.44945,     0.45045,     0.45145,     0.45245,     0.45345,     0.45445,     0.45546,\n",
              "           0.45646,     0.45746,     0.45846,     0.45946,     0.46046,     0.46146,     0.46246,     0.46346,     0.46446,     0.46547,     0.46647,     0.46747,     0.46847,     0.46947,     0.47047,     0.47147,     0.47247,     0.47347,     0.47447,     0.47548,     0.47648,     0.47748,     0.47848,     0.47948,\n",
              "           0.48048,     0.48148,     0.48248,     0.48348,     0.48448,     0.48549,     0.48649,     0.48749,     0.48849,     0.48949,     0.49049,     0.49149,     0.49249,     0.49349,     0.49449,      0.4955,      0.4965,      0.4975,      0.4985,      0.4995,      0.5005,      0.5015,      0.5025,      0.5035,\n",
              "            0.5045,     0.50551,     0.50651,     0.50751,     0.50851,     0.50951,     0.51051,     0.51151,     0.51251,     0.51351,     0.51451,     0.51552,     0.51652,     0.51752,     0.51852,     0.51952,     0.52052,     0.52152,     0.52252,     0.52352,     0.52452,     0.52553,     0.52653,     0.52753,\n",
              "           0.52853,     0.52953,     0.53053,     0.53153,     0.53253,     0.53353,     0.53453,     0.53554,     0.53654,     0.53754,     0.53854,     0.53954,     0.54054,     0.54154,     0.54254,     0.54354,     0.54454,     0.54555,     0.54655,     0.54755,     0.54855,     0.54955,     0.55055,     0.55155,\n",
              "           0.55255,     0.55355,     0.55455,     0.55556,     0.55656,     0.55756,     0.55856,     0.55956,     0.56056,     0.56156,     0.56256,     0.56356,     0.56456,     0.56557,     0.56657,     0.56757,     0.56857,     0.56957,     0.57057,     0.57157,     0.57257,     0.57357,     0.57457,     0.57558,\n",
              "           0.57658,     0.57758,     0.57858,     0.57958,     0.58058,     0.58158,     0.58258,     0.58358,     0.58458,     0.58559,     0.58659,     0.58759,     0.58859,     0.58959,     0.59059,     0.59159,     0.59259,     0.59359,     0.59459,      0.5956,      0.5966,      0.5976,      0.5986,      0.5996,\n",
              "            0.6006,      0.6016,      0.6026,      0.6036,      0.6046,     0.60561,     0.60661,     0.60761,     0.60861,     0.60961,     0.61061,     0.61161,     0.61261,     0.61361,     0.61461,     0.61562,     0.61662,     0.61762,     0.61862,     0.61962,     0.62062,     0.62162,     0.62262,     0.62362,\n",
              "           0.62462,     0.62563,     0.62663,     0.62763,     0.62863,     0.62963,     0.63063,     0.63163,     0.63263,     0.63363,     0.63463,     0.63564,     0.63664,     0.63764,     0.63864,     0.63964,     0.64064,     0.64164,     0.64264,     0.64364,     0.64464,     0.64565,     0.64665,     0.64765,\n",
              "           0.64865,     0.64965,     0.65065,     0.65165,     0.65265,     0.65365,     0.65465,     0.65566,     0.65666,     0.65766,     0.65866,     0.65966,     0.66066,     0.66166,     0.66266,     0.66366,     0.66466,     0.66567,     0.66667,     0.66767,     0.66867,     0.66967,     0.67067,     0.67167,\n",
              "           0.67267,     0.67367,     0.67467,     0.67568,     0.67668,     0.67768,     0.67868,     0.67968,     0.68068,     0.68168,     0.68268,     0.68368,     0.68468,     0.68569,     0.68669,     0.68769,     0.68869,     0.68969,     0.69069,     0.69169,     0.69269,     0.69369,     0.69469,      0.6957,\n",
              "            0.6967,      0.6977,      0.6987,      0.6997,      0.7007,      0.7017,      0.7027,      0.7037,      0.7047,     0.70571,     0.70671,     0.70771,     0.70871,     0.70971,     0.71071,     0.71171,     0.71271,     0.71371,     0.71471,     0.71572,     0.71672,     0.71772,     0.71872,     0.71972,\n",
              "           0.72072,     0.72172,     0.72272,     0.72372,     0.72472,     0.72573,     0.72673,     0.72773,     0.72873,     0.72973,     0.73073,     0.73173,     0.73273,     0.73373,     0.73473,     0.73574,     0.73674,     0.73774,     0.73874,     0.73974,     0.74074,     0.74174,     0.74274,     0.74374,\n",
              "           0.74474,     0.74575,     0.74675,     0.74775,     0.74875,     0.74975,     0.75075,     0.75175,     0.75275,     0.75375,     0.75475,     0.75576,     0.75676,     0.75776,     0.75876,     0.75976,     0.76076,     0.76176,     0.76276,     0.76376,     0.76476,     0.76577,     0.76677,     0.76777,\n",
              "           0.76877,     0.76977,     0.77077,     0.77177,     0.77277,     0.77377,     0.77477,     0.77578,     0.77678,     0.77778,     0.77878,     0.77978,     0.78078,     0.78178,     0.78278,     0.78378,     0.78478,     0.78579,     0.78679,     0.78779,     0.78879,     0.78979,     0.79079,     0.79179,\n",
              "           0.79279,     0.79379,     0.79479,      0.7958,      0.7968,      0.7978,      0.7988,      0.7998,      0.8008,      0.8018,      0.8028,      0.8038,      0.8048,     0.80581,     0.80681,     0.80781,     0.80881,     0.80981,     0.81081,     0.81181,     0.81281,     0.81381,     0.81481,     0.81582,\n",
              "           0.81682,     0.81782,     0.81882,     0.81982,     0.82082,     0.82182,     0.82282,     0.82382,     0.82482,     0.82583,     0.82683,     0.82783,     0.82883,     0.82983,     0.83083,     0.83183,     0.83283,     0.83383,     0.83483,     0.83584,     0.83684,     0.83784,     0.83884,     0.83984,\n",
              "           0.84084,     0.84184,     0.84284,     0.84384,     0.84484,     0.84585,     0.84685,     0.84785,     0.84885,     0.84985,     0.85085,     0.85185,     0.85285,     0.85385,     0.85485,     0.85586,     0.85686,     0.85786,     0.85886,     0.85986,     0.86086,     0.86186,     0.86286,     0.86386,\n",
              "           0.86486,     0.86587,     0.86687,     0.86787,     0.86887,     0.86987,     0.87087,     0.87187,     0.87287,     0.87387,     0.87487,     0.87588,     0.87688,     0.87788,     0.87888,     0.87988,     0.88088,     0.88188,     0.88288,     0.88388,     0.88488,     0.88589,     0.88689,     0.88789,\n",
              "           0.88889,     0.88989,     0.89089,     0.89189,     0.89289,     0.89389,     0.89489,      0.8959,      0.8969,      0.8979,      0.8989,      0.8999,      0.9009,      0.9019,      0.9029,      0.9039,      0.9049,     0.90591,     0.90691,     0.90791,     0.90891,     0.90991,     0.91091,     0.91191,\n",
              "           0.91291,     0.91391,     0.91491,     0.91592,     0.91692,     0.91792,     0.91892,     0.91992,     0.92092,     0.92192,     0.92292,     0.92392,     0.92492,     0.92593,     0.92693,     0.92793,     0.92893,     0.92993,     0.93093,     0.93193,     0.93293,     0.93393,     0.93493,     0.93594,\n",
              "           0.93694,     0.93794,     0.93894,     0.93994,     0.94094,     0.94194,     0.94294,     0.94394,     0.94494,     0.94595,     0.94695,     0.94795,     0.94895,     0.94995,     0.95095,     0.95195,     0.95295,     0.95395,     0.95495,     0.95596,     0.95696,     0.95796,     0.95896,     0.95996,\n",
              "           0.96096,     0.96196,     0.96296,     0.96396,     0.96496,     0.96597,     0.96697,     0.96797,     0.96897,     0.96997,     0.97097,     0.97197,     0.97297,     0.97397,     0.97497,     0.97598,     0.97698,     0.97798,     0.97898,     0.97998,     0.98098,     0.98198,     0.98298,     0.98398,\n",
              "           0.98498,     0.98599,     0.98699,     0.98799,     0.98899,     0.98999,     0.99099,     0.99199,     0.99299,     0.99399,     0.99499,       0.996,       0.997,       0.998,       0.999,           1]), array([[   0.042693,    0.042693,    0.059832, ...,           0,           0,           0],\n",
              "       [    0.18404,     0.18404,     0.24083, ...,           0,           0,           0],\n",
              "       [   0.097151,    0.097151,      0.1296, ...,           0,           0,           0]]), 'Confidence', 'F1'], [array([          0,    0.001001,    0.002002,    0.003003,    0.004004,    0.005005,    0.006006,    0.007007,    0.008008,    0.009009,     0.01001,    0.011011,    0.012012,    0.013013,    0.014014,    0.015015,    0.016016,    0.017017,    0.018018,    0.019019,     0.02002,    0.021021,    0.022022,    0.023023,\n",
              "          0.024024,    0.025025,    0.026026,    0.027027,    0.028028,    0.029029,     0.03003,    0.031031,    0.032032,    0.033033,    0.034034,    0.035035,    0.036036,    0.037037,    0.038038,    0.039039,     0.04004,    0.041041,    0.042042,    0.043043,    0.044044,    0.045045,    0.046046,    0.047047,\n",
              "          0.048048,    0.049049,     0.05005,    0.051051,    0.052052,    0.053053,    0.054054,    0.055055,    0.056056,    0.057057,    0.058058,    0.059059,     0.06006,    0.061061,    0.062062,    0.063063,    0.064064,    0.065065,    0.066066,    0.067067,    0.068068,    0.069069,     0.07007,    0.071071,\n",
              "          0.072072,    0.073073,    0.074074,    0.075075,    0.076076,    0.077077,    0.078078,    0.079079,     0.08008,    0.081081,    0.082082,    0.083083,    0.084084,    0.085085,    0.086086,    0.087087,    0.088088,    0.089089,     0.09009,    0.091091,    0.092092,    0.093093,    0.094094,    0.095095,\n",
              "          0.096096,    0.097097,    0.098098,    0.099099,      0.1001,      0.1011,      0.1021,      0.1031,      0.1041,     0.10511,     0.10611,     0.10711,     0.10811,     0.10911,     0.11011,     0.11111,     0.11211,     0.11311,     0.11411,     0.11512,     0.11612,     0.11712,     0.11812,     0.11912,\n",
              "           0.12012,     0.12112,     0.12212,     0.12312,     0.12412,     0.12513,     0.12613,     0.12713,     0.12813,     0.12913,     0.13013,     0.13113,     0.13213,     0.13313,     0.13413,     0.13514,     0.13614,     0.13714,     0.13814,     0.13914,     0.14014,     0.14114,     0.14214,     0.14314,\n",
              "           0.14414,     0.14515,     0.14615,     0.14715,     0.14815,     0.14915,     0.15015,     0.15115,     0.15215,     0.15315,     0.15415,     0.15516,     0.15616,     0.15716,     0.15816,     0.15916,     0.16016,     0.16116,     0.16216,     0.16316,     0.16416,     0.16517,     0.16617,     0.16717,\n",
              "           0.16817,     0.16917,     0.17017,     0.17117,     0.17217,     0.17317,     0.17417,     0.17518,     0.17618,     0.17718,     0.17818,     0.17918,     0.18018,     0.18118,     0.18218,     0.18318,     0.18418,     0.18519,     0.18619,     0.18719,     0.18819,     0.18919,     0.19019,     0.19119,\n",
              "           0.19219,     0.19319,     0.19419,      0.1952,      0.1962,      0.1972,      0.1982,      0.1992,      0.2002,      0.2012,      0.2022,      0.2032,      0.2042,     0.20521,     0.20621,     0.20721,     0.20821,     0.20921,     0.21021,     0.21121,     0.21221,     0.21321,     0.21421,     0.21522,\n",
              "           0.21622,     0.21722,     0.21822,     0.21922,     0.22022,     0.22122,     0.22222,     0.22322,     0.22422,     0.22523,     0.22623,     0.22723,     0.22823,     0.22923,     0.23023,     0.23123,     0.23223,     0.23323,     0.23423,     0.23524,     0.23624,     0.23724,     0.23824,     0.23924,\n",
              "           0.24024,     0.24124,     0.24224,     0.24324,     0.24424,     0.24525,     0.24625,     0.24725,     0.24825,     0.24925,     0.25025,     0.25125,     0.25225,     0.25325,     0.25425,     0.25526,     0.25626,     0.25726,     0.25826,     0.25926,     0.26026,     0.26126,     0.26226,     0.26326,\n",
              "           0.26426,     0.26527,     0.26627,     0.26727,     0.26827,     0.26927,     0.27027,     0.27127,     0.27227,     0.27327,     0.27427,     0.27528,     0.27628,     0.27728,     0.27828,     0.27928,     0.28028,     0.28128,     0.28228,     0.28328,     0.28428,     0.28529,     0.28629,     0.28729,\n",
              "           0.28829,     0.28929,     0.29029,     0.29129,     0.29229,     0.29329,     0.29429,      0.2953,      0.2963,      0.2973,      0.2983,      0.2993,      0.3003,      0.3013,      0.3023,      0.3033,      0.3043,     0.30531,     0.30631,     0.30731,     0.30831,     0.30931,     0.31031,     0.31131,\n",
              "           0.31231,     0.31331,     0.31431,     0.31532,     0.31632,     0.31732,     0.31832,     0.31932,     0.32032,     0.32132,     0.32232,     0.32332,     0.32432,     0.32533,     0.32633,     0.32733,     0.32833,     0.32933,     0.33033,     0.33133,     0.33233,     0.33333,     0.33433,     0.33534,\n",
              "           0.33634,     0.33734,     0.33834,     0.33934,     0.34034,     0.34134,     0.34234,     0.34334,     0.34434,     0.34535,     0.34635,     0.34735,     0.34835,     0.34935,     0.35035,     0.35135,     0.35235,     0.35335,     0.35435,     0.35536,     0.35636,     0.35736,     0.35836,     0.35936,\n",
              "           0.36036,     0.36136,     0.36236,     0.36336,     0.36436,     0.36537,     0.36637,     0.36737,     0.36837,     0.36937,     0.37037,     0.37137,     0.37237,     0.37337,     0.37437,     0.37538,     0.37638,     0.37738,     0.37838,     0.37938,     0.38038,     0.38138,     0.38238,     0.38338,\n",
              "           0.38438,     0.38539,     0.38639,     0.38739,     0.38839,     0.38939,     0.39039,     0.39139,     0.39239,     0.39339,     0.39439,      0.3954,      0.3964,      0.3974,      0.3984,      0.3994,      0.4004,      0.4014,      0.4024,      0.4034,      0.4044,     0.40541,     0.40641,     0.40741,\n",
              "           0.40841,     0.40941,     0.41041,     0.41141,     0.41241,     0.41341,     0.41441,     0.41542,     0.41642,     0.41742,     0.41842,     0.41942,     0.42042,     0.42142,     0.42242,     0.42342,     0.42442,     0.42543,     0.42643,     0.42743,     0.42843,     0.42943,     0.43043,     0.43143,\n",
              "           0.43243,     0.43343,     0.43443,     0.43544,     0.43644,     0.43744,     0.43844,     0.43944,     0.44044,     0.44144,     0.44244,     0.44344,     0.44444,     0.44545,     0.44645,     0.44745,     0.44845,     0.44945,     0.45045,     0.45145,     0.45245,     0.45345,     0.45445,     0.45546,\n",
              "           0.45646,     0.45746,     0.45846,     0.45946,     0.46046,     0.46146,     0.46246,     0.46346,     0.46446,     0.46547,     0.46647,     0.46747,     0.46847,     0.46947,     0.47047,     0.47147,     0.47247,     0.47347,     0.47447,     0.47548,     0.47648,     0.47748,     0.47848,     0.47948,\n",
              "           0.48048,     0.48148,     0.48248,     0.48348,     0.48448,     0.48549,     0.48649,     0.48749,     0.48849,     0.48949,     0.49049,     0.49149,     0.49249,     0.49349,     0.49449,      0.4955,      0.4965,      0.4975,      0.4985,      0.4995,      0.5005,      0.5015,      0.5025,      0.5035,\n",
              "            0.5045,     0.50551,     0.50651,     0.50751,     0.50851,     0.50951,     0.51051,     0.51151,     0.51251,     0.51351,     0.51451,     0.51552,     0.51652,     0.51752,     0.51852,     0.51952,     0.52052,     0.52152,     0.52252,     0.52352,     0.52452,     0.52553,     0.52653,     0.52753,\n",
              "           0.52853,     0.52953,     0.53053,     0.53153,     0.53253,     0.53353,     0.53453,     0.53554,     0.53654,     0.53754,     0.53854,     0.53954,     0.54054,     0.54154,     0.54254,     0.54354,     0.54454,     0.54555,     0.54655,     0.54755,     0.54855,     0.54955,     0.55055,     0.55155,\n",
              "           0.55255,     0.55355,     0.55455,     0.55556,     0.55656,     0.55756,     0.55856,     0.55956,     0.56056,     0.56156,     0.56256,     0.56356,     0.56456,     0.56557,     0.56657,     0.56757,     0.56857,     0.56957,     0.57057,     0.57157,     0.57257,     0.57357,     0.57457,     0.57558,\n",
              "           0.57658,     0.57758,     0.57858,     0.57958,     0.58058,     0.58158,     0.58258,     0.58358,     0.58458,     0.58559,     0.58659,     0.58759,     0.58859,     0.58959,     0.59059,     0.59159,     0.59259,     0.59359,     0.59459,      0.5956,      0.5966,      0.5976,      0.5986,      0.5996,\n",
              "            0.6006,      0.6016,      0.6026,      0.6036,      0.6046,     0.60561,     0.60661,     0.60761,     0.60861,     0.60961,     0.61061,     0.61161,     0.61261,     0.61361,     0.61461,     0.61562,     0.61662,     0.61762,     0.61862,     0.61962,     0.62062,     0.62162,     0.62262,     0.62362,\n",
              "           0.62462,     0.62563,     0.62663,     0.62763,     0.62863,     0.62963,     0.63063,     0.63163,     0.63263,     0.63363,     0.63463,     0.63564,     0.63664,     0.63764,     0.63864,     0.63964,     0.64064,     0.64164,     0.64264,     0.64364,     0.64464,     0.64565,     0.64665,     0.64765,\n",
              "           0.64865,     0.64965,     0.65065,     0.65165,     0.65265,     0.65365,     0.65465,     0.65566,     0.65666,     0.65766,     0.65866,     0.65966,     0.66066,     0.66166,     0.66266,     0.66366,     0.66466,     0.66567,     0.66667,     0.66767,     0.66867,     0.66967,     0.67067,     0.67167,\n",
              "           0.67267,     0.67367,     0.67467,     0.67568,     0.67668,     0.67768,     0.67868,     0.67968,     0.68068,     0.68168,     0.68268,     0.68368,     0.68468,     0.68569,     0.68669,     0.68769,     0.68869,     0.68969,     0.69069,     0.69169,     0.69269,     0.69369,     0.69469,      0.6957,\n",
              "            0.6967,      0.6977,      0.6987,      0.6997,      0.7007,      0.7017,      0.7027,      0.7037,      0.7047,     0.70571,     0.70671,     0.70771,     0.70871,     0.70971,     0.71071,     0.71171,     0.71271,     0.71371,     0.71471,     0.71572,     0.71672,     0.71772,     0.71872,     0.71972,\n",
              "           0.72072,     0.72172,     0.72272,     0.72372,     0.72472,     0.72573,     0.72673,     0.72773,     0.72873,     0.72973,     0.73073,     0.73173,     0.73273,     0.73373,     0.73473,     0.73574,     0.73674,     0.73774,     0.73874,     0.73974,     0.74074,     0.74174,     0.74274,     0.74374,\n",
              "           0.74474,     0.74575,     0.74675,     0.74775,     0.74875,     0.74975,     0.75075,     0.75175,     0.75275,     0.75375,     0.75475,     0.75576,     0.75676,     0.75776,     0.75876,     0.75976,     0.76076,     0.76176,     0.76276,     0.76376,     0.76476,     0.76577,     0.76677,     0.76777,\n",
              "           0.76877,     0.76977,     0.77077,     0.77177,     0.77277,     0.77377,     0.77477,     0.77578,     0.77678,     0.77778,     0.77878,     0.77978,     0.78078,     0.78178,     0.78278,     0.78378,     0.78478,     0.78579,     0.78679,     0.78779,     0.78879,     0.78979,     0.79079,     0.79179,\n",
              "           0.79279,     0.79379,     0.79479,      0.7958,      0.7968,      0.7978,      0.7988,      0.7998,      0.8008,      0.8018,      0.8028,      0.8038,      0.8048,     0.80581,     0.80681,     0.80781,     0.80881,     0.80981,     0.81081,     0.81181,     0.81281,     0.81381,     0.81481,     0.81582,\n",
              "           0.81682,     0.81782,     0.81882,     0.81982,     0.82082,     0.82182,     0.82282,     0.82382,     0.82482,     0.82583,     0.82683,     0.82783,     0.82883,     0.82983,     0.83083,     0.83183,     0.83283,     0.83383,     0.83483,     0.83584,     0.83684,     0.83784,     0.83884,     0.83984,\n",
              "           0.84084,     0.84184,     0.84284,     0.84384,     0.84484,     0.84585,     0.84685,     0.84785,     0.84885,     0.84985,     0.85085,     0.85185,     0.85285,     0.85385,     0.85485,     0.85586,     0.85686,     0.85786,     0.85886,     0.85986,     0.86086,     0.86186,     0.86286,     0.86386,\n",
              "           0.86486,     0.86587,     0.86687,     0.86787,     0.86887,     0.86987,     0.87087,     0.87187,     0.87287,     0.87387,     0.87487,     0.87588,     0.87688,     0.87788,     0.87888,     0.87988,     0.88088,     0.88188,     0.88288,     0.88388,     0.88488,     0.88589,     0.88689,     0.88789,\n",
              "           0.88889,     0.88989,     0.89089,     0.89189,     0.89289,     0.89389,     0.89489,      0.8959,      0.8969,      0.8979,      0.8989,      0.8999,      0.9009,      0.9019,      0.9029,      0.9039,      0.9049,     0.90591,     0.90691,     0.90791,     0.90891,     0.90991,     0.91091,     0.91191,\n",
              "           0.91291,     0.91391,     0.91491,     0.91592,     0.91692,     0.91792,     0.91892,     0.91992,     0.92092,     0.92192,     0.92292,     0.92392,     0.92492,     0.92593,     0.92693,     0.92793,     0.92893,     0.92993,     0.93093,     0.93193,     0.93293,     0.93393,     0.93493,     0.93594,\n",
              "           0.93694,     0.93794,     0.93894,     0.93994,     0.94094,     0.94194,     0.94294,     0.94394,     0.94494,     0.94595,     0.94695,     0.94795,     0.94895,     0.94995,     0.95095,     0.95195,     0.95295,     0.95395,     0.95495,     0.95596,     0.95696,     0.95796,     0.95896,     0.95996,\n",
              "           0.96096,     0.96196,     0.96296,     0.96396,     0.96496,     0.96597,     0.96697,     0.96797,     0.96897,     0.96997,     0.97097,     0.97197,     0.97297,     0.97397,     0.97497,     0.97598,     0.97698,     0.97798,     0.97898,     0.97998,     0.98098,     0.98198,     0.98298,     0.98398,\n",
              "           0.98498,     0.98599,     0.98699,     0.98799,     0.98899,     0.98999,     0.99099,     0.99199,     0.99299,     0.99399,     0.99499,       0.996,       0.997,       0.998,       0.999,           1]), array([[   0.021849,    0.021849,    0.030912, ...,           1,           1,           1],\n",
              "       [    0.10195,     0.10195,     0.13802, ...,           1,           1,           1],\n",
              "       [   0.051396,    0.051396,    0.069988, ...,           1,           1,           1]]), 'Confidence', 'Precision'], [array([          0,    0.001001,    0.002002,    0.003003,    0.004004,    0.005005,    0.006006,    0.007007,    0.008008,    0.009009,     0.01001,    0.011011,    0.012012,    0.013013,    0.014014,    0.015015,    0.016016,    0.017017,    0.018018,    0.019019,     0.02002,    0.021021,    0.022022,    0.023023,\n",
              "          0.024024,    0.025025,    0.026026,    0.027027,    0.028028,    0.029029,     0.03003,    0.031031,    0.032032,    0.033033,    0.034034,    0.035035,    0.036036,    0.037037,    0.038038,    0.039039,     0.04004,    0.041041,    0.042042,    0.043043,    0.044044,    0.045045,    0.046046,    0.047047,\n",
              "          0.048048,    0.049049,     0.05005,    0.051051,    0.052052,    0.053053,    0.054054,    0.055055,    0.056056,    0.057057,    0.058058,    0.059059,     0.06006,    0.061061,    0.062062,    0.063063,    0.064064,    0.065065,    0.066066,    0.067067,    0.068068,    0.069069,     0.07007,    0.071071,\n",
              "          0.072072,    0.073073,    0.074074,    0.075075,    0.076076,    0.077077,    0.078078,    0.079079,     0.08008,    0.081081,    0.082082,    0.083083,    0.084084,    0.085085,    0.086086,    0.087087,    0.088088,    0.089089,     0.09009,    0.091091,    0.092092,    0.093093,    0.094094,    0.095095,\n",
              "          0.096096,    0.097097,    0.098098,    0.099099,      0.1001,      0.1011,      0.1021,      0.1031,      0.1041,     0.10511,     0.10611,     0.10711,     0.10811,     0.10911,     0.11011,     0.11111,     0.11211,     0.11311,     0.11411,     0.11512,     0.11612,     0.11712,     0.11812,     0.11912,\n",
              "           0.12012,     0.12112,     0.12212,     0.12312,     0.12412,     0.12513,     0.12613,     0.12713,     0.12813,     0.12913,     0.13013,     0.13113,     0.13213,     0.13313,     0.13413,     0.13514,     0.13614,     0.13714,     0.13814,     0.13914,     0.14014,     0.14114,     0.14214,     0.14314,\n",
              "           0.14414,     0.14515,     0.14615,     0.14715,     0.14815,     0.14915,     0.15015,     0.15115,     0.15215,     0.15315,     0.15415,     0.15516,     0.15616,     0.15716,     0.15816,     0.15916,     0.16016,     0.16116,     0.16216,     0.16316,     0.16416,     0.16517,     0.16617,     0.16717,\n",
              "           0.16817,     0.16917,     0.17017,     0.17117,     0.17217,     0.17317,     0.17417,     0.17518,     0.17618,     0.17718,     0.17818,     0.17918,     0.18018,     0.18118,     0.18218,     0.18318,     0.18418,     0.18519,     0.18619,     0.18719,     0.18819,     0.18919,     0.19019,     0.19119,\n",
              "           0.19219,     0.19319,     0.19419,      0.1952,      0.1962,      0.1972,      0.1982,      0.1992,      0.2002,      0.2012,      0.2022,      0.2032,      0.2042,     0.20521,     0.20621,     0.20721,     0.20821,     0.20921,     0.21021,     0.21121,     0.21221,     0.21321,     0.21421,     0.21522,\n",
              "           0.21622,     0.21722,     0.21822,     0.21922,     0.22022,     0.22122,     0.22222,     0.22322,     0.22422,     0.22523,     0.22623,     0.22723,     0.22823,     0.22923,     0.23023,     0.23123,     0.23223,     0.23323,     0.23423,     0.23524,     0.23624,     0.23724,     0.23824,     0.23924,\n",
              "           0.24024,     0.24124,     0.24224,     0.24324,     0.24424,     0.24525,     0.24625,     0.24725,     0.24825,     0.24925,     0.25025,     0.25125,     0.25225,     0.25325,     0.25425,     0.25526,     0.25626,     0.25726,     0.25826,     0.25926,     0.26026,     0.26126,     0.26226,     0.26326,\n",
              "           0.26426,     0.26527,     0.26627,     0.26727,     0.26827,     0.26927,     0.27027,     0.27127,     0.27227,     0.27327,     0.27427,     0.27528,     0.27628,     0.27728,     0.27828,     0.27928,     0.28028,     0.28128,     0.28228,     0.28328,     0.28428,     0.28529,     0.28629,     0.28729,\n",
              "           0.28829,     0.28929,     0.29029,     0.29129,     0.29229,     0.29329,     0.29429,      0.2953,      0.2963,      0.2973,      0.2983,      0.2993,      0.3003,      0.3013,      0.3023,      0.3033,      0.3043,     0.30531,     0.30631,     0.30731,     0.30831,     0.30931,     0.31031,     0.31131,\n",
              "           0.31231,     0.31331,     0.31431,     0.31532,     0.31632,     0.31732,     0.31832,     0.31932,     0.32032,     0.32132,     0.32232,     0.32332,     0.32432,     0.32533,     0.32633,     0.32733,     0.32833,     0.32933,     0.33033,     0.33133,     0.33233,     0.33333,     0.33433,     0.33534,\n",
              "           0.33634,     0.33734,     0.33834,     0.33934,     0.34034,     0.34134,     0.34234,     0.34334,     0.34434,     0.34535,     0.34635,     0.34735,     0.34835,     0.34935,     0.35035,     0.35135,     0.35235,     0.35335,     0.35435,     0.35536,     0.35636,     0.35736,     0.35836,     0.35936,\n",
              "           0.36036,     0.36136,     0.36236,     0.36336,     0.36436,     0.36537,     0.36637,     0.36737,     0.36837,     0.36937,     0.37037,     0.37137,     0.37237,     0.37337,     0.37437,     0.37538,     0.37638,     0.37738,     0.37838,     0.37938,     0.38038,     0.38138,     0.38238,     0.38338,\n",
              "           0.38438,     0.38539,     0.38639,     0.38739,     0.38839,     0.38939,     0.39039,     0.39139,     0.39239,     0.39339,     0.39439,      0.3954,      0.3964,      0.3974,      0.3984,      0.3994,      0.4004,      0.4014,      0.4024,      0.4034,      0.4044,     0.40541,     0.40641,     0.40741,\n",
              "           0.40841,     0.40941,     0.41041,     0.41141,     0.41241,     0.41341,     0.41441,     0.41542,     0.41642,     0.41742,     0.41842,     0.41942,     0.42042,     0.42142,     0.42242,     0.42342,     0.42442,     0.42543,     0.42643,     0.42743,     0.42843,     0.42943,     0.43043,     0.43143,\n",
              "           0.43243,     0.43343,     0.43443,     0.43544,     0.43644,     0.43744,     0.43844,     0.43944,     0.44044,     0.44144,     0.44244,     0.44344,     0.44444,     0.44545,     0.44645,     0.44745,     0.44845,     0.44945,     0.45045,     0.45145,     0.45245,     0.45345,     0.45445,     0.45546,\n",
              "           0.45646,     0.45746,     0.45846,     0.45946,     0.46046,     0.46146,     0.46246,     0.46346,     0.46446,     0.46547,     0.46647,     0.46747,     0.46847,     0.46947,     0.47047,     0.47147,     0.47247,     0.47347,     0.47447,     0.47548,     0.47648,     0.47748,     0.47848,     0.47948,\n",
              "           0.48048,     0.48148,     0.48248,     0.48348,     0.48448,     0.48549,     0.48649,     0.48749,     0.48849,     0.48949,     0.49049,     0.49149,     0.49249,     0.49349,     0.49449,      0.4955,      0.4965,      0.4975,      0.4985,      0.4995,      0.5005,      0.5015,      0.5025,      0.5035,\n",
              "            0.5045,     0.50551,     0.50651,     0.50751,     0.50851,     0.50951,     0.51051,     0.51151,     0.51251,     0.51351,     0.51451,     0.51552,     0.51652,     0.51752,     0.51852,     0.51952,     0.52052,     0.52152,     0.52252,     0.52352,     0.52452,     0.52553,     0.52653,     0.52753,\n",
              "           0.52853,     0.52953,     0.53053,     0.53153,     0.53253,     0.53353,     0.53453,     0.53554,     0.53654,     0.53754,     0.53854,     0.53954,     0.54054,     0.54154,     0.54254,     0.54354,     0.54454,     0.54555,     0.54655,     0.54755,     0.54855,     0.54955,     0.55055,     0.55155,\n",
              "           0.55255,     0.55355,     0.55455,     0.55556,     0.55656,     0.55756,     0.55856,     0.55956,     0.56056,     0.56156,     0.56256,     0.56356,     0.56456,     0.56557,     0.56657,     0.56757,     0.56857,     0.56957,     0.57057,     0.57157,     0.57257,     0.57357,     0.57457,     0.57558,\n",
              "           0.57658,     0.57758,     0.57858,     0.57958,     0.58058,     0.58158,     0.58258,     0.58358,     0.58458,     0.58559,     0.58659,     0.58759,     0.58859,     0.58959,     0.59059,     0.59159,     0.59259,     0.59359,     0.59459,      0.5956,      0.5966,      0.5976,      0.5986,      0.5996,\n",
              "            0.6006,      0.6016,      0.6026,      0.6036,      0.6046,     0.60561,     0.60661,     0.60761,     0.60861,     0.60961,     0.61061,     0.61161,     0.61261,     0.61361,     0.61461,     0.61562,     0.61662,     0.61762,     0.61862,     0.61962,     0.62062,     0.62162,     0.62262,     0.62362,\n",
              "           0.62462,     0.62563,     0.62663,     0.62763,     0.62863,     0.62963,     0.63063,     0.63163,     0.63263,     0.63363,     0.63463,     0.63564,     0.63664,     0.63764,     0.63864,     0.63964,     0.64064,     0.64164,     0.64264,     0.64364,     0.64464,     0.64565,     0.64665,     0.64765,\n",
              "           0.64865,     0.64965,     0.65065,     0.65165,     0.65265,     0.65365,     0.65465,     0.65566,     0.65666,     0.65766,     0.65866,     0.65966,     0.66066,     0.66166,     0.66266,     0.66366,     0.66466,     0.66567,     0.66667,     0.66767,     0.66867,     0.66967,     0.67067,     0.67167,\n",
              "           0.67267,     0.67367,     0.67467,     0.67568,     0.67668,     0.67768,     0.67868,     0.67968,     0.68068,     0.68168,     0.68268,     0.68368,     0.68468,     0.68569,     0.68669,     0.68769,     0.68869,     0.68969,     0.69069,     0.69169,     0.69269,     0.69369,     0.69469,      0.6957,\n",
              "            0.6967,      0.6977,      0.6987,      0.6997,      0.7007,      0.7017,      0.7027,      0.7037,      0.7047,     0.70571,     0.70671,     0.70771,     0.70871,     0.70971,     0.71071,     0.71171,     0.71271,     0.71371,     0.71471,     0.71572,     0.71672,     0.71772,     0.71872,     0.71972,\n",
              "           0.72072,     0.72172,     0.72272,     0.72372,     0.72472,     0.72573,     0.72673,     0.72773,     0.72873,     0.72973,     0.73073,     0.73173,     0.73273,     0.73373,     0.73473,     0.73574,     0.73674,     0.73774,     0.73874,     0.73974,     0.74074,     0.74174,     0.74274,     0.74374,\n",
              "           0.74474,     0.74575,     0.74675,     0.74775,     0.74875,     0.74975,     0.75075,     0.75175,     0.75275,     0.75375,     0.75475,     0.75576,     0.75676,     0.75776,     0.75876,     0.75976,     0.76076,     0.76176,     0.76276,     0.76376,     0.76476,     0.76577,     0.76677,     0.76777,\n",
              "           0.76877,     0.76977,     0.77077,     0.77177,     0.77277,     0.77377,     0.77477,     0.77578,     0.77678,     0.77778,     0.77878,     0.77978,     0.78078,     0.78178,     0.78278,     0.78378,     0.78478,     0.78579,     0.78679,     0.78779,     0.78879,     0.78979,     0.79079,     0.79179,\n",
              "           0.79279,     0.79379,     0.79479,      0.7958,      0.7968,      0.7978,      0.7988,      0.7998,      0.8008,      0.8018,      0.8028,      0.8038,      0.8048,     0.80581,     0.80681,     0.80781,     0.80881,     0.80981,     0.81081,     0.81181,     0.81281,     0.81381,     0.81481,     0.81582,\n",
              "           0.81682,     0.81782,     0.81882,     0.81982,     0.82082,     0.82182,     0.82282,     0.82382,     0.82482,     0.82583,     0.82683,     0.82783,     0.82883,     0.82983,     0.83083,     0.83183,     0.83283,     0.83383,     0.83483,     0.83584,     0.83684,     0.83784,     0.83884,     0.83984,\n",
              "           0.84084,     0.84184,     0.84284,     0.84384,     0.84484,     0.84585,     0.84685,     0.84785,     0.84885,     0.84985,     0.85085,     0.85185,     0.85285,     0.85385,     0.85485,     0.85586,     0.85686,     0.85786,     0.85886,     0.85986,     0.86086,     0.86186,     0.86286,     0.86386,\n",
              "           0.86486,     0.86587,     0.86687,     0.86787,     0.86887,     0.86987,     0.87087,     0.87187,     0.87287,     0.87387,     0.87487,     0.87588,     0.87688,     0.87788,     0.87888,     0.87988,     0.88088,     0.88188,     0.88288,     0.88388,     0.88488,     0.88589,     0.88689,     0.88789,\n",
              "           0.88889,     0.88989,     0.89089,     0.89189,     0.89289,     0.89389,     0.89489,      0.8959,      0.8969,      0.8979,      0.8989,      0.8999,      0.9009,      0.9019,      0.9029,      0.9039,      0.9049,     0.90591,     0.90691,     0.90791,     0.90891,     0.90991,     0.91091,     0.91191,\n",
              "           0.91291,     0.91391,     0.91491,     0.91592,     0.91692,     0.91792,     0.91892,     0.91992,     0.92092,     0.92192,     0.92292,     0.92392,     0.92492,     0.92593,     0.92693,     0.92793,     0.92893,     0.92993,     0.93093,     0.93193,     0.93293,     0.93393,     0.93493,     0.93594,\n",
              "           0.93694,     0.93794,     0.93894,     0.93994,     0.94094,     0.94194,     0.94294,     0.94394,     0.94494,     0.94595,     0.94695,     0.94795,     0.94895,     0.94995,     0.95095,     0.95195,     0.95295,     0.95395,     0.95495,     0.95596,     0.95696,     0.95796,     0.95896,     0.95996,\n",
              "           0.96096,     0.96196,     0.96296,     0.96396,     0.96496,     0.96597,     0.96697,     0.96797,     0.96897,     0.96997,     0.97097,     0.97197,     0.97297,     0.97397,     0.97497,     0.97598,     0.97698,     0.97798,     0.97898,     0.97998,     0.98098,     0.98198,     0.98298,     0.98398,\n",
              "           0.98498,     0.98599,     0.98699,     0.98799,     0.98899,     0.98999,     0.99099,     0.99199,     0.99299,     0.99399,     0.99499,       0.996,       0.997,       0.998,       0.999,           1]), array([[    0.92857,     0.92857,     0.92857, ...,           0,           0,           0],\n",
              "       [    0.94519,     0.94519,     0.94385, ...,           0,           0,           0],\n",
              "       [    0.88525,     0.88525,     0.87432, ...,           0,           0,           0]]), 'Confidence', 'Recall']]\n",
              "fitness: np.float64(0.4701544296998886)\n",
              "keys: ['metrics/precision(B)', 'metrics/recall(B)', 'metrics/mAP50(B)', 'metrics/mAP50-95(B)']\n",
              "maps: array([    0.35184,      0.5635,     0.40859])\n",
              "names: {0: 'mask_weared_incorrect', 1: 'with_mask', 2: 'without_mask'}\n",
              "nt_per_class: array([ 28, 748, 183])\n",
              "nt_per_image: array([ 23, 149,  60])\n",
              "results_dict: {'metrics/precision(B)': np.float64(0.7655452751932098), 'metrics/recall(B)': np.float64(0.6896833943160786), 'metrics/mAP50(B)': np.float64(0.7297364472055241), 'metrics/mAP50-95(B)': np.float64(0.4413119833103735), 'fitness': np.float64(0.4701544296998886)}\n",
              "save_dir: PosixPath('runs/detect/train')\n",
              "speed: {'preprocess': 0.47734655555487143, 'inference': 2.6350953274854154, 'loss': 0.0011280000007528217, 'postprocess': 5.564975479533212}\n",
              "stats: {'tp': [], 'conf': [], 'pred_cls': [], 'target_cls': [], 'target_img': []}\n",
              "task: 'detect'"
            ]
          },
          "metadata": {},
          "execution_count": 3
        }
      ]
    },
    {
      "cell_type": "code",
      "source": [
        "model.val()"
      ],
      "metadata": {
        "colab": {
          "base_uri": "https://localhost:8080/"
        },
        "id": "Wr9c4xlUwyCQ",
        "outputId": "8726c6f8-5a1f-4b5c-d671-272d6bae6e8b"
      },
      "execution_count": 7,
      "outputs": [
        {
          "output_type": "stream",
          "name": "stdout",
          "text": [
            "Ultralytics 8.3.170 🚀 Python-3.11.13 torch-2.6.0+cu124 CUDA:0 (Tesla T4, 15095MiB)\n",
            "YOLOv8n summary (fused): 72 layers, 3,006,233 parameters, 0 gradients, 8.1 GFLOPs\n",
            "\u001b[34m\u001b[1mval: \u001b[0mFast image access ✅ (ping: 0.0±0.0 ms, read: 1097.9±446.6 MB/s, size: 46.8 KB)\n"
          ]
        },
        {
          "output_type": "stream",
          "name": "stderr",
          "text": [
            "\u001b[34m\u001b[1mval: \u001b[0mScanning /content/facemaskdataset-1/valid/labels.cache... 171 images, 0 backgrounds, 0 corrupt: 100%|██████████| 171/171 [00:00<?, ?it/s]\n",
            "                 Class     Images  Instances      Box(P          R      mAP50  mAP50-95): 100%|██████████| 11/11 [00:04<00:00,  2.26it/s]\n"
          ]
        },
        {
          "output_type": "stream",
          "name": "stdout",
          "text": [
            "                   all        171        959      0.764      0.694      0.731       0.44\n",
            " mask_weared_incorrect         23         28      0.699       0.58      0.589      0.345\n",
            "             with_mask        149        748      0.871      0.865      0.901      0.565\n",
            "          without_mask         60        183      0.721      0.637      0.703      0.409\n",
            "Speed: 3.4ms preprocess, 5.9ms inference, 0.0ms loss, 5.2ms postprocess per image\n",
            "Results saved to \u001b[1mruns/detect/train2\u001b[0m\n"
          ]
        },
        {
          "output_type": "execute_result",
          "data": {
            "text/plain": [
              "ultralytics.utils.metrics.DetMetrics object with attributes:\n",
              "\n",
              "ap_class_index: array([0, 1, 2])\n",
              "box: ultralytics.utils.metrics.Metric object\n",
              "confusion_matrix: <ultralytics.utils.metrics.ConfusionMatrix object at 0x7d85a7e7d810>\n",
              "curves: ['Precision-Recall(B)', 'F1-Confidence(B)', 'Precision-Confidence(B)', 'Recall-Confidence(B)']\n",
              "curves_results: [[array([          0,    0.001001,    0.002002,    0.003003,    0.004004,    0.005005,    0.006006,    0.007007,    0.008008,    0.009009,     0.01001,    0.011011,    0.012012,    0.013013,    0.014014,    0.015015,    0.016016,    0.017017,    0.018018,    0.019019,     0.02002,    0.021021,    0.022022,    0.023023,\n",
              "          0.024024,    0.025025,    0.026026,    0.027027,    0.028028,    0.029029,     0.03003,    0.031031,    0.032032,    0.033033,    0.034034,    0.035035,    0.036036,    0.037037,    0.038038,    0.039039,     0.04004,    0.041041,    0.042042,    0.043043,    0.044044,    0.045045,    0.046046,    0.047047,\n",
              "          0.048048,    0.049049,     0.05005,    0.051051,    0.052052,    0.053053,    0.054054,    0.055055,    0.056056,    0.057057,    0.058058,    0.059059,     0.06006,    0.061061,    0.062062,    0.063063,    0.064064,    0.065065,    0.066066,    0.067067,    0.068068,    0.069069,     0.07007,    0.071071,\n",
              "          0.072072,    0.073073,    0.074074,    0.075075,    0.076076,    0.077077,    0.078078,    0.079079,     0.08008,    0.081081,    0.082082,    0.083083,    0.084084,    0.085085,    0.086086,    0.087087,    0.088088,    0.089089,     0.09009,    0.091091,    0.092092,    0.093093,    0.094094,    0.095095,\n",
              "          0.096096,    0.097097,    0.098098,    0.099099,      0.1001,      0.1011,      0.1021,      0.1031,      0.1041,     0.10511,     0.10611,     0.10711,     0.10811,     0.10911,     0.11011,     0.11111,     0.11211,     0.11311,     0.11411,     0.11512,     0.11612,     0.11712,     0.11812,     0.11912,\n",
              "           0.12012,     0.12112,     0.12212,     0.12312,     0.12412,     0.12513,     0.12613,     0.12713,     0.12813,     0.12913,     0.13013,     0.13113,     0.13213,     0.13313,     0.13413,     0.13514,     0.13614,     0.13714,     0.13814,     0.13914,     0.14014,     0.14114,     0.14214,     0.14314,\n",
              "           0.14414,     0.14515,     0.14615,     0.14715,     0.14815,     0.14915,     0.15015,     0.15115,     0.15215,     0.15315,     0.15415,     0.15516,     0.15616,     0.15716,     0.15816,     0.15916,     0.16016,     0.16116,     0.16216,     0.16316,     0.16416,     0.16517,     0.16617,     0.16717,\n",
              "           0.16817,     0.16917,     0.17017,     0.17117,     0.17217,     0.17317,     0.17417,     0.17518,     0.17618,     0.17718,     0.17818,     0.17918,     0.18018,     0.18118,     0.18218,     0.18318,     0.18418,     0.18519,     0.18619,     0.18719,     0.18819,     0.18919,     0.19019,     0.19119,\n",
              "           0.19219,     0.19319,     0.19419,      0.1952,      0.1962,      0.1972,      0.1982,      0.1992,      0.2002,      0.2012,      0.2022,      0.2032,      0.2042,     0.20521,     0.20621,     0.20721,     0.20821,     0.20921,     0.21021,     0.21121,     0.21221,     0.21321,     0.21421,     0.21522,\n",
              "           0.21622,     0.21722,     0.21822,     0.21922,     0.22022,     0.22122,     0.22222,     0.22322,     0.22422,     0.22523,     0.22623,     0.22723,     0.22823,     0.22923,     0.23023,     0.23123,     0.23223,     0.23323,     0.23423,     0.23524,     0.23624,     0.23724,     0.23824,     0.23924,\n",
              "           0.24024,     0.24124,     0.24224,     0.24324,     0.24424,     0.24525,     0.24625,     0.24725,     0.24825,     0.24925,     0.25025,     0.25125,     0.25225,     0.25325,     0.25425,     0.25526,     0.25626,     0.25726,     0.25826,     0.25926,     0.26026,     0.26126,     0.26226,     0.26326,\n",
              "           0.26426,     0.26527,     0.26627,     0.26727,     0.26827,     0.26927,     0.27027,     0.27127,     0.27227,     0.27327,     0.27427,     0.27528,     0.27628,     0.27728,     0.27828,     0.27928,     0.28028,     0.28128,     0.28228,     0.28328,     0.28428,     0.28529,     0.28629,     0.28729,\n",
              "           0.28829,     0.28929,     0.29029,     0.29129,     0.29229,     0.29329,     0.29429,      0.2953,      0.2963,      0.2973,      0.2983,      0.2993,      0.3003,      0.3013,      0.3023,      0.3033,      0.3043,     0.30531,     0.30631,     0.30731,     0.30831,     0.30931,     0.31031,     0.31131,\n",
              "           0.31231,     0.31331,     0.31431,     0.31532,     0.31632,     0.31732,     0.31832,     0.31932,     0.32032,     0.32132,     0.32232,     0.32332,     0.32432,     0.32533,     0.32633,     0.32733,     0.32833,     0.32933,     0.33033,     0.33133,     0.33233,     0.33333,     0.33433,     0.33534,\n",
              "           0.33634,     0.33734,     0.33834,     0.33934,     0.34034,     0.34134,     0.34234,     0.34334,     0.34434,     0.34535,     0.34635,     0.34735,     0.34835,     0.34935,     0.35035,     0.35135,     0.35235,     0.35335,     0.35435,     0.35536,     0.35636,     0.35736,     0.35836,     0.35936,\n",
              "           0.36036,     0.36136,     0.36236,     0.36336,     0.36436,     0.36537,     0.36637,     0.36737,     0.36837,     0.36937,     0.37037,     0.37137,     0.37237,     0.37337,     0.37437,     0.37538,     0.37638,     0.37738,     0.37838,     0.37938,     0.38038,     0.38138,     0.38238,     0.38338,\n",
              "           0.38438,     0.38539,     0.38639,     0.38739,     0.38839,     0.38939,     0.39039,     0.39139,     0.39239,     0.39339,     0.39439,      0.3954,      0.3964,      0.3974,      0.3984,      0.3994,      0.4004,      0.4014,      0.4024,      0.4034,      0.4044,     0.40541,     0.40641,     0.40741,\n",
              "           0.40841,     0.40941,     0.41041,     0.41141,     0.41241,     0.41341,     0.41441,     0.41542,     0.41642,     0.41742,     0.41842,     0.41942,     0.42042,     0.42142,     0.42242,     0.42342,     0.42442,     0.42543,     0.42643,     0.42743,     0.42843,     0.42943,     0.43043,     0.43143,\n",
              "           0.43243,     0.43343,     0.43443,     0.43544,     0.43644,     0.43744,     0.43844,     0.43944,     0.44044,     0.44144,     0.44244,     0.44344,     0.44444,     0.44545,     0.44645,     0.44745,     0.44845,     0.44945,     0.45045,     0.45145,     0.45245,     0.45345,     0.45445,     0.45546,\n",
              "           0.45646,     0.45746,     0.45846,     0.45946,     0.46046,     0.46146,     0.46246,     0.46346,     0.46446,     0.46547,     0.46647,     0.46747,     0.46847,     0.46947,     0.47047,     0.47147,     0.47247,     0.47347,     0.47447,     0.47548,     0.47648,     0.47748,     0.47848,     0.47948,\n",
              "           0.48048,     0.48148,     0.48248,     0.48348,     0.48448,     0.48549,     0.48649,     0.48749,     0.48849,     0.48949,     0.49049,     0.49149,     0.49249,     0.49349,     0.49449,      0.4955,      0.4965,      0.4975,      0.4985,      0.4995,      0.5005,      0.5015,      0.5025,      0.5035,\n",
              "            0.5045,     0.50551,     0.50651,     0.50751,     0.50851,     0.50951,     0.51051,     0.51151,     0.51251,     0.51351,     0.51451,     0.51552,     0.51652,     0.51752,     0.51852,     0.51952,     0.52052,     0.52152,     0.52252,     0.52352,     0.52452,     0.52553,     0.52653,     0.52753,\n",
              "           0.52853,     0.52953,     0.53053,     0.53153,     0.53253,     0.53353,     0.53453,     0.53554,     0.53654,     0.53754,     0.53854,     0.53954,     0.54054,     0.54154,     0.54254,     0.54354,     0.54454,     0.54555,     0.54655,     0.54755,     0.54855,     0.54955,     0.55055,     0.55155,\n",
              "           0.55255,     0.55355,     0.55455,     0.55556,     0.55656,     0.55756,     0.55856,     0.55956,     0.56056,     0.56156,     0.56256,     0.56356,     0.56456,     0.56557,     0.56657,     0.56757,     0.56857,     0.56957,     0.57057,     0.57157,     0.57257,     0.57357,     0.57457,     0.57558,\n",
              "           0.57658,     0.57758,     0.57858,     0.57958,     0.58058,     0.58158,     0.58258,     0.58358,     0.58458,     0.58559,     0.58659,     0.58759,     0.58859,     0.58959,     0.59059,     0.59159,     0.59259,     0.59359,     0.59459,      0.5956,      0.5966,      0.5976,      0.5986,      0.5996,\n",
              "            0.6006,      0.6016,      0.6026,      0.6036,      0.6046,     0.60561,     0.60661,     0.60761,     0.60861,     0.60961,     0.61061,     0.61161,     0.61261,     0.61361,     0.61461,     0.61562,     0.61662,     0.61762,     0.61862,     0.61962,     0.62062,     0.62162,     0.62262,     0.62362,\n",
              "           0.62462,     0.62563,     0.62663,     0.62763,     0.62863,     0.62963,     0.63063,     0.63163,     0.63263,     0.63363,     0.63463,     0.63564,     0.63664,     0.63764,     0.63864,     0.63964,     0.64064,     0.64164,     0.64264,     0.64364,     0.64464,     0.64565,     0.64665,     0.64765,\n",
              "           0.64865,     0.64965,     0.65065,     0.65165,     0.65265,     0.65365,     0.65465,     0.65566,     0.65666,     0.65766,     0.65866,     0.65966,     0.66066,     0.66166,     0.66266,     0.66366,     0.66466,     0.66567,     0.66667,     0.66767,     0.66867,     0.66967,     0.67067,     0.67167,\n",
              "           0.67267,     0.67367,     0.67467,     0.67568,     0.67668,     0.67768,     0.67868,     0.67968,     0.68068,     0.68168,     0.68268,     0.68368,     0.68468,     0.68569,     0.68669,     0.68769,     0.68869,     0.68969,     0.69069,     0.69169,     0.69269,     0.69369,     0.69469,      0.6957,\n",
              "            0.6967,      0.6977,      0.6987,      0.6997,      0.7007,      0.7017,      0.7027,      0.7037,      0.7047,     0.70571,     0.70671,     0.70771,     0.70871,     0.70971,     0.71071,     0.71171,     0.71271,     0.71371,     0.71471,     0.71572,     0.71672,     0.71772,     0.71872,     0.71972,\n",
              "           0.72072,     0.72172,     0.72272,     0.72372,     0.72472,     0.72573,     0.72673,     0.72773,     0.72873,     0.72973,     0.73073,     0.73173,     0.73273,     0.73373,     0.73473,     0.73574,     0.73674,     0.73774,     0.73874,     0.73974,     0.74074,     0.74174,     0.74274,     0.74374,\n",
              "           0.74474,     0.74575,     0.74675,     0.74775,     0.74875,     0.74975,     0.75075,     0.75175,     0.75275,     0.75375,     0.75475,     0.75576,     0.75676,     0.75776,     0.75876,     0.75976,     0.76076,     0.76176,     0.76276,     0.76376,     0.76476,     0.76577,     0.76677,     0.76777,\n",
              "           0.76877,     0.76977,     0.77077,     0.77177,     0.77277,     0.77377,     0.77477,     0.77578,     0.77678,     0.77778,     0.77878,     0.77978,     0.78078,     0.78178,     0.78278,     0.78378,     0.78478,     0.78579,     0.78679,     0.78779,     0.78879,     0.78979,     0.79079,     0.79179,\n",
              "           0.79279,     0.79379,     0.79479,      0.7958,      0.7968,      0.7978,      0.7988,      0.7998,      0.8008,      0.8018,      0.8028,      0.8038,      0.8048,     0.80581,     0.80681,     0.80781,     0.80881,     0.80981,     0.81081,     0.81181,     0.81281,     0.81381,     0.81481,     0.81582,\n",
              "           0.81682,     0.81782,     0.81882,     0.81982,     0.82082,     0.82182,     0.82282,     0.82382,     0.82482,     0.82583,     0.82683,     0.82783,     0.82883,     0.82983,     0.83083,     0.83183,     0.83283,     0.83383,     0.83483,     0.83584,     0.83684,     0.83784,     0.83884,     0.83984,\n",
              "           0.84084,     0.84184,     0.84284,     0.84384,     0.84484,     0.84585,     0.84685,     0.84785,     0.84885,     0.84985,     0.85085,     0.85185,     0.85285,     0.85385,     0.85485,     0.85586,     0.85686,     0.85786,     0.85886,     0.85986,     0.86086,     0.86186,     0.86286,     0.86386,\n",
              "           0.86486,     0.86587,     0.86687,     0.86787,     0.86887,     0.86987,     0.87087,     0.87187,     0.87287,     0.87387,     0.87487,     0.87588,     0.87688,     0.87788,     0.87888,     0.87988,     0.88088,     0.88188,     0.88288,     0.88388,     0.88488,     0.88589,     0.88689,     0.88789,\n",
              "           0.88889,     0.88989,     0.89089,     0.89189,     0.89289,     0.89389,     0.89489,      0.8959,      0.8969,      0.8979,      0.8989,      0.8999,      0.9009,      0.9019,      0.9029,      0.9039,      0.9049,     0.90591,     0.90691,     0.90791,     0.90891,     0.90991,     0.91091,     0.91191,\n",
              "           0.91291,     0.91391,     0.91491,     0.91592,     0.91692,     0.91792,     0.91892,     0.91992,     0.92092,     0.92192,     0.92292,     0.92392,     0.92492,     0.92593,     0.92693,     0.92793,     0.92893,     0.92993,     0.93093,     0.93193,     0.93293,     0.93393,     0.93493,     0.93594,\n",
              "           0.93694,     0.93794,     0.93894,     0.93994,     0.94094,     0.94194,     0.94294,     0.94394,     0.94494,     0.94595,     0.94695,     0.94795,     0.94895,     0.94995,     0.95095,     0.95195,     0.95295,     0.95395,     0.95495,     0.95596,     0.95696,     0.95796,     0.95896,     0.95996,\n",
              "           0.96096,     0.96196,     0.96296,     0.96396,     0.96496,     0.96597,     0.96697,     0.96797,     0.96897,     0.96997,     0.97097,     0.97197,     0.97297,     0.97397,     0.97497,     0.97598,     0.97698,     0.97798,     0.97898,     0.97998,     0.98098,     0.98198,     0.98298,     0.98398,\n",
              "           0.98498,     0.98599,     0.98699,     0.98799,     0.98899,     0.98999,     0.99099,     0.99199,     0.99299,     0.99399,     0.99499,       0.996,       0.997,       0.998,       0.999,           1]), array([[          1,           1,           1, ...,  0.00061238,  0.00030619,           0],\n",
              "       [          1,           1,           1, ...,   0.0037187,   0.0018594,           0],\n",
              "       [          1,           1,           1, ...,  0.00085169,  0.00042585,           0]]), 'Recall', 'Precision'], [array([          0,    0.001001,    0.002002,    0.003003,    0.004004,    0.005005,    0.006006,    0.007007,    0.008008,    0.009009,     0.01001,    0.011011,    0.012012,    0.013013,    0.014014,    0.015015,    0.016016,    0.017017,    0.018018,    0.019019,     0.02002,    0.021021,    0.022022,    0.023023,\n",
              "          0.024024,    0.025025,    0.026026,    0.027027,    0.028028,    0.029029,     0.03003,    0.031031,    0.032032,    0.033033,    0.034034,    0.035035,    0.036036,    0.037037,    0.038038,    0.039039,     0.04004,    0.041041,    0.042042,    0.043043,    0.044044,    0.045045,    0.046046,    0.047047,\n",
              "          0.048048,    0.049049,     0.05005,    0.051051,    0.052052,    0.053053,    0.054054,    0.055055,    0.056056,    0.057057,    0.058058,    0.059059,     0.06006,    0.061061,    0.062062,    0.063063,    0.064064,    0.065065,    0.066066,    0.067067,    0.068068,    0.069069,     0.07007,    0.071071,\n",
              "          0.072072,    0.073073,    0.074074,    0.075075,    0.076076,    0.077077,    0.078078,    0.079079,     0.08008,    0.081081,    0.082082,    0.083083,    0.084084,    0.085085,    0.086086,    0.087087,    0.088088,    0.089089,     0.09009,    0.091091,    0.092092,    0.093093,    0.094094,    0.095095,\n",
              "          0.096096,    0.097097,    0.098098,    0.099099,      0.1001,      0.1011,      0.1021,      0.1031,      0.1041,     0.10511,     0.10611,     0.10711,     0.10811,     0.10911,     0.11011,     0.11111,     0.11211,     0.11311,     0.11411,     0.11512,     0.11612,     0.11712,     0.11812,     0.11912,\n",
              "           0.12012,     0.12112,     0.12212,     0.12312,     0.12412,     0.12513,     0.12613,     0.12713,     0.12813,     0.12913,     0.13013,     0.13113,     0.13213,     0.13313,     0.13413,     0.13514,     0.13614,     0.13714,     0.13814,     0.13914,     0.14014,     0.14114,     0.14214,     0.14314,\n",
              "           0.14414,     0.14515,     0.14615,     0.14715,     0.14815,     0.14915,     0.15015,     0.15115,     0.15215,     0.15315,     0.15415,     0.15516,     0.15616,     0.15716,     0.15816,     0.15916,     0.16016,     0.16116,     0.16216,     0.16316,     0.16416,     0.16517,     0.16617,     0.16717,\n",
              "           0.16817,     0.16917,     0.17017,     0.17117,     0.17217,     0.17317,     0.17417,     0.17518,     0.17618,     0.17718,     0.17818,     0.17918,     0.18018,     0.18118,     0.18218,     0.18318,     0.18418,     0.18519,     0.18619,     0.18719,     0.18819,     0.18919,     0.19019,     0.19119,\n",
              "           0.19219,     0.19319,     0.19419,      0.1952,      0.1962,      0.1972,      0.1982,      0.1992,      0.2002,      0.2012,      0.2022,      0.2032,      0.2042,     0.20521,     0.20621,     0.20721,     0.20821,     0.20921,     0.21021,     0.21121,     0.21221,     0.21321,     0.21421,     0.21522,\n",
              "           0.21622,     0.21722,     0.21822,     0.21922,     0.22022,     0.22122,     0.22222,     0.22322,     0.22422,     0.22523,     0.22623,     0.22723,     0.22823,     0.22923,     0.23023,     0.23123,     0.23223,     0.23323,     0.23423,     0.23524,     0.23624,     0.23724,     0.23824,     0.23924,\n",
              "           0.24024,     0.24124,     0.24224,     0.24324,     0.24424,     0.24525,     0.24625,     0.24725,     0.24825,     0.24925,     0.25025,     0.25125,     0.25225,     0.25325,     0.25425,     0.25526,     0.25626,     0.25726,     0.25826,     0.25926,     0.26026,     0.26126,     0.26226,     0.26326,\n",
              "           0.26426,     0.26527,     0.26627,     0.26727,     0.26827,     0.26927,     0.27027,     0.27127,     0.27227,     0.27327,     0.27427,     0.27528,     0.27628,     0.27728,     0.27828,     0.27928,     0.28028,     0.28128,     0.28228,     0.28328,     0.28428,     0.28529,     0.28629,     0.28729,\n",
              "           0.28829,     0.28929,     0.29029,     0.29129,     0.29229,     0.29329,     0.29429,      0.2953,      0.2963,      0.2973,      0.2983,      0.2993,      0.3003,      0.3013,      0.3023,      0.3033,      0.3043,     0.30531,     0.30631,     0.30731,     0.30831,     0.30931,     0.31031,     0.31131,\n",
              "           0.31231,     0.31331,     0.31431,     0.31532,     0.31632,     0.31732,     0.31832,     0.31932,     0.32032,     0.32132,     0.32232,     0.32332,     0.32432,     0.32533,     0.32633,     0.32733,     0.32833,     0.32933,     0.33033,     0.33133,     0.33233,     0.33333,     0.33433,     0.33534,\n",
              "           0.33634,     0.33734,     0.33834,     0.33934,     0.34034,     0.34134,     0.34234,     0.34334,     0.34434,     0.34535,     0.34635,     0.34735,     0.34835,     0.34935,     0.35035,     0.35135,     0.35235,     0.35335,     0.35435,     0.35536,     0.35636,     0.35736,     0.35836,     0.35936,\n",
              "           0.36036,     0.36136,     0.36236,     0.36336,     0.36436,     0.36537,     0.36637,     0.36737,     0.36837,     0.36937,     0.37037,     0.37137,     0.37237,     0.37337,     0.37437,     0.37538,     0.37638,     0.37738,     0.37838,     0.37938,     0.38038,     0.38138,     0.38238,     0.38338,\n",
              "           0.38438,     0.38539,     0.38639,     0.38739,     0.38839,     0.38939,     0.39039,     0.39139,     0.39239,     0.39339,     0.39439,      0.3954,      0.3964,      0.3974,      0.3984,      0.3994,      0.4004,      0.4014,      0.4024,      0.4034,      0.4044,     0.40541,     0.40641,     0.40741,\n",
              "           0.40841,     0.40941,     0.41041,     0.41141,     0.41241,     0.41341,     0.41441,     0.41542,     0.41642,     0.41742,     0.41842,     0.41942,     0.42042,     0.42142,     0.42242,     0.42342,     0.42442,     0.42543,     0.42643,     0.42743,     0.42843,     0.42943,     0.43043,     0.43143,\n",
              "           0.43243,     0.43343,     0.43443,     0.43544,     0.43644,     0.43744,     0.43844,     0.43944,     0.44044,     0.44144,     0.44244,     0.44344,     0.44444,     0.44545,     0.44645,     0.44745,     0.44845,     0.44945,     0.45045,     0.45145,     0.45245,     0.45345,     0.45445,     0.45546,\n",
              "           0.45646,     0.45746,     0.45846,     0.45946,     0.46046,     0.46146,     0.46246,     0.46346,     0.46446,     0.46547,     0.46647,     0.46747,     0.46847,     0.46947,     0.47047,     0.47147,     0.47247,     0.47347,     0.47447,     0.47548,     0.47648,     0.47748,     0.47848,     0.47948,\n",
              "           0.48048,     0.48148,     0.48248,     0.48348,     0.48448,     0.48549,     0.48649,     0.48749,     0.48849,     0.48949,     0.49049,     0.49149,     0.49249,     0.49349,     0.49449,      0.4955,      0.4965,      0.4975,      0.4985,      0.4995,      0.5005,      0.5015,      0.5025,      0.5035,\n",
              "            0.5045,     0.50551,     0.50651,     0.50751,     0.50851,     0.50951,     0.51051,     0.51151,     0.51251,     0.51351,     0.51451,     0.51552,     0.51652,     0.51752,     0.51852,     0.51952,     0.52052,     0.52152,     0.52252,     0.52352,     0.52452,     0.52553,     0.52653,     0.52753,\n",
              "           0.52853,     0.52953,     0.53053,     0.53153,     0.53253,     0.53353,     0.53453,     0.53554,     0.53654,     0.53754,     0.53854,     0.53954,     0.54054,     0.54154,     0.54254,     0.54354,     0.54454,     0.54555,     0.54655,     0.54755,     0.54855,     0.54955,     0.55055,     0.55155,\n",
              "           0.55255,     0.55355,     0.55455,     0.55556,     0.55656,     0.55756,     0.55856,     0.55956,     0.56056,     0.56156,     0.56256,     0.56356,     0.56456,     0.56557,     0.56657,     0.56757,     0.56857,     0.56957,     0.57057,     0.57157,     0.57257,     0.57357,     0.57457,     0.57558,\n",
              "           0.57658,     0.57758,     0.57858,     0.57958,     0.58058,     0.58158,     0.58258,     0.58358,     0.58458,     0.58559,     0.58659,     0.58759,     0.58859,     0.58959,     0.59059,     0.59159,     0.59259,     0.59359,     0.59459,      0.5956,      0.5966,      0.5976,      0.5986,      0.5996,\n",
              "            0.6006,      0.6016,      0.6026,      0.6036,      0.6046,     0.60561,     0.60661,     0.60761,     0.60861,     0.60961,     0.61061,     0.61161,     0.61261,     0.61361,     0.61461,     0.61562,     0.61662,     0.61762,     0.61862,     0.61962,     0.62062,     0.62162,     0.62262,     0.62362,\n",
              "           0.62462,     0.62563,     0.62663,     0.62763,     0.62863,     0.62963,     0.63063,     0.63163,     0.63263,     0.63363,     0.63463,     0.63564,     0.63664,     0.63764,     0.63864,     0.63964,     0.64064,     0.64164,     0.64264,     0.64364,     0.64464,     0.64565,     0.64665,     0.64765,\n",
              "           0.64865,     0.64965,     0.65065,     0.65165,     0.65265,     0.65365,     0.65465,     0.65566,     0.65666,     0.65766,     0.65866,     0.65966,     0.66066,     0.66166,     0.66266,     0.66366,     0.66466,     0.66567,     0.66667,     0.66767,     0.66867,     0.66967,     0.67067,     0.67167,\n",
              "           0.67267,     0.67367,     0.67467,     0.67568,     0.67668,     0.67768,     0.67868,     0.67968,     0.68068,     0.68168,     0.68268,     0.68368,     0.68468,     0.68569,     0.68669,     0.68769,     0.68869,     0.68969,     0.69069,     0.69169,     0.69269,     0.69369,     0.69469,      0.6957,\n",
              "            0.6967,      0.6977,      0.6987,      0.6997,      0.7007,      0.7017,      0.7027,      0.7037,      0.7047,     0.70571,     0.70671,     0.70771,     0.70871,     0.70971,     0.71071,     0.71171,     0.71271,     0.71371,     0.71471,     0.71572,     0.71672,     0.71772,     0.71872,     0.71972,\n",
              "           0.72072,     0.72172,     0.72272,     0.72372,     0.72472,     0.72573,     0.72673,     0.72773,     0.72873,     0.72973,     0.73073,     0.73173,     0.73273,     0.73373,     0.73473,     0.73574,     0.73674,     0.73774,     0.73874,     0.73974,     0.74074,     0.74174,     0.74274,     0.74374,\n",
              "           0.74474,     0.74575,     0.74675,     0.74775,     0.74875,     0.74975,     0.75075,     0.75175,     0.75275,     0.75375,     0.75475,     0.75576,     0.75676,     0.75776,     0.75876,     0.75976,     0.76076,     0.76176,     0.76276,     0.76376,     0.76476,     0.76577,     0.76677,     0.76777,\n",
              "           0.76877,     0.76977,     0.77077,     0.77177,     0.77277,     0.77377,     0.77477,     0.77578,     0.77678,     0.77778,     0.77878,     0.77978,     0.78078,     0.78178,     0.78278,     0.78378,     0.78478,     0.78579,     0.78679,     0.78779,     0.78879,     0.78979,     0.79079,     0.79179,\n",
              "           0.79279,     0.79379,     0.79479,      0.7958,      0.7968,      0.7978,      0.7988,      0.7998,      0.8008,      0.8018,      0.8028,      0.8038,      0.8048,     0.80581,     0.80681,     0.80781,     0.80881,     0.80981,     0.81081,     0.81181,     0.81281,     0.81381,     0.81481,     0.81582,\n",
              "           0.81682,     0.81782,     0.81882,     0.81982,     0.82082,     0.82182,     0.82282,     0.82382,     0.82482,     0.82583,     0.82683,     0.82783,     0.82883,     0.82983,     0.83083,     0.83183,     0.83283,     0.83383,     0.83483,     0.83584,     0.83684,     0.83784,     0.83884,     0.83984,\n",
              "           0.84084,     0.84184,     0.84284,     0.84384,     0.84484,     0.84585,     0.84685,     0.84785,     0.84885,     0.84985,     0.85085,     0.85185,     0.85285,     0.85385,     0.85485,     0.85586,     0.85686,     0.85786,     0.85886,     0.85986,     0.86086,     0.86186,     0.86286,     0.86386,\n",
              "           0.86486,     0.86587,     0.86687,     0.86787,     0.86887,     0.86987,     0.87087,     0.87187,     0.87287,     0.87387,     0.87487,     0.87588,     0.87688,     0.87788,     0.87888,     0.87988,     0.88088,     0.88188,     0.88288,     0.88388,     0.88488,     0.88589,     0.88689,     0.88789,\n",
              "           0.88889,     0.88989,     0.89089,     0.89189,     0.89289,     0.89389,     0.89489,      0.8959,      0.8969,      0.8979,      0.8989,      0.8999,      0.9009,      0.9019,      0.9029,      0.9039,      0.9049,     0.90591,     0.90691,     0.90791,     0.90891,     0.90991,     0.91091,     0.91191,\n",
              "           0.91291,     0.91391,     0.91491,     0.91592,     0.91692,     0.91792,     0.91892,     0.91992,     0.92092,     0.92192,     0.92292,     0.92392,     0.92492,     0.92593,     0.92693,     0.92793,     0.92893,     0.92993,     0.93093,     0.93193,     0.93293,     0.93393,     0.93493,     0.93594,\n",
              "           0.93694,     0.93794,     0.93894,     0.93994,     0.94094,     0.94194,     0.94294,     0.94394,     0.94494,     0.94595,     0.94695,     0.94795,     0.94895,     0.94995,     0.95095,     0.95195,     0.95295,     0.95395,     0.95495,     0.95596,     0.95696,     0.95796,     0.95896,     0.95996,\n",
              "           0.96096,     0.96196,     0.96296,     0.96396,     0.96496,     0.96597,     0.96697,     0.96797,     0.96897,     0.96997,     0.97097,     0.97197,     0.97297,     0.97397,     0.97497,     0.97598,     0.97698,     0.97798,     0.97898,     0.97998,     0.98098,     0.98198,     0.98298,     0.98398,\n",
              "           0.98498,     0.98599,     0.98699,     0.98799,     0.98899,     0.98999,     0.99099,     0.99199,     0.99299,     0.99399,     0.99499,       0.996,       0.997,       0.998,       0.999,           1]), array([[   0.042693,    0.042714,    0.060475, ...,           0,           0,           0],\n",
              "       [    0.18383,     0.18384,     0.24105, ...,           0,           0,           0],\n",
              "       [   0.096668,    0.096668,     0.12923, ...,           0,           0,           0]]), 'Confidence', 'F1'], [array([          0,    0.001001,    0.002002,    0.003003,    0.004004,    0.005005,    0.006006,    0.007007,    0.008008,    0.009009,     0.01001,    0.011011,    0.012012,    0.013013,    0.014014,    0.015015,    0.016016,    0.017017,    0.018018,    0.019019,     0.02002,    0.021021,    0.022022,    0.023023,\n",
              "          0.024024,    0.025025,    0.026026,    0.027027,    0.028028,    0.029029,     0.03003,    0.031031,    0.032032,    0.033033,    0.034034,    0.035035,    0.036036,    0.037037,    0.038038,    0.039039,     0.04004,    0.041041,    0.042042,    0.043043,    0.044044,    0.045045,    0.046046,    0.047047,\n",
              "          0.048048,    0.049049,     0.05005,    0.051051,    0.052052,    0.053053,    0.054054,    0.055055,    0.056056,    0.057057,    0.058058,    0.059059,     0.06006,    0.061061,    0.062062,    0.063063,    0.064064,    0.065065,    0.066066,    0.067067,    0.068068,    0.069069,     0.07007,    0.071071,\n",
              "          0.072072,    0.073073,    0.074074,    0.075075,    0.076076,    0.077077,    0.078078,    0.079079,     0.08008,    0.081081,    0.082082,    0.083083,    0.084084,    0.085085,    0.086086,    0.087087,    0.088088,    0.089089,     0.09009,    0.091091,    0.092092,    0.093093,    0.094094,    0.095095,\n",
              "          0.096096,    0.097097,    0.098098,    0.099099,      0.1001,      0.1011,      0.1021,      0.1031,      0.1041,     0.10511,     0.10611,     0.10711,     0.10811,     0.10911,     0.11011,     0.11111,     0.11211,     0.11311,     0.11411,     0.11512,     0.11612,     0.11712,     0.11812,     0.11912,\n",
              "           0.12012,     0.12112,     0.12212,     0.12312,     0.12412,     0.12513,     0.12613,     0.12713,     0.12813,     0.12913,     0.13013,     0.13113,     0.13213,     0.13313,     0.13413,     0.13514,     0.13614,     0.13714,     0.13814,     0.13914,     0.14014,     0.14114,     0.14214,     0.14314,\n",
              "           0.14414,     0.14515,     0.14615,     0.14715,     0.14815,     0.14915,     0.15015,     0.15115,     0.15215,     0.15315,     0.15415,     0.15516,     0.15616,     0.15716,     0.15816,     0.15916,     0.16016,     0.16116,     0.16216,     0.16316,     0.16416,     0.16517,     0.16617,     0.16717,\n",
              "           0.16817,     0.16917,     0.17017,     0.17117,     0.17217,     0.17317,     0.17417,     0.17518,     0.17618,     0.17718,     0.17818,     0.17918,     0.18018,     0.18118,     0.18218,     0.18318,     0.18418,     0.18519,     0.18619,     0.18719,     0.18819,     0.18919,     0.19019,     0.19119,\n",
              "           0.19219,     0.19319,     0.19419,      0.1952,      0.1962,      0.1972,      0.1982,      0.1992,      0.2002,      0.2012,      0.2022,      0.2032,      0.2042,     0.20521,     0.20621,     0.20721,     0.20821,     0.20921,     0.21021,     0.21121,     0.21221,     0.21321,     0.21421,     0.21522,\n",
              "           0.21622,     0.21722,     0.21822,     0.21922,     0.22022,     0.22122,     0.22222,     0.22322,     0.22422,     0.22523,     0.22623,     0.22723,     0.22823,     0.22923,     0.23023,     0.23123,     0.23223,     0.23323,     0.23423,     0.23524,     0.23624,     0.23724,     0.23824,     0.23924,\n",
              "           0.24024,     0.24124,     0.24224,     0.24324,     0.24424,     0.24525,     0.24625,     0.24725,     0.24825,     0.24925,     0.25025,     0.25125,     0.25225,     0.25325,     0.25425,     0.25526,     0.25626,     0.25726,     0.25826,     0.25926,     0.26026,     0.26126,     0.26226,     0.26326,\n",
              "           0.26426,     0.26527,     0.26627,     0.26727,     0.26827,     0.26927,     0.27027,     0.27127,     0.27227,     0.27327,     0.27427,     0.27528,     0.27628,     0.27728,     0.27828,     0.27928,     0.28028,     0.28128,     0.28228,     0.28328,     0.28428,     0.28529,     0.28629,     0.28729,\n",
              "           0.28829,     0.28929,     0.29029,     0.29129,     0.29229,     0.29329,     0.29429,      0.2953,      0.2963,      0.2973,      0.2983,      0.2993,      0.3003,      0.3013,      0.3023,      0.3033,      0.3043,     0.30531,     0.30631,     0.30731,     0.30831,     0.30931,     0.31031,     0.31131,\n",
              "           0.31231,     0.31331,     0.31431,     0.31532,     0.31632,     0.31732,     0.31832,     0.31932,     0.32032,     0.32132,     0.32232,     0.32332,     0.32432,     0.32533,     0.32633,     0.32733,     0.32833,     0.32933,     0.33033,     0.33133,     0.33233,     0.33333,     0.33433,     0.33534,\n",
              "           0.33634,     0.33734,     0.33834,     0.33934,     0.34034,     0.34134,     0.34234,     0.34334,     0.34434,     0.34535,     0.34635,     0.34735,     0.34835,     0.34935,     0.35035,     0.35135,     0.35235,     0.35335,     0.35435,     0.35536,     0.35636,     0.35736,     0.35836,     0.35936,\n",
              "           0.36036,     0.36136,     0.36236,     0.36336,     0.36436,     0.36537,     0.36637,     0.36737,     0.36837,     0.36937,     0.37037,     0.37137,     0.37237,     0.37337,     0.37437,     0.37538,     0.37638,     0.37738,     0.37838,     0.37938,     0.38038,     0.38138,     0.38238,     0.38338,\n",
              "           0.38438,     0.38539,     0.38639,     0.38739,     0.38839,     0.38939,     0.39039,     0.39139,     0.39239,     0.39339,     0.39439,      0.3954,      0.3964,      0.3974,      0.3984,      0.3994,      0.4004,      0.4014,      0.4024,      0.4034,      0.4044,     0.40541,     0.40641,     0.40741,\n",
              "           0.40841,     0.40941,     0.41041,     0.41141,     0.41241,     0.41341,     0.41441,     0.41542,     0.41642,     0.41742,     0.41842,     0.41942,     0.42042,     0.42142,     0.42242,     0.42342,     0.42442,     0.42543,     0.42643,     0.42743,     0.42843,     0.42943,     0.43043,     0.43143,\n",
              "           0.43243,     0.43343,     0.43443,     0.43544,     0.43644,     0.43744,     0.43844,     0.43944,     0.44044,     0.44144,     0.44244,     0.44344,     0.44444,     0.44545,     0.44645,     0.44745,     0.44845,     0.44945,     0.45045,     0.45145,     0.45245,     0.45345,     0.45445,     0.45546,\n",
              "           0.45646,     0.45746,     0.45846,     0.45946,     0.46046,     0.46146,     0.46246,     0.46346,     0.46446,     0.46547,     0.46647,     0.46747,     0.46847,     0.46947,     0.47047,     0.47147,     0.47247,     0.47347,     0.47447,     0.47548,     0.47648,     0.47748,     0.47848,     0.47948,\n",
              "           0.48048,     0.48148,     0.48248,     0.48348,     0.48448,     0.48549,     0.48649,     0.48749,     0.48849,     0.48949,     0.49049,     0.49149,     0.49249,     0.49349,     0.49449,      0.4955,      0.4965,      0.4975,      0.4985,      0.4995,      0.5005,      0.5015,      0.5025,      0.5035,\n",
              "            0.5045,     0.50551,     0.50651,     0.50751,     0.50851,     0.50951,     0.51051,     0.51151,     0.51251,     0.51351,     0.51451,     0.51552,     0.51652,     0.51752,     0.51852,     0.51952,     0.52052,     0.52152,     0.52252,     0.52352,     0.52452,     0.52553,     0.52653,     0.52753,\n",
              "           0.52853,     0.52953,     0.53053,     0.53153,     0.53253,     0.53353,     0.53453,     0.53554,     0.53654,     0.53754,     0.53854,     0.53954,     0.54054,     0.54154,     0.54254,     0.54354,     0.54454,     0.54555,     0.54655,     0.54755,     0.54855,     0.54955,     0.55055,     0.55155,\n",
              "           0.55255,     0.55355,     0.55455,     0.55556,     0.55656,     0.55756,     0.55856,     0.55956,     0.56056,     0.56156,     0.56256,     0.56356,     0.56456,     0.56557,     0.56657,     0.56757,     0.56857,     0.56957,     0.57057,     0.57157,     0.57257,     0.57357,     0.57457,     0.57558,\n",
              "           0.57658,     0.57758,     0.57858,     0.57958,     0.58058,     0.58158,     0.58258,     0.58358,     0.58458,     0.58559,     0.58659,     0.58759,     0.58859,     0.58959,     0.59059,     0.59159,     0.59259,     0.59359,     0.59459,      0.5956,      0.5966,      0.5976,      0.5986,      0.5996,\n",
              "            0.6006,      0.6016,      0.6026,      0.6036,      0.6046,     0.60561,     0.60661,     0.60761,     0.60861,     0.60961,     0.61061,     0.61161,     0.61261,     0.61361,     0.61461,     0.61562,     0.61662,     0.61762,     0.61862,     0.61962,     0.62062,     0.62162,     0.62262,     0.62362,\n",
              "           0.62462,     0.62563,     0.62663,     0.62763,     0.62863,     0.62963,     0.63063,     0.63163,     0.63263,     0.63363,     0.63463,     0.63564,     0.63664,     0.63764,     0.63864,     0.63964,     0.64064,     0.64164,     0.64264,     0.64364,     0.64464,     0.64565,     0.64665,     0.64765,\n",
              "           0.64865,     0.64965,     0.65065,     0.65165,     0.65265,     0.65365,     0.65465,     0.65566,     0.65666,     0.65766,     0.65866,     0.65966,     0.66066,     0.66166,     0.66266,     0.66366,     0.66466,     0.66567,     0.66667,     0.66767,     0.66867,     0.66967,     0.67067,     0.67167,\n",
              "           0.67267,     0.67367,     0.67467,     0.67568,     0.67668,     0.67768,     0.67868,     0.67968,     0.68068,     0.68168,     0.68268,     0.68368,     0.68468,     0.68569,     0.68669,     0.68769,     0.68869,     0.68969,     0.69069,     0.69169,     0.69269,     0.69369,     0.69469,      0.6957,\n",
              "            0.6967,      0.6977,      0.6987,      0.6997,      0.7007,      0.7017,      0.7027,      0.7037,      0.7047,     0.70571,     0.70671,     0.70771,     0.70871,     0.70971,     0.71071,     0.71171,     0.71271,     0.71371,     0.71471,     0.71572,     0.71672,     0.71772,     0.71872,     0.71972,\n",
              "           0.72072,     0.72172,     0.72272,     0.72372,     0.72472,     0.72573,     0.72673,     0.72773,     0.72873,     0.72973,     0.73073,     0.73173,     0.73273,     0.73373,     0.73473,     0.73574,     0.73674,     0.73774,     0.73874,     0.73974,     0.74074,     0.74174,     0.74274,     0.74374,\n",
              "           0.74474,     0.74575,     0.74675,     0.74775,     0.74875,     0.74975,     0.75075,     0.75175,     0.75275,     0.75375,     0.75475,     0.75576,     0.75676,     0.75776,     0.75876,     0.75976,     0.76076,     0.76176,     0.76276,     0.76376,     0.76476,     0.76577,     0.76677,     0.76777,\n",
              "           0.76877,     0.76977,     0.77077,     0.77177,     0.77277,     0.77377,     0.77477,     0.77578,     0.77678,     0.77778,     0.77878,     0.77978,     0.78078,     0.78178,     0.78278,     0.78378,     0.78478,     0.78579,     0.78679,     0.78779,     0.78879,     0.78979,     0.79079,     0.79179,\n",
              "           0.79279,     0.79379,     0.79479,      0.7958,      0.7968,      0.7978,      0.7988,      0.7998,      0.8008,      0.8018,      0.8028,      0.8038,      0.8048,     0.80581,     0.80681,     0.80781,     0.80881,     0.80981,     0.81081,     0.81181,     0.81281,     0.81381,     0.81481,     0.81582,\n",
              "           0.81682,     0.81782,     0.81882,     0.81982,     0.82082,     0.82182,     0.82282,     0.82382,     0.82482,     0.82583,     0.82683,     0.82783,     0.82883,     0.82983,     0.83083,     0.83183,     0.83283,     0.83383,     0.83483,     0.83584,     0.83684,     0.83784,     0.83884,     0.83984,\n",
              "           0.84084,     0.84184,     0.84284,     0.84384,     0.84484,     0.84585,     0.84685,     0.84785,     0.84885,     0.84985,     0.85085,     0.85185,     0.85285,     0.85385,     0.85485,     0.85586,     0.85686,     0.85786,     0.85886,     0.85986,     0.86086,     0.86186,     0.86286,     0.86386,\n",
              "           0.86486,     0.86587,     0.86687,     0.86787,     0.86887,     0.86987,     0.87087,     0.87187,     0.87287,     0.87387,     0.87487,     0.87588,     0.87688,     0.87788,     0.87888,     0.87988,     0.88088,     0.88188,     0.88288,     0.88388,     0.88488,     0.88589,     0.88689,     0.88789,\n",
              "           0.88889,     0.88989,     0.89089,     0.89189,     0.89289,     0.89389,     0.89489,      0.8959,      0.8969,      0.8979,      0.8989,      0.8999,      0.9009,      0.9019,      0.9029,      0.9039,      0.9049,     0.90591,     0.90691,     0.90791,     0.90891,     0.90991,     0.91091,     0.91191,\n",
              "           0.91291,     0.91391,     0.91491,     0.91592,     0.91692,     0.91792,     0.91892,     0.91992,     0.92092,     0.92192,     0.92292,     0.92392,     0.92492,     0.92593,     0.92693,     0.92793,     0.92893,     0.92993,     0.93093,     0.93193,     0.93293,     0.93393,     0.93493,     0.93594,\n",
              "           0.93694,     0.93794,     0.93894,     0.93994,     0.94094,     0.94194,     0.94294,     0.94394,     0.94494,     0.94595,     0.94695,     0.94795,     0.94895,     0.94995,     0.95095,     0.95195,     0.95295,     0.95395,     0.95495,     0.95596,     0.95696,     0.95796,     0.95896,     0.95996,\n",
              "           0.96096,     0.96196,     0.96296,     0.96396,     0.96496,     0.96597,     0.96697,     0.96797,     0.96897,     0.96997,     0.97097,     0.97197,     0.97297,     0.97397,     0.97497,     0.97598,     0.97698,     0.97798,     0.97898,     0.97998,     0.98098,     0.98198,     0.98298,     0.98398,\n",
              "           0.98498,     0.98599,     0.98699,     0.98799,     0.98899,     0.98999,     0.99099,     0.99199,     0.99299,     0.99399,     0.99499,       0.996,       0.997,       0.998,       0.999,           1]), array([[   0.021849,     0.02186,    0.031255, ...,           1,           1,           1],\n",
              "       [    0.10181,     0.10182,     0.13817, ...,           1,           1,           1],\n",
              "       [   0.051144,    0.051144,    0.069808, ...,           1,           1,           1]]), 'Confidence', 'Precision'], [array([          0,    0.001001,    0.002002,    0.003003,    0.004004,    0.005005,    0.006006,    0.007007,    0.008008,    0.009009,     0.01001,    0.011011,    0.012012,    0.013013,    0.014014,    0.015015,    0.016016,    0.017017,    0.018018,    0.019019,     0.02002,    0.021021,    0.022022,    0.023023,\n",
              "          0.024024,    0.025025,    0.026026,    0.027027,    0.028028,    0.029029,     0.03003,    0.031031,    0.032032,    0.033033,    0.034034,    0.035035,    0.036036,    0.037037,    0.038038,    0.039039,     0.04004,    0.041041,    0.042042,    0.043043,    0.044044,    0.045045,    0.046046,    0.047047,\n",
              "          0.048048,    0.049049,     0.05005,    0.051051,    0.052052,    0.053053,    0.054054,    0.055055,    0.056056,    0.057057,    0.058058,    0.059059,     0.06006,    0.061061,    0.062062,    0.063063,    0.064064,    0.065065,    0.066066,    0.067067,    0.068068,    0.069069,     0.07007,    0.071071,\n",
              "          0.072072,    0.073073,    0.074074,    0.075075,    0.076076,    0.077077,    0.078078,    0.079079,     0.08008,    0.081081,    0.082082,    0.083083,    0.084084,    0.085085,    0.086086,    0.087087,    0.088088,    0.089089,     0.09009,    0.091091,    0.092092,    0.093093,    0.094094,    0.095095,\n",
              "          0.096096,    0.097097,    0.098098,    0.099099,      0.1001,      0.1011,      0.1021,      0.1031,      0.1041,     0.10511,     0.10611,     0.10711,     0.10811,     0.10911,     0.11011,     0.11111,     0.11211,     0.11311,     0.11411,     0.11512,     0.11612,     0.11712,     0.11812,     0.11912,\n",
              "           0.12012,     0.12112,     0.12212,     0.12312,     0.12412,     0.12513,     0.12613,     0.12713,     0.12813,     0.12913,     0.13013,     0.13113,     0.13213,     0.13313,     0.13413,     0.13514,     0.13614,     0.13714,     0.13814,     0.13914,     0.14014,     0.14114,     0.14214,     0.14314,\n",
              "           0.14414,     0.14515,     0.14615,     0.14715,     0.14815,     0.14915,     0.15015,     0.15115,     0.15215,     0.15315,     0.15415,     0.15516,     0.15616,     0.15716,     0.15816,     0.15916,     0.16016,     0.16116,     0.16216,     0.16316,     0.16416,     0.16517,     0.16617,     0.16717,\n",
              "           0.16817,     0.16917,     0.17017,     0.17117,     0.17217,     0.17317,     0.17417,     0.17518,     0.17618,     0.17718,     0.17818,     0.17918,     0.18018,     0.18118,     0.18218,     0.18318,     0.18418,     0.18519,     0.18619,     0.18719,     0.18819,     0.18919,     0.19019,     0.19119,\n",
              "           0.19219,     0.19319,     0.19419,      0.1952,      0.1962,      0.1972,      0.1982,      0.1992,      0.2002,      0.2012,      0.2022,      0.2032,      0.2042,     0.20521,     0.20621,     0.20721,     0.20821,     0.20921,     0.21021,     0.21121,     0.21221,     0.21321,     0.21421,     0.21522,\n",
              "           0.21622,     0.21722,     0.21822,     0.21922,     0.22022,     0.22122,     0.22222,     0.22322,     0.22422,     0.22523,     0.22623,     0.22723,     0.22823,     0.22923,     0.23023,     0.23123,     0.23223,     0.23323,     0.23423,     0.23524,     0.23624,     0.23724,     0.23824,     0.23924,\n",
              "           0.24024,     0.24124,     0.24224,     0.24324,     0.24424,     0.24525,     0.24625,     0.24725,     0.24825,     0.24925,     0.25025,     0.25125,     0.25225,     0.25325,     0.25425,     0.25526,     0.25626,     0.25726,     0.25826,     0.25926,     0.26026,     0.26126,     0.26226,     0.26326,\n",
              "           0.26426,     0.26527,     0.26627,     0.26727,     0.26827,     0.26927,     0.27027,     0.27127,     0.27227,     0.27327,     0.27427,     0.27528,     0.27628,     0.27728,     0.27828,     0.27928,     0.28028,     0.28128,     0.28228,     0.28328,     0.28428,     0.28529,     0.28629,     0.28729,\n",
              "           0.28829,     0.28929,     0.29029,     0.29129,     0.29229,     0.29329,     0.29429,      0.2953,      0.2963,      0.2973,      0.2983,      0.2993,      0.3003,      0.3013,      0.3023,      0.3033,      0.3043,     0.30531,     0.30631,     0.30731,     0.30831,     0.30931,     0.31031,     0.31131,\n",
              "           0.31231,     0.31331,     0.31431,     0.31532,     0.31632,     0.31732,     0.31832,     0.31932,     0.32032,     0.32132,     0.32232,     0.32332,     0.32432,     0.32533,     0.32633,     0.32733,     0.32833,     0.32933,     0.33033,     0.33133,     0.33233,     0.33333,     0.33433,     0.33534,\n",
              "           0.33634,     0.33734,     0.33834,     0.33934,     0.34034,     0.34134,     0.34234,     0.34334,     0.34434,     0.34535,     0.34635,     0.34735,     0.34835,     0.34935,     0.35035,     0.35135,     0.35235,     0.35335,     0.35435,     0.35536,     0.35636,     0.35736,     0.35836,     0.35936,\n",
              "           0.36036,     0.36136,     0.36236,     0.36336,     0.36436,     0.36537,     0.36637,     0.36737,     0.36837,     0.36937,     0.37037,     0.37137,     0.37237,     0.37337,     0.37437,     0.37538,     0.37638,     0.37738,     0.37838,     0.37938,     0.38038,     0.38138,     0.38238,     0.38338,\n",
              "           0.38438,     0.38539,     0.38639,     0.38739,     0.38839,     0.38939,     0.39039,     0.39139,     0.39239,     0.39339,     0.39439,      0.3954,      0.3964,      0.3974,      0.3984,      0.3994,      0.4004,      0.4014,      0.4024,      0.4034,      0.4044,     0.40541,     0.40641,     0.40741,\n",
              "           0.40841,     0.40941,     0.41041,     0.41141,     0.41241,     0.41341,     0.41441,     0.41542,     0.41642,     0.41742,     0.41842,     0.41942,     0.42042,     0.42142,     0.42242,     0.42342,     0.42442,     0.42543,     0.42643,     0.42743,     0.42843,     0.42943,     0.43043,     0.43143,\n",
              "           0.43243,     0.43343,     0.43443,     0.43544,     0.43644,     0.43744,     0.43844,     0.43944,     0.44044,     0.44144,     0.44244,     0.44344,     0.44444,     0.44545,     0.44645,     0.44745,     0.44845,     0.44945,     0.45045,     0.45145,     0.45245,     0.45345,     0.45445,     0.45546,\n",
              "           0.45646,     0.45746,     0.45846,     0.45946,     0.46046,     0.46146,     0.46246,     0.46346,     0.46446,     0.46547,     0.46647,     0.46747,     0.46847,     0.46947,     0.47047,     0.47147,     0.47247,     0.47347,     0.47447,     0.47548,     0.47648,     0.47748,     0.47848,     0.47948,\n",
              "           0.48048,     0.48148,     0.48248,     0.48348,     0.48448,     0.48549,     0.48649,     0.48749,     0.48849,     0.48949,     0.49049,     0.49149,     0.49249,     0.49349,     0.49449,      0.4955,      0.4965,      0.4975,      0.4985,      0.4995,      0.5005,      0.5015,      0.5025,      0.5035,\n",
              "            0.5045,     0.50551,     0.50651,     0.50751,     0.50851,     0.50951,     0.51051,     0.51151,     0.51251,     0.51351,     0.51451,     0.51552,     0.51652,     0.51752,     0.51852,     0.51952,     0.52052,     0.52152,     0.52252,     0.52352,     0.52452,     0.52553,     0.52653,     0.52753,\n",
              "           0.52853,     0.52953,     0.53053,     0.53153,     0.53253,     0.53353,     0.53453,     0.53554,     0.53654,     0.53754,     0.53854,     0.53954,     0.54054,     0.54154,     0.54254,     0.54354,     0.54454,     0.54555,     0.54655,     0.54755,     0.54855,     0.54955,     0.55055,     0.55155,\n",
              "           0.55255,     0.55355,     0.55455,     0.55556,     0.55656,     0.55756,     0.55856,     0.55956,     0.56056,     0.56156,     0.56256,     0.56356,     0.56456,     0.56557,     0.56657,     0.56757,     0.56857,     0.56957,     0.57057,     0.57157,     0.57257,     0.57357,     0.57457,     0.57558,\n",
              "           0.57658,     0.57758,     0.57858,     0.57958,     0.58058,     0.58158,     0.58258,     0.58358,     0.58458,     0.58559,     0.58659,     0.58759,     0.58859,     0.58959,     0.59059,     0.59159,     0.59259,     0.59359,     0.59459,      0.5956,      0.5966,      0.5976,      0.5986,      0.5996,\n",
              "            0.6006,      0.6016,      0.6026,      0.6036,      0.6046,     0.60561,     0.60661,     0.60761,     0.60861,     0.60961,     0.61061,     0.61161,     0.61261,     0.61361,     0.61461,     0.61562,     0.61662,     0.61762,     0.61862,     0.61962,     0.62062,     0.62162,     0.62262,     0.62362,\n",
              "           0.62462,     0.62563,     0.62663,     0.62763,     0.62863,     0.62963,     0.63063,     0.63163,     0.63263,     0.63363,     0.63463,     0.63564,     0.63664,     0.63764,     0.63864,     0.63964,     0.64064,     0.64164,     0.64264,     0.64364,     0.64464,     0.64565,     0.64665,     0.64765,\n",
              "           0.64865,     0.64965,     0.65065,     0.65165,     0.65265,     0.65365,     0.65465,     0.65566,     0.65666,     0.65766,     0.65866,     0.65966,     0.66066,     0.66166,     0.66266,     0.66366,     0.66466,     0.66567,     0.66667,     0.66767,     0.66867,     0.66967,     0.67067,     0.67167,\n",
              "           0.67267,     0.67367,     0.67467,     0.67568,     0.67668,     0.67768,     0.67868,     0.67968,     0.68068,     0.68168,     0.68268,     0.68368,     0.68468,     0.68569,     0.68669,     0.68769,     0.68869,     0.68969,     0.69069,     0.69169,     0.69269,     0.69369,     0.69469,      0.6957,\n",
              "            0.6967,      0.6977,      0.6987,      0.6997,      0.7007,      0.7017,      0.7027,      0.7037,      0.7047,     0.70571,     0.70671,     0.70771,     0.70871,     0.70971,     0.71071,     0.71171,     0.71271,     0.71371,     0.71471,     0.71572,     0.71672,     0.71772,     0.71872,     0.71972,\n",
              "           0.72072,     0.72172,     0.72272,     0.72372,     0.72472,     0.72573,     0.72673,     0.72773,     0.72873,     0.72973,     0.73073,     0.73173,     0.73273,     0.73373,     0.73473,     0.73574,     0.73674,     0.73774,     0.73874,     0.73974,     0.74074,     0.74174,     0.74274,     0.74374,\n",
              "           0.74474,     0.74575,     0.74675,     0.74775,     0.74875,     0.74975,     0.75075,     0.75175,     0.75275,     0.75375,     0.75475,     0.75576,     0.75676,     0.75776,     0.75876,     0.75976,     0.76076,     0.76176,     0.76276,     0.76376,     0.76476,     0.76577,     0.76677,     0.76777,\n",
              "           0.76877,     0.76977,     0.77077,     0.77177,     0.77277,     0.77377,     0.77477,     0.77578,     0.77678,     0.77778,     0.77878,     0.77978,     0.78078,     0.78178,     0.78278,     0.78378,     0.78478,     0.78579,     0.78679,     0.78779,     0.78879,     0.78979,     0.79079,     0.79179,\n",
              "           0.79279,     0.79379,     0.79479,      0.7958,      0.7968,      0.7978,      0.7988,      0.7998,      0.8008,      0.8018,      0.8028,      0.8038,      0.8048,     0.80581,     0.80681,     0.80781,     0.80881,     0.80981,     0.81081,     0.81181,     0.81281,     0.81381,     0.81481,     0.81582,\n",
              "           0.81682,     0.81782,     0.81882,     0.81982,     0.82082,     0.82182,     0.82282,     0.82382,     0.82482,     0.82583,     0.82683,     0.82783,     0.82883,     0.82983,     0.83083,     0.83183,     0.83283,     0.83383,     0.83483,     0.83584,     0.83684,     0.83784,     0.83884,     0.83984,\n",
              "           0.84084,     0.84184,     0.84284,     0.84384,     0.84484,     0.84585,     0.84685,     0.84785,     0.84885,     0.84985,     0.85085,     0.85185,     0.85285,     0.85385,     0.85485,     0.85586,     0.85686,     0.85786,     0.85886,     0.85986,     0.86086,     0.86186,     0.86286,     0.86386,\n",
              "           0.86486,     0.86587,     0.86687,     0.86787,     0.86887,     0.86987,     0.87087,     0.87187,     0.87287,     0.87387,     0.87487,     0.87588,     0.87688,     0.87788,     0.87888,     0.87988,     0.88088,     0.88188,     0.88288,     0.88388,     0.88488,     0.88589,     0.88689,     0.88789,\n",
              "           0.88889,     0.88989,     0.89089,     0.89189,     0.89289,     0.89389,     0.89489,      0.8959,      0.8969,      0.8979,      0.8989,      0.8999,      0.9009,      0.9019,      0.9029,      0.9039,      0.9049,     0.90591,     0.90691,     0.90791,     0.90891,     0.90991,     0.91091,     0.91191,\n",
              "           0.91291,     0.91391,     0.91491,     0.91592,     0.91692,     0.91792,     0.91892,     0.91992,     0.92092,     0.92192,     0.92292,     0.92392,     0.92492,     0.92593,     0.92693,     0.92793,     0.92893,     0.92993,     0.93093,     0.93193,     0.93293,     0.93393,     0.93493,     0.93594,\n",
              "           0.93694,     0.93794,     0.93894,     0.93994,     0.94094,     0.94194,     0.94294,     0.94394,     0.94494,     0.94595,     0.94695,     0.94795,     0.94895,     0.94995,     0.95095,     0.95195,     0.95295,     0.95395,     0.95495,     0.95596,     0.95696,     0.95796,     0.95896,     0.95996,\n",
              "           0.96096,     0.96196,     0.96296,     0.96396,     0.96496,     0.96597,     0.96697,     0.96797,     0.96897,     0.96997,     0.97097,     0.97197,     0.97297,     0.97397,     0.97497,     0.97598,     0.97698,     0.97798,     0.97898,     0.97998,     0.98098,     0.98198,     0.98298,     0.98398,\n",
              "           0.98498,     0.98599,     0.98699,     0.98799,     0.98899,     0.98999,     0.99099,     0.99199,     0.99299,     0.99399,     0.99499,       0.996,       0.997,       0.998,       0.999,           1]), array([[    0.92857,     0.92857,     0.92857, ...,           0,           0,           0],\n",
              "       [    0.94519,     0.94519,     0.94385, ...,           0,           0,           0],\n",
              "       [    0.87978,     0.87978,     0.86885, ...,           0,           0,           0]]), 'Confidence', 'Recall']]\n",
              "fitness: np.float64(0.46872781733043706)\n",
              "keys: ['metrics/precision(B)', 'metrics/recall(B)', 'metrics/mAP50(B)', 'metrics/mAP50-95(B)']\n",
              "maps: array([    0.34479,     0.56489,     0.40916])\n",
              "names: {0: 'mask_weared_incorrect', 1: 'with_mask', 2: 'without_mask'}\n",
              "nt_per_class: array([ 28, 748, 183])\n",
              "nt_per_image: array([ 23, 149,  60])\n",
              "results_dict: {'metrics/precision(B)': np.float64(0.7636733330730093), 'metrics/recall(B)': np.float64(0.6939217089417226), 'metrics/mAP50(B)': np.float64(0.7307472721965187), 'metrics/mAP50-95(B)': np.float64(0.4396145445675391), 'fitness': np.float64(0.46872781733043706)}\n",
              "save_dir: PosixPath('runs/detect/train2')\n",
              "speed: {'preprocess': 3.448688853798861, 'inference': 5.880758982454358, 'loss': 0.0010756023395877183, 'postprocess': 5.2220908304068825}\n",
              "stats: {'tp': [], 'conf': [], 'pred_cls': [], 'target_cls': [], 'target_img': []}\n",
              "task: 'detect'"
            ]
          },
          "metadata": {},
          "execution_count": 7
        }
      ]
    },
    {
      "cell_type": "code",
      "source": [
        "!yolo detect train data='/content/facemaskdataset-1/data.yaml' model=yolov8n.pt imgsz=640 epochs=50 \\\n",
        "--hsv_h=0.015 --hsv_s=0.7 --hsv_v=0.4 \\\n",
        "--degrees=10 --translate=0.1 --scale=0.5 --shear=2.0 \\\n",
        "--flipud=0.5 --fliplr=0.5 --mixup=0.2 --copy_paste=0.1\n"
      ],
      "metadata": {
        "colab": {
          "base_uri": "https://localhost:8080/"
        },
        "id": "JiiE3RF2zCIM",
        "outputId": "ad652a08-a1f9-4dfb-adec-2a8e6e98842e"
      },
      "execution_count": 11,
      "outputs": [
        {
          "output_type": "stream",
          "name": "stdout",
          "text": [
            "WARNING ⚠️ argument '--hsv_h=0.015' does not require leading dashes '--', updating to 'hsv_h=0.015'.\n",
            "WARNING ⚠️ argument '--hsv_s=0.7' does not require leading dashes '--', updating to 'hsv_s=0.7'.\n",
            "WARNING ⚠️ argument '--hsv_v=0.4' does not require leading dashes '--', updating to 'hsv_v=0.4'.\n",
            "WARNING ⚠️ argument '--degrees=10' does not require leading dashes '--', updating to 'degrees=10'.\n",
            "WARNING ⚠️ argument '--translate=0.1' does not require leading dashes '--', updating to 'translate=0.1'.\n",
            "WARNING ⚠️ argument '--scale=0.5' does not require leading dashes '--', updating to 'scale=0.5'.\n",
            "WARNING ⚠️ argument '--shear=2.0' does not require leading dashes '--', updating to 'shear=2.0'.\n",
            "WARNING ⚠️ argument '--flipud=0.5' does not require leading dashes '--', updating to 'flipud=0.5'.\n",
            "WARNING ⚠️ argument '--fliplr=0.5' does not require leading dashes '--', updating to 'fliplr=0.5'.\n",
            "WARNING ⚠️ argument '--mixup=0.2' does not require leading dashes '--', updating to 'mixup=0.2'.\n",
            "WARNING ⚠️ argument '--copy_paste=0.1' does not require leading dashes '--', updating to 'copy_paste=0.1'.\n",
            "Ultralytics 8.3.170 🚀 Python-3.11.13 torch-2.6.0+cu124 CUDA:0 (Tesla T4, 15095MiB)\n",
            "\u001b[34m\u001b[1mengine/trainer: \u001b[0magnostic_nms=False, amp=True, augment=False, auto_augment=randaugment, batch=16, bgr=0.0, box=7.5, cache=False, cfg=None, classes=None, close_mosaic=10, cls=0.5, conf=None, copy_paste=0.1, copy_paste_mode=flip, cos_lr=False, cutmix=0.0, data=/content/facemaskdataset-1/data.yaml, degrees=10, deterministic=True, device=None, dfl=1.5, dnn=False, dropout=0.0, dynamic=False, embed=None, epochs=50, erasing=0.4, exist_ok=False, fliplr=0.5, flipud=0.5, format=torchscript, fraction=1.0, freeze=None, half=False, hsv_h=0.015, hsv_s=0.7, hsv_v=0.4, imgsz=640, int8=False, iou=0.7, keras=False, kobj=1.0, line_width=None, lr0=0.01, lrf=0.01, mask_ratio=4, max_det=300, mixup=0.2, mode=train, model=yolov8n.pt, momentum=0.937, mosaic=1.0, multi_scale=False, name=train4, nbs=64, nms=False, opset=None, optimize=False, optimizer=auto, overlap_mask=True, patience=100, perspective=0.0, plots=True, pose=12.0, pretrained=True, profile=False, project=None, rect=False, resume=False, retina_masks=False, save=True, save_conf=False, save_crop=False, save_dir=runs/detect/train4, save_frames=False, save_json=False, save_period=-1, save_txt=False, scale=0.5, seed=0, shear=2.0, show=False, show_boxes=True, show_conf=True, show_labels=True, simplify=True, single_cls=False, source=None, split=val, stream_buffer=False, task=detect, time=None, tracker=botsort.yaml, translate=0.1, val=True, verbose=True, vid_stride=1, visualize=False, warmup_bias_lr=0.1, warmup_epochs=3.0, warmup_momentum=0.8, weight_decay=0.0005, workers=8, workspace=None\n",
            "Overriding model.yaml nc=80 with nc=3\n",
            "\n",
            "                   from  n    params  module                                       arguments                     \n",
            "  0                  -1  1       464  ultralytics.nn.modules.conv.Conv             [3, 16, 3, 2]                 \n",
            "  1                  -1  1      4672  ultralytics.nn.modules.conv.Conv             [16, 32, 3, 2]                \n",
            "  2                  -1  1      7360  ultralytics.nn.modules.block.C2f             [32, 32, 1, True]             \n",
            "  3                  -1  1     18560  ultralytics.nn.modules.conv.Conv             [32, 64, 3, 2]                \n",
            "  4                  -1  2     49664  ultralytics.nn.modules.block.C2f             [64, 64, 2, True]             \n",
            "  5                  -1  1     73984  ultralytics.nn.modules.conv.Conv             [64, 128, 3, 2]               \n",
            "  6                  -1  2    197632  ultralytics.nn.modules.block.C2f             [128, 128, 2, True]           \n",
            "  7                  -1  1    295424  ultralytics.nn.modules.conv.Conv             [128, 256, 3, 2]              \n",
            "  8                  -1  1    460288  ultralytics.nn.modules.block.C2f             [256, 256, 1, True]           \n",
            "  9                  -1  1    164608  ultralytics.nn.modules.block.SPPF            [256, 256, 5]                 \n",
            " 10                  -1  1         0  torch.nn.modules.upsampling.Upsample         [None, 2, 'nearest']          \n",
            " 11             [-1, 6]  1         0  ultralytics.nn.modules.conv.Concat           [1]                           \n",
            " 12                  -1  1    148224  ultralytics.nn.modules.block.C2f             [384, 128, 1]                 \n",
            " 13                  -1  1         0  torch.nn.modules.upsampling.Upsample         [None, 2, 'nearest']          \n",
            " 14             [-1, 4]  1         0  ultralytics.nn.modules.conv.Concat           [1]                           \n",
            " 15                  -1  1     37248  ultralytics.nn.modules.block.C2f             [192, 64, 1]                  \n",
            " 16                  -1  1     36992  ultralytics.nn.modules.conv.Conv             [64, 64, 3, 2]                \n",
            " 17            [-1, 12]  1         0  ultralytics.nn.modules.conv.Concat           [1]                           \n",
            " 18                  -1  1    123648  ultralytics.nn.modules.block.C2f             [192, 128, 1]                 \n",
            " 19                  -1  1    147712  ultralytics.nn.modules.conv.Conv             [128, 128, 3, 2]              \n",
            " 20             [-1, 9]  1         0  ultralytics.nn.modules.conv.Concat           [1]                           \n",
            " 21                  -1  1    493056  ultralytics.nn.modules.block.C2f             [384, 256, 1]                 \n",
            " 22        [15, 18, 21]  1    751897  ultralytics.nn.modules.head.Detect           [3, [64, 128, 256]]           \n",
            "Model summary: 129 layers, 3,011,433 parameters, 3,011,417 gradients, 8.2 GFLOPs\n",
            "\n",
            "Transferred 319/355 items from pretrained weights\n",
            "Freezing layer 'model.22.dfl.conv.weight'\n",
            "\u001b[34m\u001b[1mAMP: \u001b[0mrunning Automatic Mixed Precision (AMP) checks...\n",
            "\u001b[34m\u001b[1mAMP: \u001b[0mchecks passed ✅\n",
            "\u001b[34m\u001b[1mtrain: \u001b[0mFast image access ✅ (ping: 0.0±0.0 ms, read: 1454.6±676.7 MB/s, size: 43.4 KB)\n",
            "\u001b[34m\u001b[1mtrain: \u001b[0mScanning /content/facemaskdataset-1/train/labels.cache... 1779 images, 0 backgrounds, 0 corrupt: 100% 1779/1779 [00:00<?, ?it/s]\n",
            "\u001b[34m\u001b[1malbumentations: \u001b[0mBlur(p=0.01, blur_limit=(3, 7)), MedianBlur(p=0.01, blur_limit=(3, 7)), ToGray(p=0.01, method='weighted_average', num_output_channels=3), CLAHE(p=0.01, clip_limit=(1.0, 4.0), tile_grid_size=(8, 8))\n",
            "\u001b[34m\u001b[1mval: \u001b[0mFast image access ✅ (ping: 0.0±0.0 ms, read: 1055.6±618.8 MB/s, size: 50.8 KB)\n",
            "\u001b[34m\u001b[1mval: \u001b[0mScanning /content/facemaskdataset-1/valid/labels.cache... 171 images, 0 backgrounds, 0 corrupt: 100% 171/171 [00:00<?, ?it/s]\n",
            "Plotting labels to runs/detect/train4/labels.jpg... \n",
            "\u001b[34m\u001b[1moptimizer:\u001b[0m 'optimizer=auto' found, ignoring 'lr0=0.01' and 'momentum=0.937' and determining best 'optimizer', 'lr0' and 'momentum' automatically... \n",
            "\u001b[34m\u001b[1moptimizer:\u001b[0m AdamW(lr=0.001429, momentum=0.9) with parameter groups 57 weight(decay=0.0), 64 weight(decay=0.0005), 63 bias(decay=0.0)\n",
            "Image sizes 640 train, 640 val\n",
            "Using 2 dataloader workers\n",
            "Logging results to \u001b[1mruns/detect/train4\u001b[0m\n",
            "Starting training for 50 epochs...\n",
            "\n",
            "      Epoch    GPU_mem   box_loss   cls_loss   dfl_loss  Instances       Size\n",
            "       1/50       2.6G      1.971       2.57      1.637         50        640: 100% 112/112 [00:37<00:00,  2.99it/s]\n",
            "                 Class     Images  Instances      Box(P          R      mAP50  mAP50-95): 100% 6/6 [00:01<00:00,  3.51it/s]\n",
            "                   all        171        959      0.757      0.189      0.248     0.0751\n",
            "\n",
            "      Epoch    GPU_mem   box_loss   cls_loss   dfl_loss  Instances       Size\n",
            "       2/50      4.04G      1.702      1.776      1.413         30        640: 100% 112/112 [00:32<00:00,  3.41it/s]\n",
            "                 Class     Images  Instances      Box(P          R      mAP50  mAP50-95): 100% 6/6 [00:01<00:00,  3.43it/s]\n",
            "                   all        171        959      0.763      0.388      0.403      0.178\n",
            "\n",
            "      Epoch    GPU_mem   box_loss   cls_loss   dfl_loss  Instances       Size\n",
            "       3/50      4.04G      1.676      1.608      1.379         41        640: 100% 112/112 [00:33<00:00,  3.36it/s]\n",
            "                 Class     Images  Instances      Box(P          R      mAP50  mAP50-95): 100% 6/6 [00:01<00:00,  3.54it/s]\n",
            "                   all        171        959      0.789       0.34      0.369       0.17\n",
            "\n",
            "      Epoch    GPU_mem   box_loss   cls_loss   dfl_loss  Instances       Size\n",
            "       4/50      4.07G      1.626      1.519      1.365         14        640: 100% 112/112 [00:34<00:00,  3.28it/s]\n",
            "                 Class     Images  Instances      Box(P          R      mAP50  mAP50-95): 100% 6/6 [00:01<00:00,  3.83it/s]\n",
            "                   all        171        959      0.871      0.408      0.469       0.21\n",
            "\n",
            "      Epoch    GPU_mem   box_loss   cls_loss   dfl_loss  Instances       Size\n",
            "       5/50      4.07G      1.615      1.456      1.349         40        640: 100% 112/112 [00:32<00:00,  3.47it/s]\n",
            "                 Class     Images  Instances      Box(P          R      mAP50  mAP50-95): 100% 6/6 [00:02<00:00,  2.37it/s]\n",
            "                   all        171        959      0.468      0.391      0.458      0.226\n",
            "\n",
            "      Epoch    GPU_mem   box_loss   cls_loss   dfl_loss  Instances       Size\n",
            "       6/50      4.08G      1.564      1.346      1.325         43        640: 100% 112/112 [00:31<00:00,  3.51it/s]\n",
            "                 Class     Images  Instances      Box(P          R      mAP50  mAP50-95): 100% 6/6 [00:01<00:00,  3.75it/s]\n",
            "                   all        171        959      0.814      0.395      0.439      0.222\n",
            "\n",
            "      Epoch    GPU_mem   box_loss   cls_loss   dfl_loss  Instances       Size\n",
            "       7/50      4.08G      1.564      1.318      1.324         28        640: 100% 112/112 [00:33<00:00,  3.30it/s]\n",
            "                 Class     Images  Instances      Box(P          R      mAP50  mAP50-95): 100% 6/6 [00:01<00:00,  3.80it/s]\n",
            "                   all        171        959      0.505      0.447      0.508      0.237\n",
            "\n",
            "      Epoch    GPU_mem   box_loss   cls_loss   dfl_loss  Instances       Size\n",
            "       8/50      4.08G      1.548      1.287      1.319         31        640: 100% 112/112 [00:32<00:00,  3.46it/s]\n",
            "                 Class     Images  Instances      Box(P          R      mAP50  mAP50-95): 100% 6/6 [00:02<00:00,  2.40it/s]\n",
            "                   all        171        959      0.451      0.454      0.504       0.27\n",
            "\n",
            "      Epoch    GPU_mem   box_loss   cls_loss   dfl_loss  Instances       Size\n",
            "       9/50       4.1G      1.541       1.25      1.316         31        640: 100% 112/112 [00:32<00:00,  3.46it/s]\n",
            "                 Class     Images  Instances      Box(P          R      mAP50  mAP50-95): 100% 6/6 [00:01<00:00,  3.73it/s]\n",
            "                   all        171        959      0.891      0.431      0.516      0.298\n",
            "\n",
            "      Epoch    GPU_mem   box_loss   cls_loss   dfl_loss  Instances       Size\n",
            "      10/50       4.1G       1.54      1.195      1.297         76        640: 100% 112/112 [00:33<00:00,  3.39it/s]\n",
            "                 Class     Images  Instances      Box(P          R      mAP50  mAP50-95): 100% 6/6 [00:01<00:00,  4.07it/s]\n",
            "                   all        171        959      0.733      0.548      0.592      0.267\n",
            "\n",
            "      Epoch    GPU_mem   box_loss   cls_loss   dfl_loss  Instances       Size\n",
            "      11/50      4.11G      1.505      1.187      1.289         22        640: 100% 112/112 [00:31<00:00,  3.51it/s]\n",
            "                 Class     Images  Instances      Box(P          R      mAP50  mAP50-95): 100% 6/6 [00:02<00:00,  2.18it/s]\n",
            "                   all        171        959      0.888      0.457      0.556      0.307\n",
            "\n",
            "      Epoch    GPU_mem   box_loss   cls_loss   dfl_loss  Instances       Size\n",
            "      12/50      4.11G      1.512      1.182      1.289          8        640: 100% 112/112 [00:32<00:00,  3.47it/s]\n",
            "                 Class     Images  Instances      Box(P          R      mAP50  mAP50-95): 100% 6/6 [00:01<00:00,  3.76it/s]\n",
            "                   all        171        959      0.909      0.416      0.507      0.279\n",
            "\n",
            "      Epoch    GPU_mem   box_loss   cls_loss   dfl_loss  Instances       Size\n",
            "      13/50      4.11G       1.49      1.154       1.28         13        640: 100% 112/112 [00:33<00:00,  3.37it/s]\n",
            "                 Class     Images  Instances      Box(P          R      mAP50  mAP50-95): 100% 6/6 [00:01<00:00,  3.83it/s]\n",
            "                   all        171        959      0.869      0.456      0.577      0.322\n",
            "\n",
            "      Epoch    GPU_mem   box_loss   cls_loss   dfl_loss  Instances       Size\n",
            "      14/50      4.11G      1.462      1.127       1.26         76        640: 100% 112/112 [00:32<00:00,  3.48it/s]\n",
            "                 Class     Images  Instances      Box(P          R      mAP50  mAP50-95): 100% 6/6 [00:02<00:00,  2.39it/s]\n",
            "                   all        171        959      0.704      0.641      0.682      0.355\n",
            "\n",
            "      Epoch    GPU_mem   box_loss   cls_loss   dfl_loss  Instances       Size\n",
            "      15/50      4.11G      1.477      1.109      1.274         19        640: 100% 112/112 [00:31<00:00,  3.54it/s]\n",
            "                 Class     Images  Instances      Box(P          R      mAP50  mAP50-95): 100% 6/6 [00:01<00:00,  3.75it/s]\n",
            "                   all        171        959      0.634       0.58      0.598      0.357\n",
            "\n",
            "      Epoch    GPU_mem   box_loss   cls_loss   dfl_loss  Instances       Size\n",
            "      16/50      4.11G      1.452      1.098      1.261         38        640: 100% 112/112 [00:33<00:00,  3.37it/s]\n",
            "                 Class     Images  Instances      Box(P          R      mAP50  mAP50-95): 100% 6/6 [00:01<00:00,  3.72it/s]\n",
            "                   all        171        959      0.619      0.501      0.534      0.307\n",
            "\n",
            "      Epoch    GPU_mem   box_loss   cls_loss   dfl_loss  Instances       Size\n",
            "      17/50      4.11G      1.462      1.095      1.258          5        640: 100% 112/112 [00:32<00:00,  3.42it/s]\n",
            "                 Class     Images  Instances      Box(P          R      mAP50  mAP50-95): 100% 6/6 [00:02<00:00,  2.36it/s]\n",
            "                   all        171        959      0.709      0.507      0.569      0.328\n",
            "\n",
            "      Epoch    GPU_mem   box_loss   cls_loss   dfl_loss  Instances       Size\n",
            "      18/50      4.11G       1.46      1.086      1.272         11        640: 100% 112/112 [00:31<00:00,  3.51it/s]\n",
            "                 Class     Images  Instances      Box(P          R      mAP50  mAP50-95): 100% 6/6 [00:01<00:00,  4.04it/s]\n",
            "                   all        171        959      0.698      0.541      0.616      0.369\n",
            "\n",
            "      Epoch    GPU_mem   box_loss   cls_loss   dfl_loss  Instances       Size\n",
            "      19/50      4.11G      1.456      1.075      1.253         25        640: 100% 112/112 [00:33<00:00,  3.31it/s]\n",
            "                 Class     Images  Instances      Box(P          R      mAP50  mAP50-95): 100% 6/6 [00:01<00:00,  3.83it/s]\n",
            "                   all        171        959      0.842      0.586      0.645      0.381\n",
            "\n",
            "      Epoch    GPU_mem   box_loss   cls_loss   dfl_loss  Instances       Size\n",
            "      20/50      4.11G      1.418       1.04      1.252         20        640: 100% 112/112 [00:32<00:00,  3.41it/s]\n",
            "                 Class     Images  Instances      Box(P          R      mAP50  mAP50-95): 100% 6/6 [00:02<00:00,  2.92it/s]\n",
            "                   all        171        959      0.671      0.571      0.637      0.364\n",
            "\n",
            "      Epoch    GPU_mem   box_loss   cls_loss   dfl_loss  Instances       Size\n",
            "      21/50      4.11G      1.428      1.044      1.256         17        640: 100% 112/112 [00:32<00:00,  3.48it/s]\n",
            "                 Class     Images  Instances      Box(P          R      mAP50  mAP50-95): 100% 6/6 [00:01<00:00,  3.99it/s]\n",
            "                   all        171        959      0.726      0.562      0.622      0.369\n",
            "\n",
            "      Epoch    GPU_mem   box_loss   cls_loss   dfl_loss  Instances       Size\n",
            "      22/50      4.11G      1.422      1.034      1.248         20        640: 100% 112/112 [00:33<00:00,  3.38it/s]\n",
            "                 Class     Images  Instances      Box(P          R      mAP50  mAP50-95): 100% 6/6 [00:01<00:00,  3.89it/s]\n",
            "                   all        171        959      0.673      0.531      0.577      0.345\n",
            "\n",
            "      Epoch    GPU_mem   box_loss   cls_loss   dfl_loss  Instances       Size\n",
            "      23/50      4.11G      1.422      1.027      1.247         21        640: 100% 112/112 [00:32<00:00,  3.40it/s]\n",
            "                 Class     Images  Instances      Box(P          R      mAP50  mAP50-95): 100% 6/6 [00:02<00:00,  2.84it/s]\n",
            "                   all        171        959      0.693      0.507      0.599      0.386\n",
            "\n",
            "      Epoch    GPU_mem   box_loss   cls_loss   dfl_loss  Instances       Size\n",
            "      24/50      4.11G      1.413     0.9979      1.229         28        640: 100% 112/112 [00:32<00:00,  3.50it/s]\n",
            "                 Class     Images  Instances      Box(P          R      mAP50  mAP50-95): 100% 6/6 [00:01<00:00,  3.81it/s]\n",
            "                   all        171        959       0.72       0.59      0.668      0.389\n",
            "\n",
            "      Epoch    GPU_mem   box_loss   cls_loss   dfl_loss  Instances       Size\n",
            "      25/50      4.11G      1.385     0.9791      1.222         10        640: 100% 112/112 [00:32<00:00,  3.40it/s]\n",
            "                 Class     Images  Instances      Box(P          R      mAP50  mAP50-95): 100% 6/6 [00:01<00:00,  3.54it/s]\n",
            "                   all        171        959      0.709      0.588      0.648      0.373\n",
            "\n",
            "      Epoch    GPU_mem   box_loss   cls_loss   dfl_loss  Instances       Size\n",
            "      26/50      4.11G      1.402     0.9897      1.235         17        640: 100% 112/112 [00:32<00:00,  3.46it/s]\n",
            "                 Class     Images  Instances      Box(P          R      mAP50  mAP50-95): 100% 6/6 [00:02<00:00,  2.32it/s]\n",
            "                   all        171        959      0.729      0.575      0.647      0.394\n",
            "\n",
            "      Epoch    GPU_mem   box_loss   cls_loss   dfl_loss  Instances       Size\n",
            "      27/50      4.11G      1.395     0.9723      1.225         38        640: 100% 112/112 [00:32<00:00,  3.46it/s]\n",
            "                 Class     Images  Instances      Box(P          R      mAP50  mAP50-95): 100% 6/6 [00:01<00:00,  4.04it/s]\n",
            "                   all        171        959      0.874      0.511      0.624      0.349\n",
            "\n",
            "      Epoch    GPU_mem   box_loss   cls_loss   dfl_loss  Instances       Size\n",
            "      28/50      4.11G      1.384     0.9734      1.214         13        640: 100% 112/112 [00:33<00:00,  3.31it/s]\n",
            "                 Class     Images  Instances      Box(P          R      mAP50  mAP50-95): 100% 6/6 [00:01<00:00,  3.85it/s]\n",
            "                   all        171        959      0.871      0.591      0.689      0.425\n",
            "\n",
            "      Epoch    GPU_mem   box_loss   cls_loss   dfl_loss  Instances       Size\n",
            "      29/50      4.11G      1.378      0.943      1.214         25        640: 100% 112/112 [00:32<00:00,  3.41it/s]\n",
            "                 Class     Images  Instances      Box(P          R      mAP50  mAP50-95): 100% 6/6 [00:02<00:00,  2.76it/s]\n",
            "                   all        171        959      0.777      0.621      0.681      0.416\n",
            "\n",
            "      Epoch    GPU_mem   box_loss   cls_loss   dfl_loss  Instances       Size\n",
            "      30/50      4.11G      1.359     0.9287      1.202         27        640: 100% 112/112 [00:31<00:00,  3.52it/s]\n",
            "                 Class     Images  Instances      Box(P          R      mAP50  mAP50-95): 100% 6/6 [00:01<00:00,  3.66it/s]\n",
            "                   all        171        959      0.734      0.596       0.67      0.423\n",
            "\n",
            "      Epoch    GPU_mem   box_loss   cls_loss   dfl_loss  Instances       Size\n",
            "      31/50      4.11G      1.365      0.925      1.211          6        640: 100% 112/112 [00:33<00:00,  3.39it/s]\n",
            "                 Class     Images  Instances      Box(P          R      mAP50  mAP50-95): 100% 6/6 [00:01<00:00,  3.72it/s]\n",
            "                   all        171        959      0.814       0.59      0.666      0.402\n",
            "\n",
            "      Epoch    GPU_mem   box_loss   cls_loss   dfl_loss  Instances       Size\n",
            "      32/50      4.11G      1.355     0.9201      1.207         46        640: 100% 112/112 [00:31<00:00,  3.50it/s]\n",
            "                 Class     Images  Instances      Box(P          R      mAP50  mAP50-95): 100% 6/6 [00:02<00:00,  2.95it/s]\n",
            "                   all        171        959      0.783      0.562      0.658      0.407\n",
            "\n",
            "      Epoch    GPU_mem   box_loss   cls_loss   dfl_loss  Instances       Size\n",
            "      33/50      4.11G      1.348     0.9131      1.194         37        640: 100% 112/112 [00:32<00:00,  3.48it/s]\n",
            "                 Class     Images  Instances      Box(P          R      mAP50  mAP50-95): 100% 6/6 [00:01<00:00,  3.93it/s]\n",
            "                   all        171        959      0.881      0.591      0.705      0.401\n",
            "\n",
            "      Epoch    GPU_mem   box_loss   cls_loss   dfl_loss  Instances       Size\n",
            "      34/50      4.11G       1.35     0.8968      1.201         22        640: 100% 112/112 [00:33<00:00,  3.39it/s]\n",
            "                 Class     Images  Instances      Box(P          R      mAP50  mAP50-95): 100% 6/6 [00:01<00:00,  3.61it/s]\n",
            "                   all        171        959      0.693      0.638      0.679      0.407\n",
            "\n",
            "      Epoch    GPU_mem   box_loss   cls_loss   dfl_loss  Instances       Size\n",
            "      35/50      4.11G      1.319     0.8618      1.181         10        640: 100% 112/112 [00:31<00:00,  3.50it/s]\n",
            "                 Class     Images  Instances      Box(P          R      mAP50  mAP50-95): 100% 6/6 [00:02<00:00,  2.42it/s]\n",
            "                   all        171        959      0.746      0.607      0.698      0.441\n",
            "\n",
            "      Epoch    GPU_mem   box_loss   cls_loss   dfl_loss  Instances       Size\n",
            "      36/50      4.11G      1.338     0.8861      1.197         18        640: 100% 112/112 [00:32<00:00,  3.49it/s]\n",
            "                 Class     Images  Instances      Box(P          R      mAP50  mAP50-95): 100% 6/6 [00:01<00:00,  3.63it/s]\n",
            "                   all        171        959      0.726      0.664      0.726      0.454\n",
            "\n",
            "      Epoch    GPU_mem   box_loss   cls_loss   dfl_loss  Instances       Size\n",
            "      37/50      4.11G      1.325     0.8784       1.18         31        640: 100% 112/112 [00:32<00:00,  3.39it/s]\n",
            "                 Class     Images  Instances      Box(P          R      mAP50  mAP50-95): 100% 6/6 [00:01<00:00,  3.75it/s]\n",
            "                   all        171        959      0.741      0.645      0.696      0.414\n",
            "\n",
            "      Epoch    GPU_mem   box_loss   cls_loss   dfl_loss  Instances       Size\n",
            "      38/50      4.11G      1.342     0.8671      1.189         52        640: 100% 112/112 [00:32<00:00,  3.49it/s]\n",
            "                 Class     Images  Instances      Box(P          R      mAP50  mAP50-95): 100% 6/6 [00:02<00:00,  2.59it/s]\n",
            "                   all        171        959      0.739      0.657      0.706      0.447\n",
            "\n",
            "      Epoch    GPU_mem   box_loss   cls_loss   dfl_loss  Instances       Size\n",
            "      39/50      4.11G      1.335      0.868       1.18         23        640: 100% 112/112 [00:32<00:00,  3.48it/s]\n",
            "                 Class     Images  Instances      Box(P          R      mAP50  mAP50-95): 100% 6/6 [00:01<00:00,  4.04it/s]\n",
            "                   all        171        959      0.639      0.639      0.667      0.416\n",
            "\n",
            "      Epoch    GPU_mem   box_loss   cls_loss   dfl_loss  Instances       Size\n",
            "      40/50      4.11G      1.307     0.8414      1.178         30        640: 100% 112/112 [00:32<00:00,  3.42it/s]\n",
            "                 Class     Images  Instances      Box(P          R      mAP50  mAP50-95): 100% 6/6 [00:01<00:00,  3.82it/s]\n",
            "                   all        171        959      0.787      0.585      0.666        0.4\n",
            "Closing dataloader mosaic\n",
            "\u001b[34m\u001b[1malbumentations: \u001b[0mBlur(p=0.01, blur_limit=(3, 7)), MedianBlur(p=0.01, blur_limit=(3, 7)), ToGray(p=0.01, method='weighted_average', num_output_channels=3), CLAHE(p=0.01, clip_limit=(1.0, 4.0), tile_grid_size=(8, 8))\n",
            "\n",
            "      Epoch    GPU_mem   box_loss   cls_loss   dfl_loss  Instances       Size\n",
            "      41/50      4.11G      1.205     0.6833      1.128          7        640: 100% 112/112 [00:29<00:00,  3.85it/s]\n",
            "                 Class     Images  Instances      Box(P          R      mAP50  mAP50-95): 100% 6/6 [00:01<00:00,  4.06it/s]\n",
            "                   all        171        959      0.736      0.716      0.746      0.457\n",
            "\n",
            "      Epoch    GPU_mem   box_loss   cls_loss   dfl_loss  Instances       Size\n",
            "      42/50      4.11G      1.207     0.6679      1.125         29        640: 100% 112/112 [00:27<00:00,  4.07it/s]\n",
            "                 Class     Images  Instances      Box(P          R      mAP50  mAP50-95): 100% 6/6 [00:01<00:00,  3.78it/s]\n",
            "                   all        171        959      0.896      0.628      0.759      0.471\n",
            "\n",
            "      Epoch    GPU_mem   box_loss   cls_loss   dfl_loss  Instances       Size\n",
            "      43/50      4.11G      1.204     0.6609      1.131         14        640: 100% 112/112 [00:28<00:00,  3.92it/s]\n",
            "                 Class     Images  Instances      Box(P          R      mAP50  mAP50-95): 100% 6/6 [00:01<00:00,  4.16it/s]\n",
            "                   all        171        959      0.779      0.695      0.748      0.463\n",
            "\n",
            "      Epoch    GPU_mem   box_loss   cls_loss   dfl_loss  Instances       Size\n",
            "      44/50      4.11G      1.172     0.6424      1.109         18        640: 100% 112/112 [00:28<00:00,  3.92it/s]\n",
            "                 Class     Images  Instances      Box(P          R      mAP50  mAP50-95): 100% 6/6 [00:01<00:00,  4.18it/s]\n",
            "                   all        171        959      0.765      0.626      0.732      0.457\n",
            "\n",
            "      Epoch    GPU_mem   box_loss   cls_loss   dfl_loss  Instances       Size\n",
            "      45/50      4.11G      1.175     0.6302      1.117         32        640: 100% 112/112 [00:28<00:00,  3.96it/s]\n",
            "                 Class     Images  Instances      Box(P          R      mAP50  mAP50-95): 100% 6/6 [00:01<00:00,  3.95it/s]\n",
            "                   all        171        959      0.756      0.668      0.723      0.448\n",
            "\n",
            "      Epoch    GPU_mem   box_loss   cls_loss   dfl_loss  Instances       Size\n",
            "      46/50      4.11G      1.163     0.6203      1.105         18        640: 100% 112/112 [00:28<00:00,  3.93it/s]\n",
            "                 Class     Images  Instances      Box(P          R      mAP50  mAP50-95): 100% 6/6 [00:01<00:00,  3.84it/s]\n",
            "                   all        171        959      0.783      0.705      0.764       0.48\n",
            "\n",
            "      Epoch    GPU_mem   box_loss   cls_loss   dfl_loss  Instances       Size\n",
            "      47/50      4.11G      1.167     0.6198      1.109          5        640: 100% 112/112 [00:27<00:00,  4.03it/s]\n",
            "                 Class     Images  Instances      Box(P          R      mAP50  mAP50-95): 100% 6/6 [00:01<00:00,  4.24it/s]\n",
            "                   all        171        959      0.821      0.698      0.759      0.478\n",
            "\n",
            "      Epoch    GPU_mem   box_loss   cls_loss   dfl_loss  Instances       Size\n",
            "      48/50      4.11G       1.15     0.6179      1.099         12        640: 100% 112/112 [00:27<00:00,  4.04it/s]\n",
            "                 Class     Images  Instances      Box(P          R      mAP50  mAP50-95): 100% 6/6 [00:01<00:00,  3.91it/s]\n",
            "                   all        171        959      0.774      0.647      0.714      0.451\n",
            "\n",
            "      Epoch    GPU_mem   box_loss   cls_loss   dfl_loss  Instances       Size\n",
            "      49/50      4.11G      1.145     0.6077      1.106         12        640: 100% 112/112 [00:27<00:00,  4.05it/s]\n",
            "                 Class     Images  Instances      Box(P          R      mAP50  mAP50-95): 100% 6/6 [00:02<00:00,  2.61it/s]\n",
            "                   all        171        959      0.811      0.663      0.736      0.469\n",
            "\n",
            "      Epoch    GPU_mem   box_loss   cls_loss   dfl_loss  Instances       Size\n",
            "      50/50      4.11G      1.133     0.5988       1.09         11        640: 100% 112/112 [00:27<00:00,  4.04it/s]\n",
            "                 Class     Images  Instances      Box(P          R      mAP50  mAP50-95): 100% 6/6 [00:01<00:00,  3.80it/s]\n",
            "                   all        171        959      0.802      0.657      0.743      0.469\n",
            "\n",
            "50 epochs completed in 0.472 hours.\n",
            "Optimizer stripped from runs/detect/train4/weights/last.pt, 6.2MB\n",
            "Optimizer stripped from runs/detect/train4/weights/best.pt, 6.2MB\n",
            "\n",
            "Validating runs/detect/train4/weights/best.pt...\n",
            "Ultralytics 8.3.170 🚀 Python-3.11.13 torch-2.6.0+cu124 CUDA:0 (Tesla T4, 15095MiB)\n",
            "Model summary (fused): 72 layers, 3,006,233 parameters, 0 gradients, 8.1 GFLOPs\n",
            "                 Class     Images  Instances      Box(P          R      mAP50  mAP50-95): 100% 6/6 [00:04<00:00,  1.44it/s]\n",
            "                   all        171        959       0.79      0.705      0.765       0.48\n",
            " mask_weared_incorrect         23         28      0.703      0.536      0.632        0.4\n",
            "             with_mask        149        748      0.887      0.896      0.925      0.601\n",
            "          without_mask         60        183       0.78      0.683       0.74      0.439\n",
            "Speed: 0.4ms preprocess, 3.0ms inference, 0.0ms loss, 7.6ms postprocess per image\n",
            "Results saved to \u001b[1mruns/detect/train4\u001b[0m\n",
            "💡 Learn more at https://docs.ultralytics.com/modes/train\n"
          ]
        }
      ]
    },
    {
      "cell_type": "code",
      "source": [
        "from ultralytics import YOLO\n",
        "from google.colab import files\n",
        "uploaded = files.upload()\n",
        "\n",
        "\n",
        "# Load the trained model\n",
        "model = YOLO(\"runs/detect/train4/weights/best.pt\")\n",
        "\n",
        "# List of video paths\n",
        "\n",
        "\n",
        "\n"
      ],
      "metadata": {
        "colab": {
          "base_uri": "https://localhost:8080/",
          "height": 481
        },
        "id": "QTsQVZKd0gjN",
        "outputId": "7e8180d4-8631-4edc-bed9-71a2284f535b"
      },
      "execution_count": 21,
      "outputs": [
        {
          "output_type": "display_data",
          "data": {
            "text/plain": [
              "<IPython.core.display.HTML object>"
            ],
            "text/html": [
              "\n",
              "     <input type=\"file\" id=\"files-621eb906-e138-4041-aaf0-dd9a03b69228\" name=\"files[]\" multiple disabled\n",
              "        style=\"border:none\" />\n",
              "     <output id=\"result-621eb906-e138-4041-aaf0-dd9a03b69228\">\n",
              "      Upload widget is only available when the cell has been executed in the\n",
              "      current browser session. Please rerun this cell to enable.\n",
              "      </output>\n",
              "      <script>// Copyright 2017 Google LLC\n",
              "//\n",
              "// Licensed under the Apache License, Version 2.0 (the \"License\");\n",
              "// you may not use this file except in compliance with the License.\n",
              "// You may obtain a copy of the License at\n",
              "//\n",
              "//      http://www.apache.org/licenses/LICENSE-2.0\n",
              "//\n",
              "// Unless required by applicable law or agreed to in writing, software\n",
              "// distributed under the License is distributed on an \"AS IS\" BASIS,\n",
              "// WITHOUT WARRANTIES OR CONDITIONS OF ANY KIND, either express or implied.\n",
              "// See the License for the specific language governing permissions and\n",
              "// limitations under the License.\n",
              "\n",
              "/**\n",
              " * @fileoverview Helpers for google.colab Python module.\n",
              " */\n",
              "(function(scope) {\n",
              "function span(text, styleAttributes = {}) {\n",
              "  const element = document.createElement('span');\n",
              "  element.textContent = text;\n",
              "  for (const key of Object.keys(styleAttributes)) {\n",
              "    element.style[key] = styleAttributes[key];\n",
              "  }\n",
              "  return element;\n",
              "}\n",
              "\n",
              "// Max number of bytes which will be uploaded at a time.\n",
              "const MAX_PAYLOAD_SIZE = 100 * 1024;\n",
              "\n",
              "function _uploadFiles(inputId, outputId) {\n",
              "  const steps = uploadFilesStep(inputId, outputId);\n",
              "  const outputElement = document.getElementById(outputId);\n",
              "  // Cache steps on the outputElement to make it available for the next call\n",
              "  // to uploadFilesContinue from Python.\n",
              "  outputElement.steps = steps;\n",
              "\n",
              "  return _uploadFilesContinue(outputId);\n",
              "}\n",
              "\n",
              "// This is roughly an async generator (not supported in the browser yet),\n",
              "// where there are multiple asynchronous steps and the Python side is going\n",
              "// to poll for completion of each step.\n",
              "// This uses a Promise to block the python side on completion of each step,\n",
              "// then passes the result of the previous step as the input to the next step.\n",
              "function _uploadFilesContinue(outputId) {\n",
              "  const outputElement = document.getElementById(outputId);\n",
              "  const steps = outputElement.steps;\n",
              "\n",
              "  const next = steps.next(outputElement.lastPromiseValue);\n",
              "  return Promise.resolve(next.value.promise).then((value) => {\n",
              "    // Cache the last promise value to make it available to the next\n",
              "    // step of the generator.\n",
              "    outputElement.lastPromiseValue = value;\n",
              "    return next.value.response;\n",
              "  });\n",
              "}\n",
              "\n",
              "/**\n",
              " * Generator function which is called between each async step of the upload\n",
              " * process.\n",
              " * @param {string} inputId Element ID of the input file picker element.\n",
              " * @param {string} outputId Element ID of the output display.\n",
              " * @return {!Iterable<!Object>} Iterable of next steps.\n",
              " */\n",
              "function* uploadFilesStep(inputId, outputId) {\n",
              "  const inputElement = document.getElementById(inputId);\n",
              "  inputElement.disabled = false;\n",
              "\n",
              "  const outputElement = document.getElementById(outputId);\n",
              "  outputElement.innerHTML = '';\n",
              "\n",
              "  const pickedPromise = new Promise((resolve) => {\n",
              "    inputElement.addEventListener('change', (e) => {\n",
              "      resolve(e.target.files);\n",
              "    });\n",
              "  });\n",
              "\n",
              "  const cancel = document.createElement('button');\n",
              "  inputElement.parentElement.appendChild(cancel);\n",
              "  cancel.textContent = 'Cancel upload';\n",
              "  const cancelPromise = new Promise((resolve) => {\n",
              "    cancel.onclick = () => {\n",
              "      resolve(null);\n",
              "    };\n",
              "  });\n",
              "\n",
              "  // Wait for the user to pick the files.\n",
              "  const files = yield {\n",
              "    promise: Promise.race([pickedPromise, cancelPromise]),\n",
              "    response: {\n",
              "      action: 'starting',\n",
              "    }\n",
              "  };\n",
              "\n",
              "  cancel.remove();\n",
              "\n",
              "  // Disable the input element since further picks are not allowed.\n",
              "  inputElement.disabled = true;\n",
              "\n",
              "  if (!files) {\n",
              "    return {\n",
              "      response: {\n",
              "        action: 'complete',\n",
              "      }\n",
              "    };\n",
              "  }\n",
              "\n",
              "  for (const file of files) {\n",
              "    const li = document.createElement('li');\n",
              "    li.append(span(file.name, {fontWeight: 'bold'}));\n",
              "    li.append(span(\n",
              "        `(${file.type || 'n/a'}) - ${file.size} bytes, ` +\n",
              "        `last modified: ${\n",
              "            file.lastModifiedDate ? file.lastModifiedDate.toLocaleDateString() :\n",
              "                                    'n/a'} - `));\n",
              "    const percent = span('0% done');\n",
              "    li.appendChild(percent);\n",
              "\n",
              "    outputElement.appendChild(li);\n",
              "\n",
              "    const fileDataPromise = new Promise((resolve) => {\n",
              "      const reader = new FileReader();\n",
              "      reader.onload = (e) => {\n",
              "        resolve(e.target.result);\n",
              "      };\n",
              "      reader.readAsArrayBuffer(file);\n",
              "    });\n",
              "    // Wait for the data to be ready.\n",
              "    let fileData = yield {\n",
              "      promise: fileDataPromise,\n",
              "      response: {\n",
              "        action: 'continue',\n",
              "      }\n",
              "    };\n",
              "\n",
              "    // Use a chunked sending to avoid message size limits. See b/62115660.\n",
              "    let position = 0;\n",
              "    do {\n",
              "      const length = Math.min(fileData.byteLength - position, MAX_PAYLOAD_SIZE);\n",
              "      const chunk = new Uint8Array(fileData, position, length);\n",
              "      position += length;\n",
              "\n",
              "      const base64 = btoa(String.fromCharCode.apply(null, chunk));\n",
              "      yield {\n",
              "        response: {\n",
              "          action: 'append',\n",
              "          file: file.name,\n",
              "          data: base64,\n",
              "        },\n",
              "      };\n",
              "\n",
              "      let percentDone = fileData.byteLength === 0 ?\n",
              "          100 :\n",
              "          Math.round((position / fileData.byteLength) * 100);\n",
              "      percent.textContent = `${percentDone}% done`;\n",
              "\n",
              "    } while (position < fileData.byteLength);\n",
              "  }\n",
              "\n",
              "  // All done.\n",
              "  yield {\n",
              "    response: {\n",
              "      action: 'complete',\n",
              "    }\n",
              "  };\n",
              "}\n",
              "\n",
              "scope.google = scope.google || {};\n",
              "scope.google.colab = scope.google.colab || {};\n",
              "scope.google.colab._files = {\n",
              "  _uploadFiles,\n",
              "  _uploadFilesContinue,\n",
              "};\n",
              "})(self);\n",
              "</script> "
            ]
          },
          "metadata": {}
        },
        {
          "output_type": "stream",
          "name": "stdout",
          "text": [
            "Saving 1.mp4 to 1.mp4\n",
            "C:\\Users\\Owner\\Downloads\\videos\\1.mp4 Missing\n",
            "C:\\Users\\Owner\\Downloads\\videos\\2.mp4 Missing\n",
            "C:\\Users\\Owner\\Downloads\\videos\\3.mp4 Missing\n",
            "\n"
          ]
        },
        {
          "output_type": "error",
          "ename": "FileNotFoundError",
          "evalue": "C:\\Users\\Owner\\Downloads\\videos\\1.mp4 does not exist",
          "traceback": [
            "\u001b[0;31m---------------------------------------------------------------------------\u001b[0m",
            "\u001b[0;31mFileNotFoundError\u001b[0m                         Traceback (most recent call last)",
            "\u001b[0;32m/tmp/ipython-input-21-2288132334.py\u001b[0m in \u001b[0;36m<cell line: 0>\u001b[0;34m()\u001b[0m\n\u001b[1;32m     16\u001b[0m     \u001b[0mprint\u001b[0m\u001b[0;34m(\u001b[0m\u001b[0mpath\u001b[0m\u001b[0;34m,\u001b[0m \u001b[0;34m\"Exists\"\u001b[0m \u001b[0;32mif\u001b[0m \u001b[0mos\u001b[0m\u001b[0;34m.\u001b[0m\u001b[0mpath\u001b[0m\u001b[0;34m.\u001b[0m\u001b[0mexists\u001b[0m\u001b[0;34m(\u001b[0m\u001b[0mpath\u001b[0m\u001b[0;34m)\u001b[0m \u001b[0;32melse\u001b[0m \u001b[0;34m\"Missing\"\u001b[0m\u001b[0;34m)\u001b[0m\u001b[0;34m\u001b[0m\u001b[0;34m\u001b[0m\u001b[0m\n\u001b[1;32m     17\u001b[0m \u001b[0;32mfor\u001b[0m \u001b[0mi\u001b[0m\u001b[0;34m,\u001b[0m \u001b[0mvideo_path\u001b[0m \u001b[0;32min\u001b[0m \u001b[0menumerate\u001b[0m\u001b[0;34m(\u001b[0m\u001b[0mvideo_paths\u001b[0m\u001b[0;34m)\u001b[0m\u001b[0;34m:\u001b[0m\u001b[0;34m\u001b[0m\u001b[0;34m\u001b[0m\u001b[0m\n\u001b[0;32m---> 18\u001b[0;31m     model.predict(\n\u001b[0m\u001b[1;32m     19\u001b[0m         \u001b[0msource\u001b[0m\u001b[0;34m=\u001b[0m\u001b[0mvideo_path\u001b[0m\u001b[0;34m,\u001b[0m\u001b[0;34m\u001b[0m\u001b[0;34m\u001b[0m\u001b[0m\n\u001b[1;32m     20\u001b[0m         \u001b[0msave\u001b[0m\u001b[0;34m=\u001b[0m\u001b[0;32mTrue\u001b[0m\u001b[0;34m,\u001b[0m              \u001b[0;31m# Save the output video\u001b[0m\u001b[0;34m\u001b[0m\u001b[0;34m\u001b[0m\u001b[0m\n",
            "\u001b[0;32m/usr/local/lib/python3.11/dist-packages/ultralytics/engine/model.py\u001b[0m in \u001b[0;36mpredict\u001b[0;34m(self, source, stream, predictor, **kwargs)\u001b[0m\n\u001b[1;32m    553\u001b[0m         \u001b[0;32mif\u001b[0m \u001b[0mprompts\u001b[0m \u001b[0;32mand\u001b[0m \u001b[0mhasattr\u001b[0m\u001b[0;34m(\u001b[0m\u001b[0mself\u001b[0m\u001b[0;34m.\u001b[0m\u001b[0mpredictor\u001b[0m\u001b[0;34m,\u001b[0m \u001b[0;34m\"set_prompts\"\u001b[0m\u001b[0;34m)\u001b[0m\u001b[0;34m:\u001b[0m  \u001b[0;31m# for SAM-type models\u001b[0m\u001b[0;34m\u001b[0m\u001b[0;34m\u001b[0m\u001b[0m\n\u001b[1;32m    554\u001b[0m             \u001b[0mself\u001b[0m\u001b[0;34m.\u001b[0m\u001b[0mpredictor\u001b[0m\u001b[0;34m.\u001b[0m\u001b[0mset_prompts\u001b[0m\u001b[0;34m(\u001b[0m\u001b[0mprompts\u001b[0m\u001b[0;34m)\u001b[0m\u001b[0;34m\u001b[0m\u001b[0;34m\u001b[0m\u001b[0m\n\u001b[0;32m--> 555\u001b[0;31m         \u001b[0;32mreturn\u001b[0m \u001b[0mself\u001b[0m\u001b[0;34m.\u001b[0m\u001b[0mpredictor\u001b[0m\u001b[0;34m.\u001b[0m\u001b[0mpredict_cli\u001b[0m\u001b[0;34m(\u001b[0m\u001b[0msource\u001b[0m\u001b[0;34m=\u001b[0m\u001b[0msource\u001b[0m\u001b[0;34m)\u001b[0m \u001b[0;32mif\u001b[0m \u001b[0mis_cli\u001b[0m \u001b[0;32melse\u001b[0m \u001b[0mself\u001b[0m\u001b[0;34m.\u001b[0m\u001b[0mpredictor\u001b[0m\u001b[0;34m(\u001b[0m\u001b[0msource\u001b[0m\u001b[0;34m=\u001b[0m\u001b[0msource\u001b[0m\u001b[0;34m,\u001b[0m \u001b[0mstream\u001b[0m\u001b[0;34m=\u001b[0m\u001b[0mstream\u001b[0m\u001b[0;34m)\u001b[0m\u001b[0;34m\u001b[0m\u001b[0;34m\u001b[0m\u001b[0m\n\u001b[0m\u001b[1;32m    556\u001b[0m \u001b[0;34m\u001b[0m\u001b[0m\n\u001b[1;32m    557\u001b[0m     def track(\n",
            "\u001b[0;32m/usr/local/lib/python3.11/dist-packages/ultralytics/engine/predictor.py\u001b[0m in \u001b[0;36m__call__\u001b[0;34m(self, source, model, stream, *args, **kwargs)\u001b[0m\n\u001b[1;32m    225\u001b[0m             \u001b[0;32mreturn\u001b[0m \u001b[0mself\u001b[0m\u001b[0;34m.\u001b[0m\u001b[0mstream_inference\u001b[0m\u001b[0;34m(\u001b[0m\u001b[0msource\u001b[0m\u001b[0;34m,\u001b[0m \u001b[0mmodel\u001b[0m\u001b[0;34m,\u001b[0m \u001b[0;34m*\u001b[0m\u001b[0margs\u001b[0m\u001b[0;34m,\u001b[0m \u001b[0;34m**\u001b[0m\u001b[0mkwargs\u001b[0m\u001b[0;34m)\u001b[0m\u001b[0;34m\u001b[0m\u001b[0;34m\u001b[0m\u001b[0m\n\u001b[1;32m    226\u001b[0m         \u001b[0;32melse\u001b[0m\u001b[0;34m:\u001b[0m\u001b[0;34m\u001b[0m\u001b[0;34m\u001b[0m\u001b[0m\n\u001b[0;32m--> 227\u001b[0;31m             \u001b[0;32mreturn\u001b[0m \u001b[0mlist\u001b[0m\u001b[0;34m(\u001b[0m\u001b[0mself\u001b[0m\u001b[0;34m.\u001b[0m\u001b[0mstream_inference\u001b[0m\u001b[0;34m(\u001b[0m\u001b[0msource\u001b[0m\u001b[0;34m,\u001b[0m \u001b[0mmodel\u001b[0m\u001b[0;34m,\u001b[0m \u001b[0;34m*\u001b[0m\u001b[0margs\u001b[0m\u001b[0;34m,\u001b[0m \u001b[0;34m**\u001b[0m\u001b[0mkwargs\u001b[0m\u001b[0;34m)\u001b[0m\u001b[0;34m)\u001b[0m  \u001b[0;31m# merge list of Result into one\u001b[0m\u001b[0;34m\u001b[0m\u001b[0;34m\u001b[0m\u001b[0m\n\u001b[0m\u001b[1;32m    228\u001b[0m \u001b[0;34m\u001b[0m\u001b[0m\n\u001b[1;32m    229\u001b[0m     \u001b[0;32mdef\u001b[0m \u001b[0mpredict_cli\u001b[0m\u001b[0;34m(\u001b[0m\u001b[0mself\u001b[0m\u001b[0;34m,\u001b[0m \u001b[0msource\u001b[0m\u001b[0;34m=\u001b[0m\u001b[0;32mNone\u001b[0m\u001b[0;34m,\u001b[0m \u001b[0mmodel\u001b[0m\u001b[0;34m=\u001b[0m\u001b[0;32mNone\u001b[0m\u001b[0;34m)\u001b[0m\u001b[0;34m:\u001b[0m\u001b[0;34m\u001b[0m\u001b[0;34m\u001b[0m\u001b[0m\n",
            "\u001b[0;32m/usr/local/lib/python3.11/dist-packages/torch/utils/_contextlib.py\u001b[0m in \u001b[0;36mgenerator_context\u001b[0;34m(*args, **kwargs)\u001b[0m\n\u001b[1;32m     34\u001b[0m             \u001b[0;31m# Issuing `None` to a generator fires it up\u001b[0m\u001b[0;34m\u001b[0m\u001b[0;34m\u001b[0m\u001b[0m\n\u001b[1;32m     35\u001b[0m             \u001b[0;32mwith\u001b[0m \u001b[0mctx_factory\u001b[0m\u001b[0;34m(\u001b[0m\u001b[0;34m)\u001b[0m\u001b[0;34m:\u001b[0m\u001b[0;34m\u001b[0m\u001b[0;34m\u001b[0m\u001b[0m\n\u001b[0;32m---> 36\u001b[0;31m                 \u001b[0mresponse\u001b[0m \u001b[0;34m=\u001b[0m \u001b[0mgen\u001b[0m\u001b[0;34m.\u001b[0m\u001b[0msend\u001b[0m\u001b[0;34m(\u001b[0m\u001b[0;32mNone\u001b[0m\u001b[0;34m)\u001b[0m\u001b[0;34m\u001b[0m\u001b[0;34m\u001b[0m\u001b[0m\n\u001b[0m\u001b[1;32m     37\u001b[0m \u001b[0;34m\u001b[0m\u001b[0m\n\u001b[1;32m     38\u001b[0m             \u001b[0;32mwhile\u001b[0m \u001b[0;32mTrue\u001b[0m\u001b[0;34m:\u001b[0m\u001b[0;34m\u001b[0m\u001b[0;34m\u001b[0m\u001b[0m\n",
            "\u001b[0;32m/usr/local/lib/python3.11/dist-packages/ultralytics/engine/predictor.py\u001b[0m in \u001b[0;36mstream_inference\u001b[0;34m(self, source, model, *args, **kwargs)\u001b[0m\n\u001b[1;32m    298\u001b[0m         \u001b[0;32mwith\u001b[0m \u001b[0mself\u001b[0m\u001b[0;34m.\u001b[0m\u001b[0m_lock\u001b[0m\u001b[0;34m:\u001b[0m  \u001b[0;31m# for thread-safe inference\u001b[0m\u001b[0;34m\u001b[0m\u001b[0;34m\u001b[0m\u001b[0m\n\u001b[1;32m    299\u001b[0m             \u001b[0;31m# Setup source every time predict is called\u001b[0m\u001b[0;34m\u001b[0m\u001b[0;34m\u001b[0m\u001b[0m\n\u001b[0;32m--> 300\u001b[0;31m             \u001b[0mself\u001b[0m\u001b[0;34m.\u001b[0m\u001b[0msetup_source\u001b[0m\u001b[0;34m(\u001b[0m\u001b[0msource\u001b[0m \u001b[0;32mif\u001b[0m \u001b[0msource\u001b[0m \u001b[0;32mis\u001b[0m \u001b[0;32mnot\u001b[0m \u001b[0;32mNone\u001b[0m \u001b[0;32melse\u001b[0m \u001b[0mself\u001b[0m\u001b[0;34m.\u001b[0m\u001b[0margs\u001b[0m\u001b[0;34m.\u001b[0m\u001b[0msource\u001b[0m\u001b[0;34m)\u001b[0m\u001b[0;34m\u001b[0m\u001b[0;34m\u001b[0m\u001b[0m\n\u001b[0m\u001b[1;32m    301\u001b[0m \u001b[0;34m\u001b[0m\u001b[0m\n\u001b[1;32m    302\u001b[0m             \u001b[0;31m# Check if save_dir/ label file exists\u001b[0m\u001b[0;34m\u001b[0m\u001b[0;34m\u001b[0m\u001b[0m\n",
            "\u001b[0;32m/usr/local/lib/python3.11/dist-packages/ultralytics/engine/predictor.py\u001b[0m in \u001b[0;36msetup_source\u001b[0;34m(self, source)\u001b[0m\n\u001b[1;32m    257\u001b[0m         \"\"\"\n\u001b[1;32m    258\u001b[0m         \u001b[0mself\u001b[0m\u001b[0;34m.\u001b[0m\u001b[0mimgsz\u001b[0m \u001b[0;34m=\u001b[0m \u001b[0mcheck_imgsz\u001b[0m\u001b[0;34m(\u001b[0m\u001b[0mself\u001b[0m\u001b[0;34m.\u001b[0m\u001b[0margs\u001b[0m\u001b[0;34m.\u001b[0m\u001b[0mimgsz\u001b[0m\u001b[0;34m,\u001b[0m \u001b[0mstride\u001b[0m\u001b[0;34m=\u001b[0m\u001b[0mself\u001b[0m\u001b[0;34m.\u001b[0m\u001b[0mmodel\u001b[0m\u001b[0;34m.\u001b[0m\u001b[0mstride\u001b[0m\u001b[0;34m,\u001b[0m \u001b[0mmin_dim\u001b[0m\u001b[0;34m=\u001b[0m\u001b[0;36m2\u001b[0m\u001b[0;34m)\u001b[0m  \u001b[0;31m# check image size\u001b[0m\u001b[0;34m\u001b[0m\u001b[0;34m\u001b[0m\u001b[0m\n\u001b[0;32m--> 259\u001b[0;31m         self.dataset = load_inference_source(\n\u001b[0m\u001b[1;32m    260\u001b[0m             \u001b[0msource\u001b[0m\u001b[0;34m=\u001b[0m\u001b[0msource\u001b[0m\u001b[0;34m,\u001b[0m\u001b[0;34m\u001b[0m\u001b[0;34m\u001b[0m\u001b[0m\n\u001b[1;32m    261\u001b[0m             \u001b[0mbatch\u001b[0m\u001b[0;34m=\u001b[0m\u001b[0mself\u001b[0m\u001b[0;34m.\u001b[0m\u001b[0margs\u001b[0m\u001b[0;34m.\u001b[0m\u001b[0mbatch\u001b[0m\u001b[0;34m,\u001b[0m\u001b[0;34m\u001b[0m\u001b[0;34m\u001b[0m\u001b[0m\n",
            "\u001b[0;32m/usr/local/lib/python3.11/dist-packages/ultralytics/data/build.py\u001b[0m in \u001b[0;36mload_inference_source\u001b[0;34m(source, batch, vid_stride, buffer, channels)\u001b[0m\n\u001b[1;32m    298\u001b[0m         \u001b[0mdataset\u001b[0m \u001b[0;34m=\u001b[0m \u001b[0mLoadPilAndNumpy\u001b[0m\u001b[0;34m(\u001b[0m\u001b[0msource\u001b[0m\u001b[0;34m,\u001b[0m \u001b[0mchannels\u001b[0m\u001b[0;34m=\u001b[0m\u001b[0mchannels\u001b[0m\u001b[0;34m)\u001b[0m\u001b[0;34m\u001b[0m\u001b[0;34m\u001b[0m\u001b[0m\n\u001b[1;32m    299\u001b[0m     \u001b[0;32melse\u001b[0m\u001b[0;34m:\u001b[0m\u001b[0;34m\u001b[0m\u001b[0;34m\u001b[0m\u001b[0m\n\u001b[0;32m--> 300\u001b[0;31m         \u001b[0mdataset\u001b[0m \u001b[0;34m=\u001b[0m \u001b[0mLoadImagesAndVideos\u001b[0m\u001b[0;34m(\u001b[0m\u001b[0msource\u001b[0m\u001b[0;34m,\u001b[0m \u001b[0mbatch\u001b[0m\u001b[0;34m=\u001b[0m\u001b[0mbatch\u001b[0m\u001b[0;34m,\u001b[0m \u001b[0mvid_stride\u001b[0m\u001b[0;34m=\u001b[0m\u001b[0mvid_stride\u001b[0m\u001b[0;34m,\u001b[0m \u001b[0mchannels\u001b[0m\u001b[0;34m=\u001b[0m\u001b[0mchannels\u001b[0m\u001b[0;34m)\u001b[0m\u001b[0;34m\u001b[0m\u001b[0;34m\u001b[0m\u001b[0m\n\u001b[0m\u001b[1;32m    301\u001b[0m \u001b[0;34m\u001b[0m\u001b[0m\n\u001b[1;32m    302\u001b[0m     \u001b[0;31m# Attach source types to the dataset\u001b[0m\u001b[0;34m\u001b[0m\u001b[0;34m\u001b[0m\u001b[0m\n",
            "\u001b[0;32m/usr/local/lib/python3.11/dist-packages/ultralytics/data/loaders.py\u001b[0m in \u001b[0;36m__init__\u001b[0;34m(self, path, batch, vid_stride, channels)\u001b[0m\n\u001b[1;32m    371\u001b[0m                 \u001b[0mfiles\u001b[0m\u001b[0;34m.\u001b[0m\u001b[0mappend\u001b[0m\u001b[0;34m(\u001b[0m\u001b[0mstr\u001b[0m\u001b[0;34m(\u001b[0m\u001b[0;34m(\u001b[0m\u001b[0mparent\u001b[0m \u001b[0;34m/\u001b[0m \u001b[0mp\u001b[0m\u001b[0;34m)\u001b[0m\u001b[0;34m.\u001b[0m\u001b[0mabsolute\u001b[0m\u001b[0;34m(\u001b[0m\u001b[0;34m)\u001b[0m\u001b[0;34m)\u001b[0m\u001b[0;34m)\u001b[0m  \u001b[0;31m# files (relative to *.txt file parent)\u001b[0m\u001b[0;34m\u001b[0m\u001b[0;34m\u001b[0m\u001b[0m\n\u001b[1;32m    372\u001b[0m             \u001b[0;32melse\u001b[0m\u001b[0;34m:\u001b[0m\u001b[0;34m\u001b[0m\u001b[0;34m\u001b[0m\u001b[0m\n\u001b[0;32m--> 373\u001b[0;31m                 \u001b[0;32mraise\u001b[0m \u001b[0mFileNotFoundError\u001b[0m\u001b[0;34m(\u001b[0m\u001b[0;34mf\"{p} does not exist\"\u001b[0m\u001b[0;34m)\u001b[0m\u001b[0;34m\u001b[0m\u001b[0;34m\u001b[0m\u001b[0m\n\u001b[0m\u001b[1;32m    374\u001b[0m \u001b[0;34m\u001b[0m\u001b[0m\n\u001b[1;32m    375\u001b[0m         \u001b[0;31m# Define files as images or videos\u001b[0m\u001b[0;34m\u001b[0m\u001b[0;34m\u001b[0m\u001b[0m\n",
            "\u001b[0;31mFileNotFoundError\u001b[0m: C:\\Users\\Owner\\Downloads\\videos\\1.mp4 does not exist"
          ]
        }
      ]
    },
    {
      "cell_type": "code",
      "source": [
        "uploaded = files.upload()"
      ],
      "metadata": {
        "colab": {
          "base_uri": "https://localhost:8080/",
          "height": 73
        },
        "id": "d0b-Mn0XBwyB",
        "outputId": "a8cea4fe-e1e7-4858-fcf5-4acd12d6523a"
      },
      "execution_count": 22,
      "outputs": [
        {
          "output_type": "display_data",
          "data": {
            "text/plain": [
              "<IPython.core.display.HTML object>"
            ],
            "text/html": [
              "\n",
              "     <input type=\"file\" id=\"files-0216b41d-167e-4a03-8e77-0f234d701e56\" name=\"files[]\" multiple disabled\n",
              "        style=\"border:none\" />\n",
              "     <output id=\"result-0216b41d-167e-4a03-8e77-0f234d701e56\">\n",
              "      Upload widget is only available when the cell has been executed in the\n",
              "      current browser session. Please rerun this cell to enable.\n",
              "      </output>\n",
              "      <script>// Copyright 2017 Google LLC\n",
              "//\n",
              "// Licensed under the Apache License, Version 2.0 (the \"License\");\n",
              "// you may not use this file except in compliance with the License.\n",
              "// You may obtain a copy of the License at\n",
              "//\n",
              "//      http://www.apache.org/licenses/LICENSE-2.0\n",
              "//\n",
              "// Unless required by applicable law or agreed to in writing, software\n",
              "// distributed under the License is distributed on an \"AS IS\" BASIS,\n",
              "// WITHOUT WARRANTIES OR CONDITIONS OF ANY KIND, either express or implied.\n",
              "// See the License for the specific language governing permissions and\n",
              "// limitations under the License.\n",
              "\n",
              "/**\n",
              " * @fileoverview Helpers for google.colab Python module.\n",
              " */\n",
              "(function(scope) {\n",
              "function span(text, styleAttributes = {}) {\n",
              "  const element = document.createElement('span');\n",
              "  element.textContent = text;\n",
              "  for (const key of Object.keys(styleAttributes)) {\n",
              "    element.style[key] = styleAttributes[key];\n",
              "  }\n",
              "  return element;\n",
              "}\n",
              "\n",
              "// Max number of bytes which will be uploaded at a time.\n",
              "const MAX_PAYLOAD_SIZE = 100 * 1024;\n",
              "\n",
              "function _uploadFiles(inputId, outputId) {\n",
              "  const steps = uploadFilesStep(inputId, outputId);\n",
              "  const outputElement = document.getElementById(outputId);\n",
              "  // Cache steps on the outputElement to make it available for the next call\n",
              "  // to uploadFilesContinue from Python.\n",
              "  outputElement.steps = steps;\n",
              "\n",
              "  return _uploadFilesContinue(outputId);\n",
              "}\n",
              "\n",
              "// This is roughly an async generator (not supported in the browser yet),\n",
              "// where there are multiple asynchronous steps and the Python side is going\n",
              "// to poll for completion of each step.\n",
              "// This uses a Promise to block the python side on completion of each step,\n",
              "// then passes the result of the previous step as the input to the next step.\n",
              "function _uploadFilesContinue(outputId) {\n",
              "  const outputElement = document.getElementById(outputId);\n",
              "  const steps = outputElement.steps;\n",
              "\n",
              "  const next = steps.next(outputElement.lastPromiseValue);\n",
              "  return Promise.resolve(next.value.promise).then((value) => {\n",
              "    // Cache the last promise value to make it available to the next\n",
              "    // step of the generator.\n",
              "    outputElement.lastPromiseValue = value;\n",
              "    return next.value.response;\n",
              "  });\n",
              "}\n",
              "\n",
              "/**\n",
              " * Generator function which is called between each async step of the upload\n",
              " * process.\n",
              " * @param {string} inputId Element ID of the input file picker element.\n",
              " * @param {string} outputId Element ID of the output display.\n",
              " * @return {!Iterable<!Object>} Iterable of next steps.\n",
              " */\n",
              "function* uploadFilesStep(inputId, outputId) {\n",
              "  const inputElement = document.getElementById(inputId);\n",
              "  inputElement.disabled = false;\n",
              "\n",
              "  const outputElement = document.getElementById(outputId);\n",
              "  outputElement.innerHTML = '';\n",
              "\n",
              "  const pickedPromise = new Promise((resolve) => {\n",
              "    inputElement.addEventListener('change', (e) => {\n",
              "      resolve(e.target.files);\n",
              "    });\n",
              "  });\n",
              "\n",
              "  const cancel = document.createElement('button');\n",
              "  inputElement.parentElement.appendChild(cancel);\n",
              "  cancel.textContent = 'Cancel upload';\n",
              "  const cancelPromise = new Promise((resolve) => {\n",
              "    cancel.onclick = () => {\n",
              "      resolve(null);\n",
              "    };\n",
              "  });\n",
              "\n",
              "  // Wait for the user to pick the files.\n",
              "  const files = yield {\n",
              "    promise: Promise.race([pickedPromise, cancelPromise]),\n",
              "    response: {\n",
              "      action: 'starting',\n",
              "    }\n",
              "  };\n",
              "\n",
              "  cancel.remove();\n",
              "\n",
              "  // Disable the input element since further picks are not allowed.\n",
              "  inputElement.disabled = true;\n",
              "\n",
              "  if (!files) {\n",
              "    return {\n",
              "      response: {\n",
              "        action: 'complete',\n",
              "      }\n",
              "    };\n",
              "  }\n",
              "\n",
              "  for (const file of files) {\n",
              "    const li = document.createElement('li');\n",
              "    li.append(span(file.name, {fontWeight: 'bold'}));\n",
              "    li.append(span(\n",
              "        `(${file.type || 'n/a'}) - ${file.size} bytes, ` +\n",
              "        `last modified: ${\n",
              "            file.lastModifiedDate ? file.lastModifiedDate.toLocaleDateString() :\n",
              "                                    'n/a'} - `));\n",
              "    const percent = span('0% done');\n",
              "    li.appendChild(percent);\n",
              "\n",
              "    outputElement.appendChild(li);\n",
              "\n",
              "    const fileDataPromise = new Promise((resolve) => {\n",
              "      const reader = new FileReader();\n",
              "      reader.onload = (e) => {\n",
              "        resolve(e.target.result);\n",
              "      };\n",
              "      reader.readAsArrayBuffer(file);\n",
              "    });\n",
              "    // Wait for the data to be ready.\n",
              "    let fileData = yield {\n",
              "      promise: fileDataPromise,\n",
              "      response: {\n",
              "        action: 'continue',\n",
              "      }\n",
              "    };\n",
              "\n",
              "    // Use a chunked sending to avoid message size limits. See b/62115660.\n",
              "    let position = 0;\n",
              "    do {\n",
              "      const length = Math.min(fileData.byteLength - position, MAX_PAYLOAD_SIZE);\n",
              "      const chunk = new Uint8Array(fileData, position, length);\n",
              "      position += length;\n",
              "\n",
              "      const base64 = btoa(String.fromCharCode.apply(null, chunk));\n",
              "      yield {\n",
              "        response: {\n",
              "          action: 'append',\n",
              "          file: file.name,\n",
              "          data: base64,\n",
              "        },\n",
              "      };\n",
              "\n",
              "      let percentDone = fileData.byteLength === 0 ?\n",
              "          100 :\n",
              "          Math.round((position / fileData.byteLength) * 100);\n",
              "      percent.textContent = `${percentDone}% done`;\n",
              "\n",
              "    } while (position < fileData.byteLength);\n",
              "  }\n",
              "\n",
              "  // All done.\n",
              "  yield {\n",
              "    response: {\n",
              "      action: 'complete',\n",
              "    }\n",
              "  };\n",
              "}\n",
              "\n",
              "scope.google = scope.google || {};\n",
              "scope.google.colab = scope.google.colab || {};\n",
              "scope.google.colab._files = {\n",
              "  _uploadFiles,\n",
              "  _uploadFilesContinue,\n",
              "};\n",
              "})(self);\n",
              "</script> "
            ]
          },
          "metadata": {}
        },
        {
          "output_type": "stream",
          "name": "stdout",
          "text": [
            "Saving 2.mp4 to 2.mp4\n"
          ]
        }
      ]
    },
    {
      "cell_type": "code",
      "source": [
        "uploaded = files.upload()"
      ],
      "metadata": {
        "colab": {
          "base_uri": "https://localhost:8080/",
          "height": 73
        },
        "id": "aPPJJuXcDfQZ",
        "outputId": "50b4c2c2-6c16-4384-e621-52f8c8f20966"
      },
      "execution_count": 23,
      "outputs": [
        {
          "output_type": "display_data",
          "data": {
            "text/plain": [
              "<IPython.core.display.HTML object>"
            ],
            "text/html": [
              "\n",
              "     <input type=\"file\" id=\"files-aa5a39d6-51ef-4537-9c06-b61c3a2b4aff\" name=\"files[]\" multiple disabled\n",
              "        style=\"border:none\" />\n",
              "     <output id=\"result-aa5a39d6-51ef-4537-9c06-b61c3a2b4aff\">\n",
              "      Upload widget is only available when the cell has been executed in the\n",
              "      current browser session. Please rerun this cell to enable.\n",
              "      </output>\n",
              "      <script>// Copyright 2017 Google LLC\n",
              "//\n",
              "// Licensed under the Apache License, Version 2.0 (the \"License\");\n",
              "// you may not use this file except in compliance with the License.\n",
              "// You may obtain a copy of the License at\n",
              "//\n",
              "//      http://www.apache.org/licenses/LICENSE-2.0\n",
              "//\n",
              "// Unless required by applicable law or agreed to in writing, software\n",
              "// distributed under the License is distributed on an \"AS IS\" BASIS,\n",
              "// WITHOUT WARRANTIES OR CONDITIONS OF ANY KIND, either express or implied.\n",
              "// See the License for the specific language governing permissions and\n",
              "// limitations under the License.\n",
              "\n",
              "/**\n",
              " * @fileoverview Helpers for google.colab Python module.\n",
              " */\n",
              "(function(scope) {\n",
              "function span(text, styleAttributes = {}) {\n",
              "  const element = document.createElement('span');\n",
              "  element.textContent = text;\n",
              "  for (const key of Object.keys(styleAttributes)) {\n",
              "    element.style[key] = styleAttributes[key];\n",
              "  }\n",
              "  return element;\n",
              "}\n",
              "\n",
              "// Max number of bytes which will be uploaded at a time.\n",
              "const MAX_PAYLOAD_SIZE = 100 * 1024;\n",
              "\n",
              "function _uploadFiles(inputId, outputId) {\n",
              "  const steps = uploadFilesStep(inputId, outputId);\n",
              "  const outputElement = document.getElementById(outputId);\n",
              "  // Cache steps on the outputElement to make it available for the next call\n",
              "  // to uploadFilesContinue from Python.\n",
              "  outputElement.steps = steps;\n",
              "\n",
              "  return _uploadFilesContinue(outputId);\n",
              "}\n",
              "\n",
              "// This is roughly an async generator (not supported in the browser yet),\n",
              "// where there are multiple asynchronous steps and the Python side is going\n",
              "// to poll for completion of each step.\n",
              "// This uses a Promise to block the python side on completion of each step,\n",
              "// then passes the result of the previous step as the input to the next step.\n",
              "function _uploadFilesContinue(outputId) {\n",
              "  const outputElement = document.getElementById(outputId);\n",
              "  const steps = outputElement.steps;\n",
              "\n",
              "  const next = steps.next(outputElement.lastPromiseValue);\n",
              "  return Promise.resolve(next.value.promise).then((value) => {\n",
              "    // Cache the last promise value to make it available to the next\n",
              "    // step of the generator.\n",
              "    outputElement.lastPromiseValue = value;\n",
              "    return next.value.response;\n",
              "  });\n",
              "}\n",
              "\n",
              "/**\n",
              " * Generator function which is called between each async step of the upload\n",
              " * process.\n",
              " * @param {string} inputId Element ID of the input file picker element.\n",
              " * @param {string} outputId Element ID of the output display.\n",
              " * @return {!Iterable<!Object>} Iterable of next steps.\n",
              " */\n",
              "function* uploadFilesStep(inputId, outputId) {\n",
              "  const inputElement = document.getElementById(inputId);\n",
              "  inputElement.disabled = false;\n",
              "\n",
              "  const outputElement = document.getElementById(outputId);\n",
              "  outputElement.innerHTML = '';\n",
              "\n",
              "  const pickedPromise = new Promise((resolve) => {\n",
              "    inputElement.addEventListener('change', (e) => {\n",
              "      resolve(e.target.files);\n",
              "    });\n",
              "  });\n",
              "\n",
              "  const cancel = document.createElement('button');\n",
              "  inputElement.parentElement.appendChild(cancel);\n",
              "  cancel.textContent = 'Cancel upload';\n",
              "  const cancelPromise = new Promise((resolve) => {\n",
              "    cancel.onclick = () => {\n",
              "      resolve(null);\n",
              "    };\n",
              "  });\n",
              "\n",
              "  // Wait for the user to pick the files.\n",
              "  const files = yield {\n",
              "    promise: Promise.race([pickedPromise, cancelPromise]),\n",
              "    response: {\n",
              "      action: 'starting',\n",
              "    }\n",
              "  };\n",
              "\n",
              "  cancel.remove();\n",
              "\n",
              "  // Disable the input element since further picks are not allowed.\n",
              "  inputElement.disabled = true;\n",
              "\n",
              "  if (!files) {\n",
              "    return {\n",
              "      response: {\n",
              "        action: 'complete',\n",
              "      }\n",
              "    };\n",
              "  }\n",
              "\n",
              "  for (const file of files) {\n",
              "    const li = document.createElement('li');\n",
              "    li.append(span(file.name, {fontWeight: 'bold'}));\n",
              "    li.append(span(\n",
              "        `(${file.type || 'n/a'}) - ${file.size} bytes, ` +\n",
              "        `last modified: ${\n",
              "            file.lastModifiedDate ? file.lastModifiedDate.toLocaleDateString() :\n",
              "                                    'n/a'} - `));\n",
              "    const percent = span('0% done');\n",
              "    li.appendChild(percent);\n",
              "\n",
              "    outputElement.appendChild(li);\n",
              "\n",
              "    const fileDataPromise = new Promise((resolve) => {\n",
              "      const reader = new FileReader();\n",
              "      reader.onload = (e) => {\n",
              "        resolve(e.target.result);\n",
              "      };\n",
              "      reader.readAsArrayBuffer(file);\n",
              "    });\n",
              "    // Wait for the data to be ready.\n",
              "    let fileData = yield {\n",
              "      promise: fileDataPromise,\n",
              "      response: {\n",
              "        action: 'continue',\n",
              "      }\n",
              "    };\n",
              "\n",
              "    // Use a chunked sending to avoid message size limits. See b/62115660.\n",
              "    let position = 0;\n",
              "    do {\n",
              "      const length = Math.min(fileData.byteLength - position, MAX_PAYLOAD_SIZE);\n",
              "      const chunk = new Uint8Array(fileData, position, length);\n",
              "      position += length;\n",
              "\n",
              "      const base64 = btoa(String.fromCharCode.apply(null, chunk));\n",
              "      yield {\n",
              "        response: {\n",
              "          action: 'append',\n",
              "          file: file.name,\n",
              "          data: base64,\n",
              "        },\n",
              "      };\n",
              "\n",
              "      let percentDone = fileData.byteLength === 0 ?\n",
              "          100 :\n",
              "          Math.round((position / fileData.byteLength) * 100);\n",
              "      percent.textContent = `${percentDone}% done`;\n",
              "\n",
              "    } while (position < fileData.byteLength);\n",
              "  }\n",
              "\n",
              "  // All done.\n",
              "  yield {\n",
              "    response: {\n",
              "      action: 'complete',\n",
              "    }\n",
              "  };\n",
              "}\n",
              "\n",
              "scope.google = scope.google || {};\n",
              "scope.google.colab = scope.google.colab || {};\n",
              "scope.google.colab._files = {\n",
              "  _uploadFiles,\n",
              "  _uploadFilesContinue,\n",
              "};\n",
              "})(self);\n",
              "</script> "
            ]
          },
          "metadata": {}
        },
        {
          "output_type": "stream",
          "name": "stdout",
          "text": [
            "Saving 3.mp4 to 3.mp4\n"
          ]
        }
      ]
    },
    {
      "cell_type": "code",
      "source": [
        "video_paths = list(uploaded.keys())\n",
        "for i, video_path in enumerate(video_paths):\n",
        "    model.predict(\n",
        "        source=\"1.mp4\",\n",
        "        save=True,\n",
        "        save_txt=False,\n",
        "        conf=0.25,\n",
        "        iou=0.45,\n",
        "        device=0,\n",
        "        name=f\"video{i+1}_output\"\n",
        "    )"
      ],
      "metadata": {
        "colab": {
          "base_uri": "https://localhost:8080/"
        },
        "id": "2cuhHABEDjwE",
        "outputId": "57246ae8-cff9-46b2-8d3d-6c88aa37c435"
      },
      "execution_count": null,
      "outputs": [
        {
          "output_type": "stream",
          "name": "stdout",
          "text": [
            "\n",
            "WARNING ⚠️ \n",
            "inference results will accumulate in RAM unless `stream=True` is passed, causing potential out-of-memory\n",
            "errors for large sources or long-running streams and videos. See https://docs.ultralytics.com/modes/predict/ for help.\n",
            "\n",
            "Example:\n",
            "    results = model(source=..., stream=True)  # generator of Results objects\n",
            "    for r in results:\n",
            "        boxes = r.boxes  # Boxes object for bbox outputs\n",
            "        masks = r.masks  # Masks object for segment masks outputs\n",
            "        probs = r.probs  # Class probabilities for classification outputs\n",
            "\n",
            "video 1/1 (frame 1/9000) /content/1.mp4: 384x640 (no detections), 39.5ms\n",
            "video 1/1 (frame 2/9000) /content/1.mp4: 384x640 (no detections), 7.1ms\n",
            "video 1/1 (frame 3/9000) /content/1.mp4: 384x640 (no detections), 8.3ms\n",
            "video 1/1 (frame 4/9000) /content/1.mp4: 384x640 (no detections), 6.9ms\n",
            "video 1/1 (frame 5/9000) /content/1.mp4: 384x640 (no detections), 8.2ms\n",
            "video 1/1 (frame 6/9000) /content/1.mp4: 384x640 (no detections), 7.4ms\n",
            "video 1/1 (frame 7/9000) /content/1.mp4: 384x640 (no detections), 7.1ms\n",
            "video 1/1 (frame 8/9000) /content/1.mp4: 384x640 (no detections), 8.0ms\n",
            "video 1/1 (frame 9/9000) /content/1.mp4: 384x640 (no detections), 6.9ms\n",
            "video 1/1 (frame 10/9000) /content/1.mp4: 384x640 (no detections), 8.3ms\n",
            "video 1/1 (frame 11/9000) /content/1.mp4: 384x640 (no detections), 9.0ms\n",
            "video 1/1 (frame 12/9000) /content/1.mp4: 384x640 (no detections), 17.6ms\n",
            "video 1/1 (frame 13/9000) /content/1.mp4: 384x640 (no detections), 8.3ms\n",
            "video 1/1 (frame 14/9000) /content/1.mp4: 384x640 (no detections), 8.1ms\n",
            "video 1/1 (frame 15/9000) /content/1.mp4: 384x640 (no detections), 8.4ms\n",
            "video 1/1 (frame 16/9000) /content/1.mp4: 384x640 (no detections), 8.9ms\n",
            "video 1/1 (frame 17/9000) /content/1.mp4: 384x640 (no detections), 8.6ms\n",
            "video 1/1 (frame 18/9000) /content/1.mp4: 384x640 (no detections), 7.1ms\n",
            "video 1/1 (frame 19/9000) /content/1.mp4: 384x640 (no detections), 8.7ms\n",
            "video 1/1 (frame 20/9000) /content/1.mp4: 384x640 (no detections), 7.2ms\n",
            "video 1/1 (frame 21/9000) /content/1.mp4: 384x640 (no detections), 9.1ms\n",
            "video 1/1 (frame 22/9000) /content/1.mp4: 384x640 (no detections), 7.2ms\n",
            "video 1/1 (frame 23/9000) /content/1.mp4: 384x640 (no detections), 8.1ms\n",
            "video 1/1 (frame 24/9000) /content/1.mp4: 384x640 (no detections), 8.2ms\n",
            "video 1/1 (frame 25/9000) /content/1.mp4: 384x640 (no detections), 7.9ms\n",
            "video 1/1 (frame 26/9000) /content/1.mp4: 384x640 (no detections), 7.9ms\n",
            "video 1/1 (frame 27/9000) /content/1.mp4: 384x640 (no detections), 7.8ms\n",
            "video 1/1 (frame 28/9000) /content/1.mp4: 384x640 (no detections), 9.4ms\n",
            "video 1/1 (frame 29/9000) /content/1.mp4: 384x640 (no detections), 7.1ms\n",
            "video 1/1 (frame 30/9000) /content/1.mp4: 384x640 (no detections), 9.3ms\n",
            "video 1/1 (frame 31/9000) /content/1.mp4: 384x640 (no detections), 7.3ms\n",
            "video 1/1 (frame 32/9000) /content/1.mp4: 384x640 (no detections), 6.8ms\n",
            "video 1/1 (frame 33/9000) /content/1.mp4: 384x640 (no detections), 8.6ms\n",
            "video 1/1 (frame 34/9000) /content/1.mp4: 384x640 (no detections), 7.3ms\n",
            "video 1/1 (frame 35/9000) /content/1.mp4: 384x640 (no detections), 8.1ms\n",
            "video 1/1 (frame 36/9000) /content/1.mp4: 384x640 (no detections), 7.1ms\n",
            "video 1/1 (frame 37/9000) /content/1.mp4: 384x640 (no detections), 7.1ms\n",
            "video 1/1 (frame 38/9000) /content/1.mp4: 384x640 (no detections), 48.2ms\n",
            "video 1/1 (frame 39/9000) /content/1.mp4: 384x640 (no detections), 41.5ms\n",
            "video 1/1 (frame 40/9000) /content/1.mp4: 384x640 (no detections), 28.1ms\n",
            "video 1/1 (frame 41/9000) /content/1.mp4: 384x640 (no detections), 36.0ms\n",
            "video 1/1 (frame 42/9000) /content/1.mp4: 384x640 (no detections), 25.2ms\n",
            "video 1/1 (frame 43/9000) /content/1.mp4: 384x640 (no detections), 24.4ms\n",
            "video 1/1 (frame 44/9000) /content/1.mp4: 384x640 (no detections), 31.4ms\n",
            "video 1/1 (frame 45/9000) /content/1.mp4: 384x640 (no detections), 19.5ms\n",
            "video 1/1 (frame 46/9000) /content/1.mp4: 384x640 (no detections), 31.3ms\n",
            "video 1/1 (frame 47/9000) /content/1.mp4: 384x640 (no detections), 27.2ms\n",
            "video 1/1 (frame 48/9000) /content/1.mp4: 384x640 (no detections), 28.3ms\n",
            "video 1/1 (frame 49/9000) /content/1.mp4: 384x640 (no detections), 22.4ms\n",
            "video 1/1 (frame 50/9000) /content/1.mp4: 384x640 (no detections), 25.2ms\n",
            "video 1/1 (frame 51/9000) /content/1.mp4: 384x640 (no detections), 20.3ms\n",
            "video 1/1 (frame 52/9000) /content/1.mp4: 384x640 (no detections), 31.0ms\n",
            "video 1/1 (frame 53/9000) /content/1.mp4: 384x640 (no detections), 25.9ms\n",
            "video 1/1 (frame 54/9000) /content/1.mp4: 384x640 (no detections), 25.2ms\n",
            "video 1/1 (frame 55/9000) /content/1.mp4: 384x640 (no detections), 17.8ms\n",
            "video 1/1 (frame 56/9000) /content/1.mp4: 384x640 (no detections), 17.6ms\n",
            "video 1/1 (frame 57/9000) /content/1.mp4: 384x640 (no detections), 14.8ms\n",
            "video 1/1 (frame 58/9000) /content/1.mp4: 384x640 (no detections), 23.5ms\n",
            "video 1/1 (frame 59/9000) /content/1.mp4: 384x640 (no detections), 20.4ms\n",
            "video 1/1 (frame 60/9000) /content/1.mp4: 384x640 (no detections), 43.4ms\n",
            "video 1/1 (frame 61/9000) /content/1.mp4: 384x640 (no detections), 10.4ms\n",
            "video 1/1 (frame 62/9000) /content/1.mp4: 384x640 (no detections), 13.0ms\n",
            "video 1/1 (frame 63/9000) /content/1.mp4: 384x640 (no detections), 10.9ms\n",
            "video 1/1 (frame 64/9000) /content/1.mp4: 384x640 (no detections), 14.2ms\n",
            "video 1/1 (frame 65/9000) /content/1.mp4: 384x640 (no detections), 14.1ms\n",
            "video 1/1 (frame 66/9000) /content/1.mp4: 384x640 (no detections), 9.5ms\n",
            "video 1/1 (frame 67/9000) /content/1.mp4: 384x640 (no detections), 9.5ms\n",
            "video 1/1 (frame 68/9000) /content/1.mp4: 384x640 (no detections), 10.3ms\n",
            "video 1/1 (frame 69/9000) /content/1.mp4: 384x640 (no detections), 9.1ms\n",
            "video 1/1 (frame 70/9000) /content/1.mp4: 384x640 (no detections), 8.9ms\n",
            "video 1/1 (frame 71/9000) /content/1.mp4: 384x640 (no detections), 16.1ms\n",
            "video 1/1 (frame 72/9000) /content/1.mp4: 384x640 (no detections), 9.0ms\n",
            "video 1/1 (frame 73/9000) /content/1.mp4: 384x640 (no detections), 9.3ms\n",
            "video 1/1 (frame 74/9000) /content/1.mp4: 384x640 (no detections), 11.0ms\n",
            "video 1/1 (frame 75/9000) /content/1.mp4: 384x640 (no detections), 11.9ms\n",
            "video 1/1 (frame 76/9000) /content/1.mp4: 384x640 (no detections), 9.5ms\n",
            "video 1/1 (frame 77/9000) /content/1.mp4: 384x640 (no detections), 8.8ms\n",
            "video 1/1 (frame 78/9000) /content/1.mp4: 384x640 (no detections), 8.5ms\n",
            "video 1/1 (frame 79/9000) /content/1.mp4: 384x640 (no detections), 8.6ms\n",
            "video 1/1 (frame 80/9000) /content/1.mp4: 384x640 (no detections), 9.1ms\n",
            "video 1/1 (frame 81/9000) /content/1.mp4: 384x640 (no detections), 8.4ms\n",
            "video 1/1 (frame 82/9000) /content/1.mp4: 384x640 (no detections), 9.9ms\n",
            "video 1/1 (frame 83/9000) /content/1.mp4: 384x640 (no detections), 10.9ms\n",
            "video 1/1 (frame 84/9000) /content/1.mp4: 384x640 (no detections), 11.9ms\n",
            "video 1/1 (frame 85/9000) /content/1.mp4: 384x640 (no detections), 11.8ms\n",
            "video 1/1 (frame 86/9000) /content/1.mp4: 384x640 (no detections), 10.5ms\n",
            "video 1/1 (frame 87/9000) /content/1.mp4: 384x640 (no detections), 8.7ms\n",
            "video 1/1 (frame 88/9000) /content/1.mp4: 384x640 (no detections), 23.4ms\n",
            "video 1/1 (frame 89/9000) /content/1.mp4: 384x640 (no detections), 9.7ms\n",
            "video 1/1 (frame 90/9000) /content/1.mp4: 384x640 (no detections), 25.3ms\n",
            "video 1/1 (frame 91/9000) /content/1.mp4: 384x640 (no detections), 10.5ms\n",
            "video 1/1 (frame 92/9000) /content/1.mp4: 384x640 (no detections), 11.2ms\n",
            "video 1/1 (frame 93/9000) /content/1.mp4: 384x640 (no detections), 12.1ms\n",
            "video 1/1 (frame 94/9000) /content/1.mp4: 384x640 (no detections), 11.9ms\n",
            "video 1/1 (frame 95/9000) /content/1.mp4: 384x640 (no detections), 7.7ms\n",
            "video 1/1 (frame 96/9000) /content/1.mp4: 384x640 (no detections), 8.5ms\n",
            "video 1/1 (frame 97/9000) /content/1.mp4: 384x640 (no detections), 7.7ms\n",
            "video 1/1 (frame 98/9000) /content/1.mp4: 384x640 (no detections), 6.8ms\n",
            "video 1/1 (frame 99/9000) /content/1.mp4: 384x640 (no detections), 7.5ms\n",
            "video 1/1 (frame 100/9000) /content/1.mp4: 384x640 (no detections), 7.0ms\n",
            "video 1/1 (frame 101/9000) /content/1.mp4: 384x640 (no detections), 6.9ms\n",
            "video 1/1 (frame 102/9000) /content/1.mp4: 384x640 (no detections), 10.8ms\n",
            "video 1/1 (frame 103/9000) /content/1.mp4: 384x640 (no detections), 7.1ms\n",
            "video 1/1 (frame 104/9000) /content/1.mp4: 384x640 (no detections), 8.3ms\n",
            "video 1/1 (frame 105/9000) /content/1.mp4: 384x640 (no detections), 7.1ms\n",
            "video 1/1 (frame 106/9000) /content/1.mp4: 384x640 (no detections), 7.1ms\n",
            "video 1/1 (frame 107/9000) /content/1.mp4: 384x640 (no detections), 8.1ms\n",
            "video 1/1 (frame 108/9000) /content/1.mp4: 384x640 (no detections), 11.3ms\n",
            "video 1/1 (frame 109/9000) /content/1.mp4: 384x640 (no detections), 9.5ms\n",
            "video 1/1 (frame 110/9000) /content/1.mp4: 384x640 (no detections), 7.0ms\n",
            "video 1/1 (frame 111/9000) /content/1.mp4: 384x640 (no detections), 7.0ms\n",
            "video 1/1 (frame 112/9000) /content/1.mp4: 384x640 (no detections), 7.1ms\n",
            "video 1/1 (frame 113/9000) /content/1.mp4: 384x640 (no detections), 6.9ms\n",
            "video 1/1 (frame 114/9000) /content/1.mp4: 384x640 (no detections), 6.9ms\n",
            "video 1/1 (frame 115/9000) /content/1.mp4: 384x640 (no detections), 7.2ms\n",
            "video 1/1 (frame 116/9000) /content/1.mp4: 384x640 (no detections), 7.1ms\n",
            "video 1/1 (frame 117/9000) /content/1.mp4: 384x640 (no detections), 7.0ms\n",
            "video 1/1 (frame 118/9000) /content/1.mp4: 384x640 (no detections), 7.4ms\n",
            "video 1/1 (frame 119/9000) /content/1.mp4: 384x640 (no detections), 7.4ms\n",
            "video 1/1 (frame 120/9000) /content/1.mp4: 384x640 (no detections), 10.8ms\n",
            "video 1/1 (frame 121/9000) /content/1.mp4: 384x640 (no detections), 7.0ms\n",
            "video 1/1 (frame 122/9000) /content/1.mp4: 384x640 (no detections), 8.0ms\n",
            "video 1/1 (frame 123/9000) /content/1.mp4: 384x640 (no detections), 8.3ms\n",
            "video 1/1 (frame 124/9000) /content/1.mp4: 384x640 (no detections), 7.5ms\n",
            "video 1/1 (frame 125/9000) /content/1.mp4: 384x640 (no detections), 7.0ms\n",
            "video 1/1 (frame 126/9000) /content/1.mp4: 384x640 (no detections), 10.9ms\n",
            "video 1/1 (frame 127/9000) /content/1.mp4: 384x640 (no detections), 7.0ms\n",
            "video 1/1 (frame 128/9000) /content/1.mp4: 384x640 (no detections), 7.0ms\n",
            "video 1/1 (frame 129/9000) /content/1.mp4: 384x640 (no detections), 6.9ms\n",
            "video 1/1 (frame 130/9000) /content/1.mp4: 384x640 (no detections), 6.9ms\n",
            "video 1/1 (frame 131/9000) /content/1.mp4: 384x640 (no detections), 14.0ms\n",
            "video 1/1 (frame 132/9000) /content/1.mp4: 384x640 (no detections), 9.3ms\n",
            "video 1/1 (frame 133/9000) /content/1.mp4: 384x640 (no detections), 8.1ms\n",
            "video 1/1 (frame 134/9000) /content/1.mp4: 384x640 (no detections), 39.1ms\n",
            "video 1/1 (frame 135/9000) /content/1.mp4: 384x640 (no detections), 63.6ms\n",
            "video 1/1 (frame 136/9000) /content/1.mp4: 384x640 (no detections), 31.7ms\n",
            "video 1/1 (frame 137/9000) /content/1.mp4: 384x640 (no detections), 22.6ms\n",
            "video 1/1 (frame 138/9000) /content/1.mp4: 384x640 (no detections), 42.8ms\n",
            "video 1/1 (frame 139/9000) /content/1.mp4: 384x640 (no detections), 46.5ms\n",
            "video 1/1 (frame 140/9000) /content/1.mp4: 384x640 (no detections), 29.5ms\n",
            "video 1/1 (frame 141/9000) /content/1.mp4: 384x640 (no detections), 30.7ms\n",
            "video 1/1 (frame 142/9000) /content/1.mp4: 384x640 (no detections), 43.2ms\n",
            "video 1/1 (frame 143/9000) /content/1.mp4: 384x640 (no detections), 23.9ms\n",
            "video 1/1 (frame 144/9000) /content/1.mp4: 384x640 (no detections), 24.6ms\n",
            "video 1/1 (frame 145/9000) /content/1.mp4: 384x640 (no detections), 24.6ms\n",
            "video 1/1 (frame 146/9000) /content/1.mp4: 384x640 (no detections), 16.6ms\n",
            "video 1/1 (frame 147/9000) /content/1.mp4: 384x640 (no detections), 6.9ms\n",
            "video 1/1 (frame 148/9000) /content/1.mp4: 384x640 (no detections), 11.4ms\n",
            "video 1/1 (frame 149/9000) /content/1.mp4: 384x640 (no detections), 7.3ms\n",
            "video 1/1 (frame 150/9000) /content/1.mp4: 384x640 (no detections), 9.7ms\n",
            "video 1/1 (frame 151/9000) /content/1.mp4: 384x640 (no detections), 7.8ms\n",
            "video 1/1 (frame 152/9000) /content/1.mp4: 384x640 (no detections), 7.3ms\n",
            "video 1/1 (frame 153/9000) /content/1.mp4: 384x640 (no detections), 7.8ms\n",
            "video 1/1 (frame 154/9000) /content/1.mp4: 384x640 (no detections), 7.1ms\n",
            "video 1/1 (frame 155/9000) /content/1.mp4: 384x640 (no detections), 8.2ms\n",
            "video 1/1 (frame 156/9000) /content/1.mp4: 384x640 (no detections), 7.3ms\n",
            "video 1/1 (frame 157/9000) /content/1.mp4: 384x640 (no detections), 8.4ms\n",
            "video 1/1 (frame 158/9000) /content/1.mp4: 384x640 (no detections), 6.8ms\n",
            "video 1/1 (frame 159/9000) /content/1.mp4: 384x640 (no detections), 8.4ms\n",
            "video 1/1 (frame 160/9000) /content/1.mp4: 384x640 (no detections), 7.0ms\n",
            "video 1/1 (frame 161/9000) /content/1.mp4: 384x640 (no detections), 8.2ms\n",
            "video 1/1 (frame 162/9000) /content/1.mp4: 384x640 (no detections), 7.0ms\n",
            "video 1/1 (frame 163/9000) /content/1.mp4: 384x640 (no detections), 11.3ms\n",
            "video 1/1 (frame 164/9000) /content/1.mp4: 384x640 (no detections), 7.2ms\n",
            "video 1/1 (frame 165/9000) /content/1.mp4: 384x640 (no detections), 8.0ms\n",
            "video 1/1 (frame 166/9000) /content/1.mp4: 384x640 (no detections), 7.0ms\n",
            "video 1/1 (frame 167/9000) /content/1.mp4: 384x640 (no detections), 8.5ms\n",
            "video 1/1 (frame 168/9000) /content/1.mp4: 384x640 (no detections), 7.3ms\n",
            "video 1/1 (frame 169/9000) /content/1.mp4: 384x640 (no detections), 7.3ms\n",
            "video 1/1 (frame 170/9000) /content/1.mp4: 384x640 (no detections), 7.9ms\n",
            "video 1/1 (frame 171/9000) /content/1.mp4: 384x640 (no detections), 7.8ms\n",
            "video 1/1 (frame 172/9000) /content/1.mp4: 384x640 (no detections), 7.4ms\n",
            "video 1/1 (frame 173/9000) /content/1.mp4: 384x640 (no detections), 7.1ms\n",
            "video 1/1 (frame 174/9000) /content/1.mp4: 384x640 (no detections), 7.5ms\n",
            "video 1/1 (frame 175/9000) /content/1.mp4: 384x640 (no detections), 7.5ms\n",
            "video 1/1 (frame 176/9000) /content/1.mp4: 384x640 (no detections), 6.9ms\n",
            "video 1/1 (frame 177/9000) /content/1.mp4: 384x640 (no detections), 9.3ms\n",
            "video 1/1 (frame 178/9000) /content/1.mp4: 384x640 (no detections), 7.5ms\n",
            "video 1/1 (frame 179/9000) /content/1.mp4: 384x640 (no detections), 7.4ms\n",
            "video 1/1 (frame 180/9000) /content/1.mp4: 384x640 (no detections), 10.6ms\n",
            "video 1/1 (frame 181/9000) /content/1.mp4: 384x640 (no detections), 7.4ms\n",
            "video 1/1 (frame 182/9000) /content/1.mp4: 384x640 (no detections), 7.3ms\n",
            "video 1/1 (frame 183/9000) /content/1.mp4: 384x640 (no detections), 7.3ms\n",
            "video 1/1 (frame 184/9000) /content/1.mp4: 384x640 (no detections), 7.3ms\n",
            "video 1/1 (frame 185/9000) /content/1.mp4: 384x640 (no detections), 6.8ms\n",
            "video 1/1 (frame 186/9000) /content/1.mp4: 384x640 (no detections), 7.5ms\n",
            "video 1/1 (frame 187/9000) /content/1.mp4: 384x640 (no detections), 10.2ms\n",
            "video 1/1 (frame 188/9000) /content/1.mp4: 384x640 (no detections), 8.7ms\n",
            "video 1/1 (frame 189/9000) /content/1.mp4: 384x640 (no detections), 8.1ms\n",
            "video 1/1 (frame 190/9000) /content/1.mp4: 384x640 (no detections), 8.2ms\n",
            "video 1/1 (frame 191/9000) /content/1.mp4: 384x640 (no detections), 8.2ms\n",
            "video 1/1 (frame 192/9000) /content/1.mp4: 384x640 (no detections), 9.9ms\n",
            "video 1/1 (frame 193/9000) /content/1.mp4: 384x640 (no detections), 52.7ms\n",
            "video 1/1 (frame 194/9000) /content/1.mp4: 384x640 (no detections), 39.4ms\n",
            "video 1/1 (frame 195/9000) /content/1.mp4: 384x640 (no detections), 65.4ms\n",
            "video 1/1 (frame 196/9000) /content/1.mp4: 384x640 (no detections), 31.3ms\n",
            "video 1/1 (frame 197/9000) /content/1.mp4: 384x640 (no detections), 19.2ms\n",
            "video 1/1 (frame 198/9000) /content/1.mp4: 384x640 1 with_mask, 50.6ms\n",
            "video 1/1 (frame 199/9000) /content/1.mp4: 384x640 (no detections), 36.0ms\n",
            "video 1/1 (frame 200/9000) /content/1.mp4: 384x640 (no detections), 7.2ms\n",
            "video 1/1 (frame 201/9000) /content/1.mp4: 384x640 (no detections), 7.0ms\n",
            "video 1/1 (frame 202/9000) /content/1.mp4: 384x640 (no detections), 8.3ms\n",
            "video 1/1 (frame 203/9000) /content/1.mp4: 384x640 (no detections), 7.3ms\n",
            "video 1/1 (frame 204/9000) /content/1.mp4: 384x640 (no detections), 9.1ms\n",
            "video 1/1 (frame 205/9000) /content/1.mp4: 384x640 (no detections), 6.9ms\n",
            "video 1/1 (frame 206/9000) /content/1.mp4: 384x640 (no detections), 8.5ms\n",
            "video 1/1 (frame 207/9000) /content/1.mp4: 384x640 (no detections), 7.0ms\n",
            "video 1/1 (frame 208/9000) /content/1.mp4: 384x640 1 with_mask, 9.0ms\n",
            "video 1/1 (frame 209/9000) /content/1.mp4: 384x640 (no detections), 9.8ms\n",
            "video 1/1 (frame 210/9000) /content/1.mp4: 384x640 (no detections), 10.0ms\n",
            "video 1/1 (frame 211/9000) /content/1.mp4: 384x640 (no detections), 7.0ms\n",
            "video 1/1 (frame 212/9000) /content/1.mp4: 384x640 (no detections), 8.8ms\n",
            "video 1/1 (frame 213/9000) /content/1.mp4: 384x640 (no detections), 10.6ms\n",
            "video 1/1 (frame 214/9000) /content/1.mp4: 384x640 (no detections), 8.8ms\n",
            "video 1/1 (frame 215/9000) /content/1.mp4: 384x640 (no detections), 7.6ms\n",
            "video 1/1 (frame 216/9000) /content/1.mp4: 384x640 (no detections), 7.2ms\n",
            "video 1/1 (frame 217/9000) /content/1.mp4: 384x640 (no detections), 6.8ms\n",
            "video 1/1 (frame 218/9000) /content/1.mp4: 384x640 (no detections), 7.5ms\n",
            "video 1/1 (frame 219/9000) /content/1.mp4: 384x640 (no detections), 6.9ms\n",
            "video 1/1 (frame 220/9000) /content/1.mp4: 384x640 (no detections), 11.5ms\n",
            "video 1/1 (frame 221/9000) /content/1.mp4: 384x640 (no detections), 8.1ms\n",
            "video 1/1 (frame 222/9000) /content/1.mp4: 384x640 (no detections), 7.0ms\n",
            "video 1/1 (frame 223/9000) /content/1.mp4: 384x640 (no detections), 7.3ms\n",
            "video 1/1 (frame 224/9000) /content/1.mp4: 384x640 (no detections), 7.5ms\n",
            "video 1/1 (frame 225/9000) /content/1.mp4: 384x640 (no detections), 6.9ms\n",
            "video 1/1 (frame 226/9000) /content/1.mp4: 384x640 (no detections), 8.2ms\n",
            "video 1/1 (frame 227/9000) /content/1.mp4: 384x640 (no detections), 6.9ms\n",
            "video 1/1 (frame 228/9000) /content/1.mp4: 384x640 (no detections), 7.1ms\n",
            "video 1/1 (frame 229/9000) /content/1.mp4: 384x640 (no detections), 11.5ms\n",
            "video 1/1 (frame 230/9000) /content/1.mp4: 384x640 (no detections), 6.9ms\n",
            "video 1/1 (frame 231/9000) /content/1.mp4: 384x640 (no detections), 9.1ms\n",
            "video 1/1 (frame 232/9000) /content/1.mp4: 384x640 (no detections), 7.1ms\n",
            "video 1/1 (frame 233/9000) /content/1.mp4: 384x640 (no detections), 11.0ms\n",
            "video 1/1 (frame 234/9000) /content/1.mp4: 384x640 (no detections), 7.0ms\n",
            "video 1/1 (frame 235/9000) /content/1.mp4: 384x640 (no detections), 8.6ms\n",
            "video 1/1 (frame 236/9000) /content/1.mp4: 384x640 (no detections), 9.4ms\n",
            "video 1/1 (frame 237/9000) /content/1.mp4: 384x640 (no detections), 8.4ms\n",
            "video 1/1 (frame 238/9000) /content/1.mp4: 384x640 (no detections), 7.4ms\n",
            "video 1/1 (frame 239/9000) /content/1.mp4: 384x640 (no detections), 7.4ms\n",
            "video 1/1 (frame 240/9000) /content/1.mp4: 384x640 (no detections), 9.9ms\n",
            "video 1/1 (frame 241/9000) /content/1.mp4: 384x640 (no detections), 7.0ms\n",
            "video 1/1 (frame 242/9000) /content/1.mp4: 384x640 (no detections), 8.0ms\n",
            "video 1/1 (frame 243/9000) /content/1.mp4: 384x640 (no detections), 22.5ms\n",
            "video 1/1 (frame 244/9000) /content/1.mp4: 384x640 (no detections), 8.8ms\n",
            "video 1/1 (frame 245/9000) /content/1.mp4: 384x640 (no detections), 7.5ms\n",
            "video 1/1 (frame 246/9000) /content/1.mp4: 384x640 (no detections), 7.1ms\n",
            "video 1/1 (frame 247/9000) /content/1.mp4: 384x640 (no detections), 7.2ms\n",
            "video 1/1 (frame 248/9000) /content/1.mp4: 384x640 (no detections), 8.9ms\n",
            "video 1/1 (frame 249/9000) /content/1.mp4: 384x640 (no detections), 7.5ms\n",
            "video 1/1 (frame 250/9000) /content/1.mp4: 384x640 (no detections), 8.5ms\n",
            "video 1/1 (frame 251/9000) /content/1.mp4: 384x640 (no detections), 6.9ms\n",
            "video 1/1 (frame 252/9000) /content/1.mp4: 384x640 (no detections), 7.1ms\n",
            "video 1/1 (frame 253/9000) /content/1.mp4: 384x640 (no detections), 6.8ms\n",
            "video 1/1 (frame 254/9000) /content/1.mp4: 384x640 (no detections), 6.9ms\n",
            "video 1/1 (frame 255/9000) /content/1.mp4: 384x640 (no detections), 8.7ms\n",
            "video 1/1 (frame 256/9000) /content/1.mp4: 384x640 (no detections), 8.8ms\n",
            "video 1/1 (frame 257/9000) /content/1.mp4: 384x640 (no detections), 9.5ms\n",
            "video 1/1 (frame 258/9000) /content/1.mp4: 384x640 (no detections), 10.7ms\n",
            "video 1/1 (frame 259/9000) /content/1.mp4: 384x640 (no detections), 7.3ms\n",
            "video 1/1 (frame 260/9000) /content/1.mp4: 384x640 (no detections), 8.5ms\n",
            "video 1/1 (frame 261/9000) /content/1.mp4: 384x640 (no detections), 9.0ms\n",
            "video 1/1 (frame 262/9000) /content/1.mp4: 384x640 (no detections), 8.6ms\n",
            "video 1/1 (frame 263/9000) /content/1.mp4: 384x640 (no detections), 9.6ms\n",
            "video 1/1 (frame 264/9000) /content/1.mp4: 384x640 (no detections), 8.1ms\n",
            "video 1/1 (frame 265/9000) /content/1.mp4: 384x640 (no detections), 9.6ms\n",
            "video 1/1 (frame 266/9000) /content/1.mp4: 384x640 (no detections), 11.4ms\n",
            "video 1/1 (frame 267/9000) /content/1.mp4: 384x640 (no detections), 8.1ms\n",
            "video 1/1 (frame 268/9000) /content/1.mp4: 384x640 (no detections), 12.5ms\n",
            "video 1/1 (frame 269/9000) /content/1.mp4: 384x640 (no detections), 10.2ms\n",
            "video 1/1 (frame 270/9000) /content/1.mp4: 384x640 (no detections), 24.9ms\n",
            "video 1/1 (frame 271/9000) /content/1.mp4: 384x640 (no detections), 9.7ms\n",
            "video 1/1 (frame 272/9000) /content/1.mp4: 384x640 (no detections), 8.9ms\n",
            "video 1/1 (frame 273/9000) /content/1.mp4: 384x640 (no detections), 9.1ms\n",
            "video 1/1 (frame 274/9000) /content/1.mp4: 384x640 (no detections), 9.8ms\n",
            "video 1/1 (frame 275/9000) /content/1.mp4: 384x640 (no detections), 9.3ms\n",
            "video 1/1 (frame 276/9000) /content/1.mp4: 384x640 (no detections), 8.9ms\n",
            "video 1/1 (frame 277/9000) /content/1.mp4: 384x640 (no detections), 9.3ms\n",
            "video 1/1 (frame 278/9000) /content/1.mp4: 384x640 (no detections), 8.4ms\n",
            "video 1/1 (frame 279/9000) /content/1.mp4: 384x640 (no detections), 9.2ms\n",
            "video 1/1 (frame 280/9000) /content/1.mp4: 384x640 (no detections), 11.0ms\n",
            "video 1/1 (frame 281/9000) /content/1.mp4: 384x640 (no detections), 12.9ms\n",
            "video 1/1 (frame 282/9000) /content/1.mp4: 384x640 (no detections), 11.9ms\n",
            "video 1/1 (frame 283/9000) /content/1.mp4: 384x640 (no detections), 11.7ms\n",
            "video 1/1 (frame 284/9000) /content/1.mp4: 384x640 (no detections), 15.2ms\n",
            "video 1/1 (frame 285/9000) /content/1.mp4: 384x640 (no detections), 12.3ms\n",
            "video 1/1 (frame 286/9000) /content/1.mp4: 384x640 (no detections), 7.4ms\n",
            "video 1/1 (frame 287/9000) /content/1.mp4: 384x640 (no detections), 7.9ms\n",
            "video 1/1 (frame 288/9000) /content/1.mp4: 384x640 (no detections), 6.8ms\n",
            "video 1/1 (frame 289/9000) /content/1.mp4: 384x640 (no detections), 7.2ms\n",
            "video 1/1 (frame 290/9000) /content/1.mp4: 384x640 (no detections), 8.9ms\n",
            "video 1/1 (frame 291/9000) /content/1.mp4: 384x640 (no detections), 6.9ms\n",
            "video 1/1 (frame 292/9000) /content/1.mp4: 384x640 (no detections), 8.6ms\n",
            "video 1/1 (frame 293/9000) /content/1.mp4: 384x640 (no detections), 7.0ms\n",
            "video 1/1 (frame 294/9000) /content/1.mp4: 384x640 (no detections), 8.9ms\n",
            "video 1/1 (frame 295/9000) /content/1.mp4: 384x640 (no detections), 8.8ms\n",
            "video 1/1 (frame 296/9000) /content/1.mp4: 384x640 (no detections), 8.8ms\n",
            "video 1/1 (frame 297/9000) /content/1.mp4: 384x640 (no detections), 12.2ms\n",
            "video 1/1 (frame 298/9000) /content/1.mp4: 384x640 (no detections), 11.8ms\n",
            "video 1/1 (frame 299/9000) /content/1.mp4: 384x640 (no detections), 7.0ms\n",
            "video 1/1 (frame 300/9000) /content/1.mp4: 384x640 (no detections), 9.6ms\n",
            "video 1/1 (frame 301/9000) /content/1.mp4: 384x640 (no detections), 7.0ms\n",
            "video 1/1 (frame 302/9000) /content/1.mp4: 384x640 (no detections), 8.6ms\n",
            "video 1/1 (frame 303/9000) /content/1.mp4: 384x640 (no detections), 8.5ms\n",
            "video 1/1 (frame 304/9000) /content/1.mp4: 384x640 (no detections), 7.1ms\n",
            "video 1/1 (frame 305/9000) /content/1.mp4: 384x640 (no detections), 8.8ms\n",
            "video 1/1 (frame 306/9000) /content/1.mp4: 384x640 (no detections), 7.1ms\n",
            "video 1/1 (frame 307/9000) /content/1.mp4: 384x640 (no detections), 7.0ms\n",
            "video 1/1 (frame 308/9000) /content/1.mp4: 384x640 (no detections), 6.7ms\n",
            "video 1/1 (frame 309/9000) /content/1.mp4: 384x640 (no detections), 6.8ms\n",
            "video 1/1 (frame 310/9000) /content/1.mp4: 384x640 (no detections), 7.1ms\n",
            "video 1/1 (frame 311/9000) /content/1.mp4: 384x640 (no detections), 6.9ms\n",
            "video 1/1 (frame 312/9000) /content/1.mp4: 384x640 (no detections), 9.5ms\n",
            "video 1/1 (frame 313/9000) /content/1.mp4: 384x640 (no detections), 6.7ms\n",
            "video 1/1 (frame 314/9000) /content/1.mp4: 384x640 (no detections), 7.4ms\n",
            "video 1/1 (frame 315/9000) /content/1.mp4: 384x640 (no detections), 7.0ms\n",
            "video 1/1 (frame 316/9000) /content/1.mp4: 384x640 (no detections), 6.8ms\n",
            "video 1/1 (frame 317/9000) /content/1.mp4: 384x640 (no detections), 6.7ms\n",
            "video 1/1 (frame 318/9000) /content/1.mp4: 384x640 (no detections), 7.4ms\n",
            "video 1/1 (frame 319/9000) /content/1.mp4: 384x640 (no detections), 6.8ms\n",
            "video 1/1 (frame 320/9000) /content/1.mp4: 384x640 (no detections), 8.5ms\n",
            "video 1/1 (frame 321/9000) /content/1.mp4: 384x640 (no detections), 6.9ms\n",
            "video 1/1 (frame 322/9000) /content/1.mp4: 384x640 (no detections), 8.6ms\n",
            "video 1/1 (frame 323/9000) /content/1.mp4: 384x640 (no detections), 7.0ms\n",
            "video 1/1 (frame 324/9000) /content/1.mp4: 384x640 (no detections), 8.0ms\n",
            "video 1/1 (frame 325/9000) /content/1.mp4: 384x640 (no detections), 6.8ms\n",
            "video 1/1 (frame 326/9000) /content/1.mp4: 384x640 (no detections), 6.9ms\n",
            "video 1/1 (frame 327/9000) /content/1.mp4: 384x640 (no detections), 6.8ms\n",
            "video 1/1 (frame 328/9000) /content/1.mp4: 384x640 (no detections), 9.5ms\n",
            "video 1/1 (frame 329/9000) /content/1.mp4: 384x640 (no detections), 8.0ms\n",
            "video 1/1 (frame 330/9000) /content/1.mp4: 384x640 (no detections), 9.4ms\n",
            "video 1/1 (frame 331/9000) /content/1.mp4: 384x640 (no detections), 7.4ms\n",
            "video 1/1 (frame 332/9000) /content/1.mp4: 384x640 (no detections), 7.4ms\n",
            "video 1/1 (frame 333/9000) /content/1.mp4: 384x640 (no detections), 7.9ms\n",
            "video 1/1 (frame 334/9000) /content/1.mp4: 384x640 (no detections), 6.8ms\n",
            "video 1/1 (frame 335/9000) /content/1.mp4: 384x640 (no detections), 7.6ms\n",
            "video 1/1 (frame 336/9000) /content/1.mp4: 384x640 (no detections), 7.1ms\n",
            "video 1/1 (frame 337/9000) /content/1.mp4: 384x640 (no detections), 7.8ms\n",
            "video 1/1 (frame 338/9000) /content/1.mp4: 384x640 (no detections), 8.8ms\n",
            "video 1/1 (frame 339/9000) /content/1.mp4: 384x640 (no detections), 11.2ms\n",
            "video 1/1 (frame 340/9000) /content/1.mp4: 384x640 (no detections), 9.5ms\n",
            "video 1/1 (frame 341/9000) /content/1.mp4: 384x640 (no detections), 8.7ms\n",
            "video 1/1 (frame 342/9000) /content/1.mp4: 384x640 (no detections), 6.9ms\n",
            "video 1/1 (frame 343/9000) /content/1.mp4: 384x640 (no detections), 8.1ms\n",
            "video 1/1 (frame 344/9000) /content/1.mp4: 384x640 (no detections), 6.7ms\n",
            "video 1/1 (frame 345/9000) /content/1.mp4: 384x640 (no detections), 6.7ms\n",
            "video 1/1 (frame 346/9000) /content/1.mp4: 384x640 (no detections), 6.7ms\n",
            "video 1/1 (frame 347/9000) /content/1.mp4: 384x640 (no detections), 8.7ms\n",
            "video 1/1 (frame 348/9000) /content/1.mp4: 384x640 (no detections), 6.8ms\n",
            "video 1/1 (frame 349/9000) /content/1.mp4: 384x640 (no detections), 7.3ms\n",
            "video 1/1 (frame 350/9000) /content/1.mp4: 384x640 (no detections), 7.1ms\n",
            "video 1/1 (frame 351/9000) /content/1.mp4: 384x640 (no detections), 10.4ms\n",
            "video 1/1 (frame 352/9000) /content/1.mp4: 384x640 (no detections), 7.1ms\n",
            "video 1/1 (frame 353/9000) /content/1.mp4: 384x640 (no detections), 7.3ms\n",
            "video 1/1 (frame 354/9000) /content/1.mp4: 384x640 (no detections), 7.0ms\n",
            "video 1/1 (frame 355/9000) /content/1.mp4: 384x640 (no detections), 6.9ms\n",
            "video 1/1 (frame 356/9000) /content/1.mp4: 384x640 (no detections), 6.9ms\n",
            "video 1/1 (frame 357/9000) /content/1.mp4: 384x640 (no detections), 6.9ms\n",
            "video 1/1 (frame 358/9000) /content/1.mp4: 384x640 (no detections), 6.8ms\n",
            "video 1/1 (frame 359/9000) /content/1.mp4: 384x640 (no detections), 8.0ms\n",
            "video 1/1 (frame 360/9000) /content/1.mp4: 384x640 (no detections), 9.3ms\n",
            "video 1/1 (frame 361/9000) /content/1.mp4: 384x640 (no detections), 9.5ms\n",
            "video 1/1 (frame 362/9000) /content/1.mp4: 384x640 (no detections), 7.2ms\n",
            "video 1/1 (frame 363/9000) /content/1.mp4: 384x640 (no detections), 12.2ms\n",
            "video 1/1 (frame 364/9000) /content/1.mp4: 384x640 (no detections), 7.0ms\n",
            "video 1/1 (frame 365/9000) /content/1.mp4: 384x640 (no detections), 7.4ms\n",
            "video 1/1 (frame 366/9000) /content/1.mp4: 384x640 (no detections), 9.1ms\n",
            "video 1/1 (frame 367/9000) /content/1.mp4: 384x640 (no detections), 10.3ms\n",
            "video 1/1 (frame 368/9000) /content/1.mp4: 384x640 (no detections), 9.0ms\n",
            "video 1/1 (frame 369/9000) /content/1.mp4: 384x640 (no detections), 6.9ms\n",
            "video 1/1 (frame 370/9000) /content/1.mp4: 384x640 (no detections), 10.8ms\n",
            "video 1/1 (frame 371/9000) /content/1.mp4: 384x640 (no detections), 7.0ms\n",
            "video 1/1 (frame 372/9000) /content/1.mp4: 384x640 (no detections), 10.7ms\n",
            "video 1/1 (frame 373/9000) /content/1.mp4: 384x640 (no detections), 7.3ms\n",
            "video 1/1 (frame 374/9000) /content/1.mp4: 384x640 (no detections), 8.8ms\n",
            "video 1/1 (frame 375/9000) /content/1.mp4: 384x640 (no detections), 7.8ms\n",
            "video 1/1 (frame 376/9000) /content/1.mp4: 384x640 (no detections), 8.8ms\n",
            "video 1/1 (frame 377/9000) /content/1.mp4: 384x640 (no detections), 6.9ms\n",
            "video 1/1 (frame 378/9000) /content/1.mp4: 384x640 (no detections), 9.1ms\n",
            "video 1/1 (frame 379/9000) /content/1.mp4: 384x640 (no detections), 6.9ms\n",
            "video 1/1 (frame 380/9000) /content/1.mp4: 384x640 (no detections), 8.2ms\n",
            "video 1/1 (frame 381/9000) /content/1.mp4: 384x640 (no detections), 6.9ms\n",
            "video 1/1 (frame 382/9000) /content/1.mp4: 384x640 (no detections), 8.1ms\n",
            "video 1/1 (frame 383/9000) /content/1.mp4: 384x640 (no detections), 7.2ms\n",
            "video 1/1 (frame 384/9000) /content/1.mp4: 384x640 (no detections), 7.2ms\n",
            "video 1/1 (frame 385/9000) /content/1.mp4: 384x640 (no detections), 7.1ms\n",
            "video 1/1 (frame 386/9000) /content/1.mp4: 384x640 (no detections), 9.8ms\n",
            "video 1/1 (frame 387/9000) /content/1.mp4: 384x640 (no detections), 13.8ms\n",
            "video 1/1 (frame 388/9000) /content/1.mp4: 384x640 (no detections), 8.0ms\n",
            "video 1/1 (frame 389/9000) /content/1.mp4: 384x640 (no detections), 8.1ms\n",
            "video 1/1 (frame 390/9000) /content/1.mp4: 384x640 (no detections), 9.3ms\n",
            "video 1/1 (frame 391/9000) /content/1.mp4: 384x640 (no detections), 7.2ms\n",
            "video 1/1 (frame 392/9000) /content/1.mp4: 384x640 (no detections), 9.8ms\n",
            "video 1/1 (frame 393/9000) /content/1.mp4: 384x640 (no detections), 6.9ms\n",
            "video 1/1 (frame 394/9000) /content/1.mp4: 384x640 (no detections), 7.3ms\n",
            "video 1/1 (frame 395/9000) /content/1.mp4: 384x640 (no detections), 9.3ms\n",
            "video 1/1 (frame 396/9000) /content/1.mp4: 384x640 (no detections), 7.2ms\n",
            "video 1/1 (frame 397/9000) /content/1.mp4: 384x640 (no detections), 9.7ms\n",
            "video 1/1 (frame 398/9000) /content/1.mp4: 384x640 (no detections), 7.6ms\n",
            "video 1/1 (frame 399/9000) /content/1.mp4: 384x640 (no detections), 7.1ms\n",
            "video 1/1 (frame 400/9000) /content/1.mp4: 384x640 (no detections), 7.8ms\n",
            "video 1/1 (frame 401/9000) /content/1.mp4: 384x640 (no detections), 7.2ms\n",
            "video 1/1 (frame 402/9000) /content/1.mp4: 384x640 (no detections), 14.5ms\n",
            "video 1/1 (frame 403/9000) /content/1.mp4: 384x640 (no detections), 12.0ms\n",
            "video 1/1 (frame 404/9000) /content/1.mp4: 384x640 (no detections), 11.3ms\n",
            "video 1/1 (frame 405/9000) /content/1.mp4: 384x640 (no detections), 10.4ms\n",
            "video 1/1 (frame 406/9000) /content/1.mp4: 384x640 (no detections), 14.0ms\n",
            "video 1/1 (frame 407/9000) /content/1.mp4: 384x640 (no detections), 15.0ms\n",
            "video 1/1 (frame 408/9000) /content/1.mp4: 384x640 (no detections), 9.4ms\n",
            "video 1/1 (frame 409/9000) /content/1.mp4: 384x640 (no detections), 8.5ms\n",
            "video 1/1 (frame 410/9000) /content/1.mp4: 384x640 (no detections), 12.4ms\n",
            "video 1/1 (frame 411/9000) /content/1.mp4: 384x640 (no detections), 8.8ms\n",
            "video 1/1 (frame 412/9000) /content/1.mp4: 384x640 (no detections), 10.9ms\n",
            "video 1/1 (frame 413/9000) /content/1.mp4: 384x640 (no detections), 11.9ms\n",
            "video 1/1 (frame 414/9000) /content/1.mp4: 384x640 (no detections), 12.4ms\n",
            "video 1/1 (frame 415/9000) /content/1.mp4: 384x640 (no detections), 12.7ms\n",
            "video 1/1 (frame 416/9000) /content/1.mp4: 384x640 (no detections), 9.0ms\n",
            "video 1/1 (frame 417/9000) /content/1.mp4: 384x640 (no detections), 10.1ms\n",
            "video 1/1 (frame 418/9000) /content/1.mp4: 384x640 (no detections), 9.7ms\n",
            "video 1/1 (frame 419/9000) /content/1.mp4: 384x640 (no detections), 15.2ms\n",
            "video 1/1 (frame 420/9000) /content/1.mp4: 384x640 (no detections), 16.9ms\n",
            "video 1/1 (frame 421/9000) /content/1.mp4: 384x640 (no detections), 10.6ms\n",
            "video 1/1 (frame 422/9000) /content/1.mp4: 384x640 (no detections), 11.7ms\n",
            "video 1/1 (frame 423/9000) /content/1.mp4: 384x640 (no detections), 12.8ms\n",
            "video 1/1 (frame 424/9000) /content/1.mp4: 384x640 (no detections), 7.4ms\n",
            "video 1/1 (frame 425/9000) /content/1.mp4: 384x640 (no detections), 8.2ms\n",
            "video 1/1 (frame 426/9000) /content/1.mp4: 384x640 (no detections), 7.3ms\n",
            "video 1/1 (frame 427/9000) /content/1.mp4: 384x640 (no detections), 9.7ms\n",
            "video 1/1 (frame 428/9000) /content/1.mp4: 384x640 (no detections), 7.3ms\n",
            "video 1/1 (frame 429/9000) /content/1.mp4: 384x640 (no detections), 8.4ms\n",
            "video 1/1 (frame 430/9000) /content/1.mp4: 384x640 (no detections), 7.5ms\n",
            "video 1/1 (frame 431/9000) /content/1.mp4: 384x640 (no detections), 7.9ms\n",
            "video 1/1 (frame 432/9000) /content/1.mp4: 384x640 (no detections), 6.8ms\n",
            "video 1/1 (frame 433/9000) /content/1.mp4: 384x640 (no detections), 8.3ms\n",
            "video 1/1 (frame 434/9000) /content/1.mp4: 384x640 (no detections), 7.1ms\n",
            "video 1/1 (frame 435/9000) /content/1.mp4: 384x640 (no detections), 9.3ms\n",
            "video 1/1 (frame 436/9000) /content/1.mp4: 384x640 (no detections), 6.9ms\n",
            "video 1/1 (frame 437/9000) /content/1.mp4: 384x640 (no detections), 8.2ms\n",
            "video 1/1 (frame 438/9000) /content/1.mp4: 384x640 (no detections), 8.5ms\n",
            "video 1/1 (frame 439/9000) /content/1.mp4: 384x640 1 with_mask, 7.3ms\n",
            "video 1/1 (frame 440/9000) /content/1.mp4: 384x640 (no detections), 8.3ms\n",
            "video 1/1 (frame 441/9000) /content/1.mp4: 384x640 (no detections), 7.3ms\n",
            "video 1/1 (frame 442/9000) /content/1.mp4: 384x640 (no detections), 8.1ms\n",
            "video 1/1 (frame 443/9000) /content/1.mp4: 384x640 (no detections), 6.8ms\n",
            "video 1/1 (frame 444/9000) /content/1.mp4: 384x640 (no detections), 9.1ms\n",
            "video 1/1 (frame 445/9000) /content/1.mp4: 384x640 (no detections), 7.4ms\n",
            "video 1/1 (frame 446/9000) /content/1.mp4: 384x640 (no detections), 9.8ms\n",
            "video 1/1 (frame 447/9000) /content/1.mp4: 384x640 (no detections), 7.5ms\n",
            "video 1/1 (frame 448/9000) /content/1.mp4: 384x640 (no detections), 8.3ms\n",
            "video 1/1 (frame 449/9000) /content/1.mp4: 384x640 (no detections), 6.9ms\n",
            "video 1/1 (frame 450/9000) /content/1.mp4: 384x640 (no detections), 9.4ms\n",
            "video 1/1 (frame 451/9000) /content/1.mp4: 384x640 (no detections), 7.2ms\n",
            "video 1/1 (frame 452/9000) /content/1.mp4: 384x640 (no detections), 8.6ms\n",
            "video 1/1 (frame 453/9000) /content/1.mp4: 384x640 (no detections), 7.2ms\n",
            "video 1/1 (frame 454/9000) /content/1.mp4: 384x640 (no detections), 8.7ms\n",
            "video 1/1 (frame 455/9000) /content/1.mp4: 384x640 (no detections), 8.0ms\n",
            "video 1/1 (frame 456/9000) /content/1.mp4: 384x640 (no detections), 7.4ms\n",
            "video 1/1 (frame 457/9000) /content/1.mp4: 384x640 (no detections), 10.9ms\n",
            "video 1/1 (frame 458/9000) /content/1.mp4: 384x640 (no detections), 7.6ms\n",
            "video 1/1 (frame 459/9000) /content/1.mp4: 384x640 (no detections), 8.9ms\n",
            "video 1/1 (frame 460/9000) /content/1.mp4: 384x640 (no detections), 7.0ms\n",
            "video 1/1 (frame 461/9000) /content/1.mp4: 384x640 (no detections), 9.2ms\n",
            "video 1/1 (frame 462/9000) /content/1.mp4: 384x640 (no detections), 8.4ms\n",
            "video 1/1 (frame 463/9000) /content/1.mp4: 384x640 (no detections), 8.8ms\n",
            "video 1/1 (frame 464/9000) /content/1.mp4: 384x640 (no detections), 7.5ms\n",
            "video 1/1 (frame 465/9000) /content/1.mp4: 384x640 (no detections), 8.7ms\n",
            "video 1/1 (frame 466/9000) /content/1.mp4: 384x640 (no detections), 9.7ms\n",
            "video 1/1 (frame 467/9000) /content/1.mp4: 384x640 (no detections), 8.7ms\n",
            "video 1/1 (frame 468/9000) /content/1.mp4: 384x640 (no detections), 6.8ms\n",
            "video 1/1 (frame 469/9000) /content/1.mp4: 384x640 (no detections), 8.4ms\n",
            "video 1/1 (frame 470/9000) /content/1.mp4: 384x640 (no detections), 7.5ms\n",
            "video 1/1 (frame 471/9000) /content/1.mp4: 384x640 (no detections), 7.6ms\n",
            "video 1/1 (frame 472/9000) /content/1.mp4: 384x640 (no detections), 11.5ms\n",
            "video 1/1 (frame 473/9000) /content/1.mp4: 384x640 (no detections), 6.9ms\n",
            "video 1/1 (frame 474/9000) /content/1.mp4: 384x640 (no detections), 7.1ms\n",
            "video 1/1 (frame 475/9000) /content/1.mp4: 384x640 (no detections), 7.2ms\n",
            "video 1/1 (frame 476/9000) /content/1.mp4: 384x640 (no detections), 7.3ms\n",
            "video 1/1 (frame 477/9000) /content/1.mp4: 384x640 (no detections), 7.1ms\n",
            "video 1/1 (frame 478/9000) /content/1.mp4: 384x640 (no detections), 7.1ms\n",
            "video 1/1 (frame 479/9000) /content/1.mp4: 384x640 (no detections), 6.9ms\n",
            "video 1/1 (frame 480/9000) /content/1.mp4: 384x640 (no detections), 9.3ms\n",
            "video 1/1 (frame 481/9000) /content/1.mp4: 384x640 (no detections), 7.2ms\n",
            "video 1/1 (frame 482/9000) /content/1.mp4: 384x640 (no detections), 15.1ms\n",
            "video 1/1 (frame 483/9000) /content/1.mp4: 384x640 (no detections), 6.9ms\n",
            "video 1/1 (frame 484/9000) /content/1.mp4: 384x640 (no detections), 10.2ms\n",
            "video 1/1 (frame 485/9000) /content/1.mp4: 384x640 (no detections), 7.5ms\n",
            "video 1/1 (frame 486/9000) /content/1.mp4: 384x640 (no detections), 8.9ms\n",
            "video 1/1 (frame 487/9000) /content/1.mp4: 384x640 (no detections), 6.8ms\n",
            "video 1/1 (frame 488/9000) /content/1.mp4: 384x640 (no detections), 8.6ms\n",
            "video 1/1 (frame 489/9000) /content/1.mp4: 384x640 (no detections), 7.0ms\n",
            "video 1/1 (frame 490/9000) /content/1.mp4: 384x640 (no detections), 9.3ms\n",
            "video 1/1 (frame 491/9000) /content/1.mp4: 384x640 (no detections), 7.0ms\n",
            "video 1/1 (frame 492/9000) /content/1.mp4: 384x640 (no detections), 16.3ms\n",
            "video 1/1 (frame 493/9000) /content/1.mp4: 384x640 (no detections), 6.9ms\n",
            "video 1/1 (frame 494/9000) /content/1.mp4: 384x640 (no detections), 8.9ms\n",
            "video 1/1 (frame 495/9000) /content/1.mp4: 384x640 (no detections), 6.9ms\n",
            "video 1/1 (frame 496/9000) /content/1.mp4: 384x640 (no detections), 8.7ms\n",
            "video 1/1 (frame 497/9000) /content/1.mp4: 384x640 (no detections), 6.9ms\n",
            "video 1/1 (frame 498/9000) /content/1.mp4: 384x640 (no detections), 7.1ms\n",
            "video 1/1 (frame 499/9000) /content/1.mp4: 384x640 (no detections), 7.0ms\n",
            "video 1/1 (frame 500/9000) /content/1.mp4: 384x640 (no detections), 9.2ms\n",
            "video 1/1 (frame 501/9000) /content/1.mp4: 384x640 (no detections), 7.2ms\n",
            "video 1/1 (frame 502/9000) /content/1.mp4: 384x640 (no detections), 7.3ms\n",
            "video 1/1 (frame 503/9000) /content/1.mp4: 384x640 1 with_mask, 8.5ms\n",
            "video 1/1 (frame 504/9000) /content/1.mp4: 384x640 1 with_mask, 8.5ms\n",
            "video 1/1 (frame 505/9000) /content/1.mp4: 384x640 (no detections), 7.6ms\n",
            "video 1/1 (frame 506/9000) /content/1.mp4: 384x640 (no detections), 7.8ms\n",
            "video 1/1 (frame 507/9000) /content/1.mp4: 384x640 (no detections), 6.9ms\n",
            "video 1/1 (frame 508/9000) /content/1.mp4: 384x640 (no detections), 10.5ms\n",
            "video 1/1 (frame 509/9000) /content/1.mp4: 384x640 (no detections), 7.2ms\n",
            "video 1/1 (frame 510/9000) /content/1.mp4: 384x640 (no detections), 10.0ms\n",
            "video 1/1 (frame 511/9000) /content/1.mp4: 384x640 (no detections), 8.6ms\n",
            "video 1/1 (frame 512/9000) /content/1.mp4: 384x640 (no detections), 8.6ms\n",
            "video 1/1 (frame 513/9000) /content/1.mp4: 384x640 (no detections), 7.1ms\n",
            "video 1/1 (frame 514/9000) /content/1.mp4: 384x640 (no detections), 8.3ms\n",
            "video 1/1 (frame 515/9000) /content/1.mp4: 384x640 (no detections), 7.0ms\n",
            "video 1/1 (frame 516/9000) /content/1.mp4: 384x640 (no detections), 8.9ms\n",
            "video 1/1 (frame 517/9000) /content/1.mp4: 384x640 (no detections), 7.0ms\n",
            "video 1/1 (frame 518/9000) /content/1.mp4: 384x640 (no detections), 8.6ms\n",
            "video 1/1 (frame 519/9000) /content/1.mp4: 384x640 (no detections), 8.1ms\n",
            "video 1/1 (frame 520/9000) /content/1.mp4: 384x640 (no detections), 9.2ms\n",
            "video 1/1 (frame 521/9000) /content/1.mp4: 384x640 (no detections), 8.0ms\n",
            "video 1/1 (frame 522/9000) /content/1.mp4: 384x640 (no detections), 7.4ms\n",
            "video 1/1 (frame 523/9000) /content/1.mp4: 384x640 (no detections), 8.8ms\n",
            "video 1/1 (frame 524/9000) /content/1.mp4: 384x640 (no detections), 8.4ms\n",
            "video 1/1 (frame 525/9000) /content/1.mp4: 384x640 (no detections), 7.0ms\n",
            "video 1/1 (frame 526/9000) /content/1.mp4: 384x640 (no detections), 9.9ms\n",
            "video 1/1 (frame 527/9000) /content/1.mp4: 384x640 (no detections), 7.2ms\n",
            "video 1/1 (frame 528/9000) /content/1.mp4: 384x640 (no detections), 7.0ms\n",
            "video 1/1 (frame 529/9000) /content/1.mp4: 384x640 (no detections), 7.2ms\n",
            "video 1/1 (frame 530/9000) /content/1.mp4: 384x640 (no detections), 7.0ms\n",
            "video 1/1 (frame 531/9000) /content/1.mp4: 384x640 (no detections), 7.2ms\n",
            "video 1/1 (frame 532/9000) /content/1.mp4: 384x640 (no detections), 7.3ms\n",
            "video 1/1 (frame 533/9000) /content/1.mp4: 384x640 (no detections), 6.9ms\n",
            "video 1/1 (frame 534/9000) /content/1.mp4: 384x640 (no detections), 8.4ms\n",
            "video 1/1 (frame 535/9000) /content/1.mp4: 384x640 (no detections), 11.6ms\n",
            "video 1/1 (frame 536/9000) /content/1.mp4: 384x640 (no detections), 7.1ms\n",
            "video 1/1 (frame 537/9000) /content/1.mp4: 384x640 (no detections), 7.2ms\n",
            "video 1/1 (frame 538/9000) /content/1.mp4: 384x640 (no detections), 7.1ms\n",
            "video 1/1 (frame 539/9000) /content/1.mp4: 384x640 (no detections), 6.8ms\n",
            "video 1/1 (frame 540/9000) /content/1.mp4: 384x640 (no detections), 9.2ms\n",
            "video 1/1 (frame 541/9000) /content/1.mp4: 384x640 (no detections), 7.3ms\n",
            "video 1/1 (frame 542/9000) /content/1.mp4: 384x640 (no detections), 8.9ms\n",
            "video 1/1 (frame 543/9000) /content/1.mp4: 384x640 (no detections), 7.2ms\n",
            "video 1/1 (frame 544/9000) /content/1.mp4: 384x640 (no detections), 7.2ms\n",
            "video 1/1 (frame 545/9000) /content/1.mp4: 384x640 (no detections), 7.0ms\n",
            "video 1/1 (frame 546/9000) /content/1.mp4: 384x640 (no detections), 7.7ms\n",
            "video 1/1 (frame 547/9000) /content/1.mp4: 384x640 (no detections), 7.0ms\n",
            "video 1/1 (frame 548/9000) /content/1.mp4: 384x640 (no detections), 7.5ms\n",
            "video 1/1 (frame 549/9000) /content/1.mp4: 384x640 (no detections), 10.3ms\n",
            "video 1/1 (frame 550/9000) /content/1.mp4: 384x640 (no detections), 7.0ms\n",
            "video 1/1 (frame 551/9000) /content/1.mp4: 384x640 (no detections), 7.3ms\n",
            "video 1/1 (frame 552/9000) /content/1.mp4: 384x640 (no detections), 7.1ms\n",
            "video 1/1 (frame 553/9000) /content/1.mp4: 384x640 (no detections), 10.0ms\n",
            "video 1/1 (frame 554/9000) /content/1.mp4: 384x640 (no detections), 7.3ms\n",
            "video 1/1 (frame 555/9000) /content/1.mp4: 384x640 (no detections), 9.9ms\n",
            "video 1/1 (frame 556/9000) /content/1.mp4: 384x640 (no detections), 7.2ms\n",
            "video 1/1 (frame 557/9000) /content/1.mp4: 384x640 (no detections), 12.1ms\n",
            "video 1/1 (frame 558/9000) /content/1.mp4: 384x640 (no detections), 8.7ms\n",
            "video 1/1 (frame 559/9000) /content/1.mp4: 384x640 (no detections), 7.1ms\n",
            "video 1/1 (frame 560/9000) /content/1.mp4: 384x640 (no detections), 7.9ms\n",
            "video 1/1 (frame 561/9000) /content/1.mp4: 384x640 (no detections), 6.9ms\n",
            "video 1/1 (frame 562/9000) /content/1.mp4: 384x640 (no detections), 10.3ms\n",
            "video 1/1 (frame 563/9000) /content/1.mp4: 384x640 (no detections), 8.3ms\n",
            "video 1/1 (frame 564/9000) /content/1.mp4: 384x640 (no detections), 7.9ms\n",
            "video 1/1 (frame 565/9000) /content/1.mp4: 384x640 (no detections), 8.3ms\n",
            "video 1/1 (frame 566/9000) /content/1.mp4: 384x640 (no detections), 7.6ms\n",
            "video 1/1 (frame 567/9000) /content/1.mp4: 384x640 (no detections), 9.2ms\n",
            "video 1/1 (frame 568/9000) /content/1.mp4: 384x640 (no detections), 7.3ms\n",
            "video 1/1 (frame 569/9000) /content/1.mp4: 384x640 (no detections), 7.3ms\n",
            "video 1/1 (frame 570/9000) /content/1.mp4: 384x640 (no detections), 9.3ms\n",
            "video 1/1 (frame 571/9000) /content/1.mp4: 384x640 (no detections), 7.0ms\n",
            "video 1/1 (frame 572/9000) /content/1.mp4: 384x640 (no detections), 7.0ms\n",
            "video 1/1 (frame 573/9000) /content/1.mp4: 384x640 (no detections), 10.4ms\n",
            "video 1/1 (frame 574/9000) /content/1.mp4: 384x640 (no detections), 7.1ms\n",
            "video 1/1 (frame 575/9000) /content/1.mp4: 384x640 (no detections), 8.9ms\n",
            "video 1/1 (frame 576/9000) /content/1.mp4: 384x640 (no detections), 7.2ms\n",
            "video 1/1 (frame 577/9000) /content/1.mp4: 384x640 (no detections), 6.9ms\n",
            "video 1/1 (frame 578/9000) /content/1.mp4: 384x640 (no detections), 7.3ms\n",
            "video 1/1 (frame 579/9000) /content/1.mp4: 384x640 (no detections), 14.8ms\n",
            "video 1/1 (frame 580/9000) /content/1.mp4: 384x640 (no detections), 17.3ms\n",
            "video 1/1 (frame 581/9000) /content/1.mp4: 384x640 (no detections), 7.0ms\n",
            "video 1/1 (frame 582/9000) /content/1.mp4: 384x640 (no detections), 6.8ms\n",
            "video 1/1 (frame 583/9000) /content/1.mp4: 384x640 (no detections), 7.1ms\n",
            "video 1/1 (frame 584/9000) /content/1.mp4: 384x640 (no detections), 7.6ms\n",
            "video 1/1 (frame 585/9000) /content/1.mp4: 384x640 (no detections), 7.2ms\n",
            "video 1/1 (frame 586/9000) /content/1.mp4: 384x640 (no detections), 7.1ms\n",
            "video 1/1 (frame 587/9000) /content/1.mp4: 384x640 (no detections), 7.0ms\n",
            "video 1/1 (frame 588/9000) /content/1.mp4: 384x640 (no detections), 7.0ms\n",
            "video 1/1 (frame 589/9000) /content/1.mp4: 384x640 (no detections), 7.5ms\n",
            "video 1/1 (frame 590/9000) /content/1.mp4: 384x640 (no detections), 8.5ms\n",
            "video 1/1 (frame 591/9000) /content/1.mp4: 384x640 (no detections), 7.1ms\n",
            "video 1/1 (frame 592/9000) /content/1.mp4: 384x640 (no detections), 7.4ms\n",
            "video 1/1 (frame 593/9000) /content/1.mp4: 384x640 (no detections), 7.2ms\n",
            "video 1/1 (frame 594/9000) /content/1.mp4: 384x640 (no detections), 14.2ms\n",
            "video 1/1 (frame 595/9000) /content/1.mp4: 384x640 (no detections), 12.3ms\n",
            "video 1/1 (frame 596/9000) /content/1.mp4: 384x640 (no detections), 14.9ms\n",
            "video 1/1 (frame 597/9000) /content/1.mp4: 384x640 (no detections), 9.0ms\n",
            "video 1/1 (frame 598/9000) /content/1.mp4: 384x640 (no detections), 15.5ms\n",
            "video 1/1 (frame 599/9000) /content/1.mp4: 384x640 (no detections), 13.6ms\n",
            "video 1/1 (frame 600/9000) /content/1.mp4: 384x640 (no detections), 16.4ms\n",
            "video 1/1 (frame 601/9000) /content/1.mp4: 384x640 (no detections), 8.5ms\n",
            "video 1/1 (frame 602/9000) /content/1.mp4: 384x640 (no detections), 10.2ms\n",
            "video 1/1 (frame 603/9000) /content/1.mp4: 384x640 (no detections), 9.1ms\n",
            "video 1/1 (frame 604/9000) /content/1.mp4: 384x640 (no detections), 8.9ms\n",
            "video 1/1 (frame 605/9000) /content/1.mp4: 384x640 (no detections), 9.1ms\n",
            "video 1/1 (frame 606/9000) /content/1.mp4: 384x640 (no detections), 8.9ms\n",
            "video 1/1 (frame 607/9000) /content/1.mp4: 384x640 (no detections), 9.9ms\n",
            "video 1/1 (frame 608/9000) /content/1.mp4: 384x640 (no detections), 9.0ms\n",
            "video 1/1 (frame 609/9000) /content/1.mp4: 384x640 (no detections), 10.1ms\n",
            "video 1/1 (frame 610/9000) /content/1.mp4: 384x640 (no detections), 9.1ms\n",
            "video 1/1 (frame 611/9000) /content/1.mp4: 384x640 (no detections), 8.9ms\n",
            "video 1/1 (frame 612/9000) /content/1.mp4: 384x640 (no detections), 9.5ms\n",
            "video 1/1 (frame 613/9000) /content/1.mp4: 384x640 (no detections), 13.4ms\n",
            "video 1/1 (frame 614/9000) /content/1.mp4: 384x640 (no detections), 12.9ms\n",
            "video 1/1 (frame 615/9000) /content/1.mp4: 384x640 (no detections), 9.1ms\n",
            "video 1/1 (frame 616/9000) /content/1.mp4: 384x640 (no detections), 9.2ms\n",
            "video 1/1 (frame 617/9000) /content/1.mp4: 384x640 (no detections), 8.9ms\n",
            "video 1/1 (frame 618/9000) /content/1.mp4: 384x640 (no detections), 9.7ms\n",
            "video 1/1 (frame 619/9000) /content/1.mp4: 384x640 (no detections), 10.3ms\n",
            "video 1/1 (frame 620/9000) /content/1.mp4: 384x640 (no detections), 10.9ms\n",
            "video 1/1 (frame 621/9000) /content/1.mp4: 384x640 (no detections), 14.6ms\n",
            "video 1/1 (frame 622/9000) /content/1.mp4: 384x640 (no detections), 13.7ms\n",
            "video 1/1 (frame 623/9000) /content/1.mp4: 384x640 (no detections), 8.9ms\n",
            "video 1/1 (frame 624/9000) /content/1.mp4: 384x640 (no detections), 9.1ms\n",
            "video 1/1 (frame 625/9000) /content/1.mp4: 384x640 (no detections), 12.1ms\n",
            "video 1/1 (frame 626/9000) /content/1.mp4: 384x640 (no detections), 10.6ms\n",
            "video 1/1 (frame 627/9000) /content/1.mp4: 384x640 (no detections), 12.0ms\n",
            "video 1/1 (frame 628/9000) /content/1.mp4: 384x640 (no detections), 9.6ms\n",
            "video 1/1 (frame 629/9000) /content/1.mp4: 384x640 (no detections), 14.3ms\n",
            "video 1/1 (frame 630/9000) /content/1.mp4: 384x640 (no detections), 12.9ms\n",
            "video 1/1 (frame 631/9000) /content/1.mp4: 384x640 (no detections), 13.9ms\n",
            "video 1/1 (frame 632/9000) /content/1.mp4: 384x640 (no detections), 7.0ms\n",
            "video 1/1 (frame 633/9000) /content/1.mp4: 384x640 (no detections), 7.2ms\n",
            "video 1/1 (frame 634/9000) /content/1.mp4: 384x640 (no detections), 6.9ms\n",
            "video 1/1 (frame 635/9000) /content/1.mp4: 384x640 (no detections), 9.2ms\n",
            "video 1/1 (frame 636/9000) /content/1.mp4: 384x640 (no detections), 7.3ms\n",
            "video 1/1 (frame 637/9000) /content/1.mp4: 384x640 (no detections), 7.1ms\n",
            "video 1/1 (frame 638/9000) /content/1.mp4: 384x640 (no detections), 7.2ms\n",
            "video 1/1 (frame 639/9000) /content/1.mp4: 384x640 (no detections), 7.0ms\n",
            "video 1/1 (frame 640/9000) /content/1.mp4: 384x640 (no detections), 7.0ms\n",
            "video 1/1 (frame 641/9000) /content/1.mp4: 384x640 (no detections), 7.1ms\n",
            "video 1/1 (frame 642/9000) /content/1.mp4: 384x640 (no detections), 6.8ms\n",
            "video 1/1 (frame 643/9000) /content/1.mp4: 384x640 (no detections), 8.5ms\n",
            "video 1/1 (frame 644/9000) /content/1.mp4: 384x640 (no detections), 6.9ms\n",
            "video 1/1 (frame 645/9000) /content/1.mp4: 384x640 (no detections), 6.9ms\n",
            "video 1/1 (frame 646/9000) /content/1.mp4: 384x640 (no detections), 6.9ms\n",
            "video 1/1 (frame 647/9000) /content/1.mp4: 384x640 (no detections), 6.9ms\n",
            "video 1/1 (frame 648/9000) /content/1.mp4: 384x640 (no detections), 6.9ms\n",
            "video 1/1 (frame 649/9000) /content/1.mp4: 384x640 (no detections), 7.3ms\n",
            "video 1/1 (frame 650/9000) /content/1.mp4: 384x640 (no detections), 7.0ms\n",
            "video 1/1 (frame 651/9000) /content/1.mp4: 384x640 (no detections), 11.3ms\n",
            "video 1/1 (frame 652/9000) /content/1.mp4: 384x640 (no detections), 8.4ms\n",
            "video 1/1 (frame 653/9000) /content/1.mp4: 384x640 (no detections), 7.0ms\n",
            "video 1/1 (frame 654/9000) /content/1.mp4: 384x640 (no detections), 7.5ms\n",
            "video 1/1 (frame 655/9000) /content/1.mp4: 384x640 (no detections), 8.2ms\n",
            "video 1/1 (frame 656/9000) /content/1.mp4: 384x640 (no detections), 7.2ms\n",
            "video 1/1 (frame 657/9000) /content/1.mp4: 384x640 (no detections), 10.4ms\n",
            "video 1/1 (frame 658/9000) /content/1.mp4: 384x640 (no detections), 6.7ms\n",
            "video 1/1 (frame 659/9000) /content/1.mp4: 384x640 (no detections), 6.9ms\n",
            "video 1/1 (frame 660/9000) /content/1.mp4: 384x640 (no detections), 11.4ms\n",
            "video 1/1 (frame 661/9000) /content/1.mp4: 384x640 (no detections), 7.5ms\n",
            "video 1/1 (frame 662/9000) /content/1.mp4: 384x640 (no detections), 7.2ms\n",
            "video 1/1 (frame 663/9000) /content/1.mp4: 384x640 (no detections), 7.3ms\n",
            "video 1/1 (frame 664/9000) /content/1.mp4: 384x640 (no detections), 7.1ms\n",
            "video 1/1 (frame 665/9000) /content/1.mp4: 384x640 (no detections), 6.9ms\n",
            "video 1/1 (frame 666/9000) /content/1.mp4: 384x640 (no detections), 7.1ms\n",
            "video 1/1 (frame 667/9000) /content/1.mp4: 384x640 (no detections), 7.3ms\n",
            "video 1/1 (frame 668/9000) /content/1.mp4: 384x640 (no detections), 7.1ms\n",
            "video 1/1 (frame 669/9000) /content/1.mp4: 384x640 (no detections), 7.6ms\n",
            "video 1/1 (frame 670/9000) /content/1.mp4: 384x640 (no detections), 7.0ms\n",
            "video 1/1 (frame 671/9000) /content/1.mp4: 384x640 (no detections), 12.5ms\n",
            "video 1/1 (frame 672/9000) /content/1.mp4: 384x640 (no detections), 7.1ms\n",
            "video 1/1 (frame 673/9000) /content/1.mp4: 384x640 (no detections), 7.0ms\n",
            "video 1/1 (frame 674/9000) /content/1.mp4: 384x640 (no detections), 7.9ms\n",
            "video 1/1 (frame 675/9000) /content/1.mp4: 384x640 (no detections), 7.0ms\n",
            "video 1/1 (frame 676/9000) /content/1.mp4: 384x640 (no detections), 7.2ms\n",
            "video 1/1 (frame 677/9000) /content/1.mp4: 384x640 (no detections), 9.9ms\n",
            "video 1/1 (frame 678/9000) /content/1.mp4: 384x640 (no detections), 7.2ms\n",
            "video 1/1 (frame 679/9000) /content/1.mp4: 384x640 (no detections), 7.1ms\n",
            "video 1/1 (frame 680/9000) /content/1.mp4: 384x640 (no detections), 9.6ms\n",
            "video 1/1 (frame 681/9000) /content/1.mp4: 384x640 (no detections), 6.8ms\n",
            "video 1/1 (frame 682/9000) /content/1.mp4: 384x640 (no detections), 9.1ms\n",
            "video 1/1 (frame 683/9000) /content/1.mp4: 384x640 (no detections), 8.7ms\n",
            "video 1/1 (frame 684/9000) /content/1.mp4: 384x640 (no detections), 7.6ms\n",
            "video 1/1 (frame 685/9000) /content/1.mp4: 384x640 (no detections), 7.2ms\n",
            "video 1/1 (frame 686/9000) /content/1.mp4: 384x640 (no detections), 6.8ms\n",
            "video 1/1 (frame 687/9000) /content/1.mp4: 384x640 (no detections), 7.5ms\n",
            "video 1/1 (frame 688/9000) /content/1.mp4: 384x640 (no detections), 6.7ms\n",
            "video 1/1 (frame 689/9000) /content/1.mp4: 384x640 (no detections), 7.4ms\n",
            "video 1/1 (frame 690/9000) /content/1.mp4: 384x640 (no detections), 9.3ms\n",
            "video 1/1 (frame 691/9000) /content/1.mp4: 384x640 (no detections), 8.0ms\n",
            "video 1/1 (frame 692/9000) /content/1.mp4: 384x640 (no detections), 7.4ms\n",
            "video 1/1 (frame 693/9000) /content/1.mp4: 384x640 (no detections), 7.2ms\n",
            "video 1/1 (frame 694/9000) /content/1.mp4: 384x640 (no detections), 6.6ms\n",
            "video 1/1 (frame 695/9000) /content/1.mp4: 384x640 (no detections), 8.6ms\n",
            "video 1/1 (frame 696/9000) /content/1.mp4: 384x640 (no detections), 7.0ms\n",
            "video 1/1 (frame 697/9000) /content/1.mp4: 384x640 (no detections), 9.6ms\n",
            "video 1/1 (frame 698/9000) /content/1.mp4: 384x640 (no detections), 7.0ms\n",
            "video 1/1 (frame 699/9000) /content/1.mp4: 384x640 (no detections), 7.1ms\n",
            "video 1/1 (frame 700/9000) /content/1.mp4: 384x640 (no detections), 7.0ms\n",
            "video 1/1 (frame 701/9000) /content/1.mp4: 384x640 (no detections), 8.5ms\n",
            "video 1/1 (frame 702/9000) /content/1.mp4: 384x640 (no detections), 8.8ms\n",
            "video 1/1 (frame 703/9000) /content/1.mp4: 384x640 (no detections), 7.5ms\n",
            "video 1/1 (frame 704/9000) /content/1.mp4: 384x640 (no detections), 7.8ms\n",
            "video 1/1 (frame 705/9000) /content/1.mp4: 384x640 (no detections), 7.1ms\n",
            "video 1/1 (frame 706/9000) /content/1.mp4: 384x640 (no detections), 8.8ms\n",
            "video 1/1 (frame 707/9000) /content/1.mp4: 384x640 (no detections), 6.8ms\n",
            "video 1/1 (frame 708/9000) /content/1.mp4: 384x640 (no detections), 8.5ms\n",
            "video 1/1 (frame 709/9000) /content/1.mp4: 384x640 (no detections), 6.9ms\n",
            "video 1/1 (frame 710/9000) /content/1.mp4: 384x640 (no detections), 8.3ms\n",
            "video 1/1 (frame 711/9000) /content/1.mp4: 384x640 (no detections), 7.6ms\n",
            "video 1/1 (frame 712/9000) /content/1.mp4: 384x640 (no detections), 9.6ms\n",
            "video 1/1 (frame 713/9000) /content/1.mp4: 384x640 (no detections), 12.9ms\n",
            "video 1/1 (frame 714/9000) /content/1.mp4: 384x640 (no detections), 8.9ms\n",
            "video 1/1 (frame 715/9000) /content/1.mp4: 384x640 (no detections), 6.7ms\n",
            "video 1/1 (frame 716/9000) /content/1.mp4: 384x640 (no detections), 8.5ms\n",
            "video 1/1 (frame 717/9000) /content/1.mp4: 384x640 (no detections), 7.0ms\n",
            "video 1/1 (frame 718/9000) /content/1.mp4: 384x640 (no detections), 6.9ms\n",
            "video 1/1 (frame 719/9000) /content/1.mp4: 384x640 (no detections), 7.1ms\n",
            "video 1/1 (frame 720/9000) /content/1.mp4: 384x640 (no detections), 10.8ms\n",
            "video 1/1 (frame 721/9000) /content/1.mp4: 384x640 (no detections), 7.0ms\n",
            "video 1/1 (frame 722/9000) /content/1.mp4: 384x640 (no detections), 7.6ms\n",
            "video 1/1 (frame 723/9000) /content/1.mp4: 384x640 (no detections), 6.8ms\n",
            "video 1/1 (frame 724/9000) /content/1.mp4: 384x640 (no detections), 9.4ms\n",
            "video 1/1 (frame 725/9000) /content/1.mp4: 384x640 (no detections), 7.3ms\n",
            "video 1/1 (frame 726/9000) /content/1.mp4: 384x640 (no detections), 7.1ms\n",
            "video 1/1 (frame 727/9000) /content/1.mp4: 384x640 (no detections), 7.1ms\n",
            "video 1/1 (frame 728/9000) /content/1.mp4: 384x640 (no detections), 7.2ms\n",
            "video 1/1 (frame 729/9000) /content/1.mp4: 384x640 (no detections), 7.5ms\n",
            "video 1/1 (frame 730/9000) /content/1.mp4: 384x640 (no detections), 7.4ms\n",
            "video 1/1 (frame 731/9000) /content/1.mp4: 384x640 (no detections), 6.9ms\n",
            "video 1/1 (frame 732/9000) /content/1.mp4: 384x640 (no detections), 7.2ms\n",
            "video 1/1 (frame 733/9000) /content/1.mp4: 384x640 (no detections), 7.0ms\n",
            "video 1/1 (frame 734/9000) /content/1.mp4: 384x640 (no detections), 7.6ms\n",
            "video 1/1 (frame 735/9000) /content/1.mp4: 384x640 (no detections), 7.4ms\n",
            "video 1/1 (frame 736/9000) /content/1.mp4: 384x640 (no detections), 7.7ms\n",
            "video 1/1 (frame 737/9000) /content/1.mp4: 384x640 (no detections), 9.9ms\n",
            "video 1/1 (frame 738/9000) /content/1.mp4: 384x640 (no detections), 7.0ms\n",
            "video 1/1 (frame 739/9000) /content/1.mp4: 384x640 (no detections), 6.7ms\n",
            "video 1/1 (frame 740/9000) /content/1.mp4: 384x640 (no detections), 6.9ms\n",
            "video 1/1 (frame 741/9000) /content/1.mp4: 384x640 (no detections), 7.0ms\n",
            "video 1/1 (frame 742/9000) /content/1.mp4: 384x640 (no detections), 6.8ms\n",
            "video 1/1 (frame 743/9000) /content/1.mp4: 384x640 (no detections), 7.4ms\n",
            "video 1/1 (frame 744/9000) /content/1.mp4: 384x640 (no detections), 7.1ms\n",
            "video 1/1 (frame 745/9000) /content/1.mp4: 384x640 (no detections), 8.0ms\n",
            "video 1/1 (frame 746/9000) /content/1.mp4: 384x640 (no detections), 6.8ms\n",
            "video 1/1 (frame 747/9000) /content/1.mp4: 384x640 (no detections), 7.1ms\n",
            "video 1/1 (frame 748/9000) /content/1.mp4: 384x640 (no detections), 7.3ms\n",
            "video 1/1 (frame 749/9000) /content/1.mp4: 384x640 (no detections), 7.1ms\n",
            "video 1/1 (frame 750/9000) /content/1.mp4: 384x640 (no detections), 9.2ms\n",
            "video 1/1 (frame 751/9000) /content/1.mp4: 384x640 (no detections), 7.7ms\n",
            "video 1/1 (frame 752/9000) /content/1.mp4: 384x640 (no detections), 7.0ms\n",
            "video 1/1 (frame 753/9000) /content/1.mp4: 384x640 (no detections), 9.0ms\n",
            "video 1/1 (frame 754/9000) /content/1.mp4: 384x640 (no detections), 7.2ms\n",
            "video 1/1 (frame 755/9000) /content/1.mp4: 384x640 (no detections), 8.1ms\n",
            "video 1/1 (frame 756/9000) /content/1.mp4: 384x640 (no detections), 7.1ms\n",
            "video 1/1 (frame 757/9000) /content/1.mp4: 384x640 (no detections), 9.7ms\n",
            "video 1/1 (frame 758/9000) /content/1.mp4: 384x640 (no detections), 6.8ms\n",
            "video 1/1 (frame 759/9000) /content/1.mp4: 384x640 (no detections), 9.0ms\n",
            "video 1/1 (frame 760/9000) /content/1.mp4: 384x640 (no detections), 7.1ms\n",
            "video 1/1 (frame 761/9000) /content/1.mp4: 384x640 (no detections), 10.9ms\n",
            "video 1/1 (frame 762/9000) /content/1.mp4: 384x640 (no detections), 7.1ms\n",
            "video 1/1 (frame 763/9000) /content/1.mp4: 384x640 (no detections), 8.6ms\n",
            "video 1/1 (frame 764/9000) /content/1.mp4: 384x640 (no detections), 7.7ms\n",
            "video 1/1 (frame 765/9000) /content/1.mp4: 384x640 (no detections), 8.3ms\n",
            "video 1/1 (frame 766/9000) /content/1.mp4: 384x640 (no detections), 7.2ms\n",
            "video 1/1 (frame 767/9000) /content/1.mp4: 384x640 (no detections), 10.3ms\n",
            "video 1/1 (frame 768/9000) /content/1.mp4: 384x640 (no detections), 7.3ms\n",
            "video 1/1 (frame 769/9000) /content/1.mp4: 384x640 (no detections), 8.5ms\n",
            "video 1/1 (frame 770/9000) /content/1.mp4: 384x640 (no detections), 7.9ms\n",
            "video 1/1 (frame 771/9000) /content/1.mp4: 384x640 (no detections), 7.4ms\n",
            "video 1/1 (frame 772/9000) /content/1.mp4: 384x640 (no detections), 7.9ms\n",
            "video 1/1 (frame 773/9000) /content/1.mp4: 384x640 (no detections), 7.0ms\n",
            "video 1/1 (frame 774/9000) /content/1.mp4: 384x640 (no detections), 7.1ms\n",
            "video 1/1 (frame 775/9000) /content/1.mp4: 384x640 (no detections), 7.2ms\n",
            "video 1/1 (frame 776/9000) /content/1.mp4: 384x640 (no detections), 7.1ms\n",
            "video 1/1 (frame 777/9000) /content/1.mp4: 384x640 (no detections), 7.4ms\n",
            "video 1/1 (frame 778/9000) /content/1.mp4: 384x640 (no detections), 12.8ms\n",
            "video 1/1 (frame 779/9000) /content/1.mp4: 384x640 (no detections), 11.6ms\n",
            "video 1/1 (frame 780/9000) /content/1.mp4: 384x640 (no detections), 17.4ms\n",
            "video 1/1 (frame 781/9000) /content/1.mp4: 384x640 (no detections), 6.8ms\n",
            "video 1/1 (frame 782/9000) /content/1.mp4: 384x640 (no detections), 16.6ms\n",
            "video 1/1 (frame 783/9000) /content/1.mp4: 384x640 (no detections), 8.2ms\n",
            "video 1/1 (frame 784/9000) /content/1.mp4: 384x640 (no detections), 8.5ms\n",
            "video 1/1 (frame 785/9000) /content/1.mp4: 384x640 (no detections), 8.8ms\n",
            "video 1/1 (frame 786/9000) /content/1.mp4: 384x640 (no detections), 7.3ms\n",
            "video 1/1 (frame 787/9000) /content/1.mp4: 384x640 (no detections), 8.4ms\n",
            "video 1/1 (frame 788/9000) /content/1.mp4: 384x640 (no detections), 7.4ms\n",
            "video 1/1 (frame 789/9000) /content/1.mp4: 384x640 (no detections), 7.0ms\n",
            "video 1/1 (frame 790/9000) /content/1.mp4: 384x640 (no detections), 7.5ms\n",
            "video 1/1 (frame 791/9000) /content/1.mp4: 384x640 (no detections), 7.0ms\n",
            "video 1/1 (frame 792/9000) /content/1.mp4: 384x640 (no detections), 7.2ms\n",
            "video 1/1 (frame 793/9000) /content/1.mp4: 384x640 (no detections), 7.6ms\n",
            "video 1/1 (frame 794/9000) /content/1.mp4: 384x640 (no detections), 7.1ms\n",
            "video 1/1 (frame 795/9000) /content/1.mp4: 384x640 (no detections), 7.7ms\n",
            "video 1/1 (frame 796/9000) /content/1.mp4: 384x640 (no detections), 10.1ms\n",
            "video 1/1 (frame 797/9000) /content/1.mp4: 384x640 (no detections), 8.1ms\n",
            "video 1/1 (frame 798/9000) /content/1.mp4: 384x640 (no detections), 8.6ms\n",
            "video 1/1 (frame 799/9000) /content/1.mp4: 384x640 (no detections), 7.2ms\n",
            "video 1/1 (frame 800/9000) /content/1.mp4: 384x640 (no detections), 9.2ms\n",
            "video 1/1 (frame 801/9000) /content/1.mp4: 384x640 (no detections), 10.5ms\n",
            "video 1/1 (frame 802/9000) /content/1.mp4: 384x640 (no detections), 8.7ms\n",
            "video 1/1 (frame 803/9000) /content/1.mp4: 384x640 (no detections), 8.5ms\n",
            "video 1/1 (frame 804/9000) /content/1.mp4: 384x640 (no detections), 11.0ms\n",
            "video 1/1 (frame 805/9000) /content/1.mp4: 384x640 (no detections), 8.3ms\n",
            "video 1/1 (frame 806/9000) /content/1.mp4: 384x640 (no detections), 7.4ms\n",
            "video 1/1 (frame 807/9000) /content/1.mp4: 384x640 (no detections), 10.0ms\n",
            "video 1/1 (frame 808/9000) /content/1.mp4: 384x640 (no detections), 7.4ms\n",
            "video 1/1 (frame 809/9000) /content/1.mp4: 384x640 (no detections), 8.9ms\n",
            "video 1/1 (frame 810/9000) /content/1.mp4: 384x640 (no detections), 9.4ms\n",
            "video 1/1 (frame 811/9000) /content/1.mp4: 384x640 (no detections), 8.5ms\n",
            "video 1/1 (frame 812/9000) /content/1.mp4: 384x640 (no detections), 7.4ms\n",
            "video 1/1 (frame 813/9000) /content/1.mp4: 384x640 (no detections), 9.2ms\n",
            "video 1/1 (frame 814/9000) /content/1.mp4: 384x640 (no detections), 10.1ms\n",
            "video 1/1 (frame 815/9000) /content/1.mp4: 384x640 (no detections), 8.2ms\n",
            "video 1/1 (frame 816/9000) /content/1.mp4: 384x640 (no detections), 7.0ms\n",
            "video 1/1 (frame 817/9000) /content/1.mp4: 384x640 (no detections), 8.6ms\n",
            "video 1/1 (frame 818/9000) /content/1.mp4: 384x640 (no detections), 7.1ms\n",
            "video 1/1 (frame 819/9000) /content/1.mp4: 384x640 (no detections), 8.7ms\n",
            "video 1/1 (frame 820/9000) /content/1.mp4: 384x640 (no detections), 14.8ms\n",
            "video 1/1 (frame 821/9000) /content/1.mp4: 384x640 (no detections), 8.9ms\n",
            "video 1/1 (frame 822/9000) /content/1.mp4: 384x640 (no detections), 7.3ms\n",
            "video 1/1 (frame 823/9000) /content/1.mp4: 384x640 (no detections), 6.8ms\n",
            "video 1/1 (frame 824/9000) /content/1.mp4: 384x640 (no detections), 7.8ms\n",
            "video 1/1 (frame 825/9000) /content/1.mp4: 384x640 (no detections), 7.2ms\n",
            "video 1/1 (frame 826/9000) /content/1.mp4: 384x640 (no detections), 9.3ms\n",
            "video 1/1 (frame 827/9000) /content/1.mp4: 384x640 (no detections), 8.0ms\n",
            "video 1/1 (frame 828/9000) /content/1.mp4: 384x640 (no detections), 7.2ms\n",
            "video 1/1 (frame 829/9000) /content/1.mp4: 384x640 (no detections), 7.0ms\n",
            "video 1/1 (frame 830/9000) /content/1.mp4: 384x640 (no detections), 8.0ms\n",
            "video 1/1 (frame 831/9000) /content/1.mp4: 384x640 (no detections), 7.3ms\n",
            "video 1/1 (frame 832/9000) /content/1.mp4: 384x640 (no detections), 7.9ms\n",
            "video 1/1 (frame 833/9000) /content/1.mp4: 384x640 (no detections), 7.1ms\n",
            "video 1/1 (frame 834/9000) /content/1.mp4: 384x640 (no detections), 9.4ms\n",
            "video 1/1 (frame 835/9000) /content/1.mp4: 384x640 (no detections), 7.4ms\n",
            "video 1/1 (frame 836/9000) /content/1.mp4: 384x640 (no detections), 7.2ms\n",
            "video 1/1 (frame 837/9000) /content/1.mp4: 384x640 (no detections), 6.9ms\n",
            "video 1/1 (frame 838/9000) /content/1.mp4: 384x640 (no detections), 15.0ms\n",
            "video 1/1 (frame 839/9000) /content/1.mp4: 384x640 (no detections), 11.8ms\n",
            "video 1/1 (frame 840/9000) /content/1.mp4: 384x640 (no detections), 12.7ms\n",
            "video 1/1 (frame 841/9000) /content/1.mp4: 384x640 (no detections), 10.9ms\n",
            "video 1/1 (frame 842/9000) /content/1.mp4: 384x640 (no detections), 14.7ms\n",
            "video 1/1 (frame 843/9000) /content/1.mp4: 384x640 (no detections), 8.9ms\n",
            "video 1/1 (frame 844/9000) /content/1.mp4: 384x640 (no detections), 9.1ms\n",
            "video 1/1 (frame 845/9000) /content/1.mp4: 384x640 (no detections), 9.5ms\n",
            "video 1/1 (frame 846/9000) /content/1.mp4: 384x640 (no detections), 9.1ms\n",
            "video 1/1 (frame 847/9000) /content/1.mp4: 384x640 (no detections), 8.9ms\n",
            "video 1/1 (frame 848/9000) /content/1.mp4: 384x640 (no detections), 8.9ms\n",
            "video 1/1 (frame 849/9000) /content/1.mp4: 384x640 (no detections), 8.9ms\n",
            "video 1/1 (frame 850/9000) /content/1.mp4: 384x640 (no detections), 8.9ms\n",
            "video 1/1 (frame 851/9000) /content/1.mp4: 384x640 (no detections), 13.1ms\n",
            "video 1/1 (frame 852/9000) /content/1.mp4: 384x640 (no detections), 8.8ms\n",
            "video 1/1 (frame 853/9000) /content/1.mp4: 384x640 (no detections), 11.5ms\n",
            "video 1/1 (frame 854/9000) /content/1.mp4: 384x640 (no detections), 9.9ms\n",
            "video 1/1 (frame 855/9000) /content/1.mp4: 384x640 (no detections), 9.7ms\n",
            "video 1/1 (frame 856/9000) /content/1.mp4: 384x640 (no detections), 8.9ms\n",
            "video 1/1 (frame 857/9000) /content/1.mp4: 384x640 (no detections), 8.6ms\n",
            "video 1/1 (frame 858/9000) /content/1.mp4: 384x640 (no detections), 8.6ms\n",
            "video 1/1 (frame 859/9000) /content/1.mp4: 384x640 (no detections), 13.4ms\n",
            "video 1/1 (frame 860/9000) /content/1.mp4: 384x640 (no detections), 11.2ms\n",
            "video 1/1 (frame 861/9000) /content/1.mp4: 384x640 (no detections), 12.2ms\n",
            "video 1/1 (frame 862/9000) /content/1.mp4: 384x640 (no detections), 9.8ms\n",
            "video 1/1 (frame 863/9000) /content/1.mp4: 384x640 (no detections), 9.7ms\n",
            "video 1/1 (frame 864/9000) /content/1.mp4: 384x640 (no detections), 12.5ms\n",
            "video 1/1 (frame 865/9000) /content/1.mp4: 384x640 (no detections), 13.0ms\n",
            "video 1/1 (frame 866/9000) /content/1.mp4: 384x640 (no detections), 14.3ms\n",
            "video 1/1 (frame 867/9000) /content/1.mp4: 384x640 (no detections), 12.0ms\n",
            "video 1/1 (frame 868/9000) /content/1.mp4: 384x640 (no detections), 11.9ms\n",
            "video 1/1 (frame 869/9000) /content/1.mp4: 384x640 (no detections), 9.7ms\n",
            "video 1/1 (frame 870/9000) /content/1.mp4: 384x640 (no detections), 29.7ms\n",
            "video 1/1 (frame 871/9000) /content/1.mp4: 384x640 (no detections), 6.9ms\n",
            "video 1/1 (frame 872/9000) /content/1.mp4: 384x640 (no detections), 7.6ms\n",
            "video 1/1 (frame 873/9000) /content/1.mp4: 384x640 (no detections), 7.1ms\n",
            "video 1/1 (frame 874/9000) /content/1.mp4: 384x640 (no detections), 7.3ms\n",
            "video 1/1 (frame 875/9000) /content/1.mp4: 384x640 (no detections), 10.0ms\n",
            "video 1/1 (frame 876/9000) /content/1.mp4: 384x640 (no detections), 7.3ms\n",
            "video 1/1 (frame 877/9000) /content/1.mp4: 384x640 (no detections), 7.2ms\n",
            "video 1/1 (frame 878/9000) /content/1.mp4: 384x640 (no detections), 7.2ms\n",
            "video 1/1 (frame 879/9000) /content/1.mp4: 384x640 (no detections), 8.6ms\n",
            "video 1/1 (frame 880/9000) /content/1.mp4: 384x640 (no detections), 7.1ms\n",
            "video 1/1 (frame 881/9000) /content/1.mp4: 384x640 (no detections), 10.0ms\n",
            "video 1/1 (frame 882/9000) /content/1.mp4: 384x640 (no detections), 7.2ms\n",
            "video 1/1 (frame 883/9000) /content/1.mp4: 384x640 (no detections), 8.9ms\n",
            "video 1/1 (frame 884/9000) /content/1.mp4: 384x640 (no detections), 7.5ms\n",
            "video 1/1 (frame 885/9000) /content/1.mp4: 384x640 (no detections), 9.2ms\n",
            "video 1/1 (frame 886/9000) /content/1.mp4: 384x640 (no detections), 6.8ms\n",
            "video 1/1 (frame 887/9000) /content/1.mp4: 384x640 (no detections), 7.3ms\n",
            "video 1/1 (frame 888/9000) /content/1.mp4: 384x640 (no detections), 7.0ms\n",
            "video 1/1 (frame 889/9000) /content/1.mp4: 384x640 (no detections), 18.0ms\n",
            "video 1/1 (frame 890/9000) /content/1.mp4: 384x640 (no detections), 10.9ms\n",
            "video 1/1 (frame 891/9000) /content/1.mp4: 384x640 (no detections), 7.2ms\n",
            "video 1/1 (frame 892/9000) /content/1.mp4: 384x640 (no detections), 7.1ms\n",
            "video 1/1 (frame 893/9000) /content/1.mp4: 384x640 (no detections), 8.4ms\n",
            "video 1/1 (frame 894/9000) /content/1.mp4: 384x640 (no detections), 10.8ms\n",
            "video 1/1 (frame 895/9000) /content/1.mp4: 384x640 (no detections), 7.0ms\n",
            "video 1/1 (frame 896/9000) /content/1.mp4: 384x640 (no detections), 9.4ms\n",
            "video 1/1 (frame 897/9000) /content/1.mp4: 384x640 (no detections), 8.3ms\n",
            "video 1/1 (frame 898/9000) /content/1.mp4: 384x640 (no detections), 9.6ms\n",
            "video 1/1 (frame 899/9000) /content/1.mp4: 384x640 (no detections), 7.0ms\n",
            "video 1/1 (frame 900/9000) /content/1.mp4: 384x640 (no detections), 10.8ms\n",
            "video 1/1 (frame 901/9000) /content/1.mp4: 384x640 (no detections), 6.9ms\n",
            "video 1/1 (frame 902/9000) /content/1.mp4: 384x640 (no detections), 9.4ms\n",
            "video 1/1 (frame 903/9000) /content/1.mp4: 384x640 (no detections), 8.5ms\n",
            "video 1/1 (frame 904/9000) /content/1.mp4: 384x640 (no detections), 7.1ms\n",
            "video 1/1 (frame 905/9000) /content/1.mp4: 384x640 (no detections), 8.2ms\n",
            "video 1/1 (frame 906/9000) /content/1.mp4: 384x640 (no detections), 7.4ms\n",
            "video 1/1 (frame 907/9000) /content/1.mp4: 384x640 (no detections), 8.4ms\n",
            "video 1/1 (frame 908/9000) /content/1.mp4: 384x640 (no detections), 7.4ms\n",
            "video 1/1 (frame 909/9000) /content/1.mp4: 384x640 (no detections), 9.5ms\n",
            "video 1/1 (frame 910/9000) /content/1.mp4: 384x640 (no detections), 12.1ms\n",
            "video 1/1 (frame 911/9000) /content/1.mp4: 384x640 (no detections), 7.3ms\n",
            "video 1/1 (frame 912/9000) /content/1.mp4: 384x640 (no detections), 7.8ms\n",
            "video 1/1 (frame 913/9000) /content/1.mp4: 384x640 (no detections), 8.6ms\n",
            "video 1/1 (frame 914/9000) /content/1.mp4: 384x640 (no detections), 7.4ms\n",
            "video 1/1 (frame 915/9000) /content/1.mp4: 384x640 (no detections), 7.1ms\n",
            "video 1/1 (frame 916/9000) /content/1.mp4: 384x640 (no detections), 6.9ms\n",
            "video 1/1 (frame 917/9000) /content/1.mp4: 384x640 (no detections), 10.5ms\n",
            "video 1/1 (frame 918/9000) /content/1.mp4: 384x640 (no detections), 7.0ms\n",
            "video 1/1 (frame 919/9000) /content/1.mp4: 384x640 (no detections), 7.0ms\n",
            "video 1/1 (frame 920/9000) /content/1.mp4: 384x640 (no detections), 7.0ms\n",
            "video 1/1 (frame 921/9000) /content/1.mp4: 384x640 (no detections), 7.2ms\n",
            "video 1/1 (frame 922/9000) /content/1.mp4: 384x640 (no detections), 7.1ms\n",
            "video 1/1 (frame 923/9000) /content/1.mp4: 384x640 (no detections), 9.6ms\n",
            "video 1/1 (frame 924/9000) /content/1.mp4: 384x640 (no detections), 7.2ms\n",
            "video 1/1 (frame 925/9000) /content/1.mp4: 384x640 (no detections), 7.0ms\n",
            "video 1/1 (frame 926/9000) /content/1.mp4: 384x640 (no detections), 11.1ms\n",
            "video 1/1 (frame 927/9000) /content/1.mp4: 384x640 (no detections), 8.4ms\n",
            "video 1/1 (frame 928/9000) /content/1.mp4: 384x640 (no detections), 10.8ms\n",
            "video 1/1 (frame 929/9000) /content/1.mp4: 384x640 (no detections), 7.9ms\n",
            "video 1/1 (frame 930/9000) /content/1.mp4: 384x640 (no detections), 12.3ms\n",
            "video 1/1 (frame 931/9000) /content/1.mp4: 384x640 (no detections), 9.6ms\n",
            "video 1/1 (frame 932/9000) /content/1.mp4: 384x640 (no detections), 7.4ms\n",
            "video 1/1 (frame 933/9000) /content/1.mp4: 384x640 (no detections), 9.2ms\n",
            "video 1/1 (frame 934/9000) /content/1.mp4: 384x640 (no detections), 8.2ms\n",
            "video 1/1 (frame 935/9000) /content/1.mp4: 384x640 (no detections), 6.9ms\n",
            "video 1/1 (frame 936/9000) /content/1.mp4: 384x640 (no detections), 7.0ms\n",
            "video 1/1 (frame 937/9000) /content/1.mp4: 384x640 (no detections), 7.1ms\n",
            "video 1/1 (frame 938/9000) /content/1.mp4: 384x640 (no detections), 7.5ms\n",
            "video 1/1 (frame 939/9000) /content/1.mp4: 384x640 (no detections), 6.9ms\n",
            "video 1/1 (frame 940/9000) /content/1.mp4: 384x640 (no detections), 6.9ms\n",
            "video 1/1 (frame 941/9000) /content/1.mp4: 384x640 (no detections), 7.3ms\n",
            "video 1/1 (frame 942/9000) /content/1.mp4: 384x640 (no detections), 6.9ms\n",
            "video 1/1 (frame 943/9000) /content/1.mp4: 384x640 (no detections), 8.3ms\n",
            "video 1/1 (frame 944/9000) /content/1.mp4: 384x640 (no detections), 7.0ms\n",
            "video 1/1 (frame 945/9000) /content/1.mp4: 384x640 (no detections), 9.2ms\n",
            "video 1/1 (frame 946/9000) /content/1.mp4: 384x640 (no detections), 7.5ms\n",
            "video 1/1 (frame 947/9000) /content/1.mp4: 384x640 (no detections), 7.2ms\n",
            "video 1/1 (frame 948/9000) /content/1.mp4: 384x640 (no detections), 7.4ms\n",
            "video 1/1 (frame 949/9000) /content/1.mp4: 384x640 (no detections), 7.1ms\n",
            "video 1/1 (frame 950/9000) /content/1.mp4: 384x640 (no detections), 12.4ms\n",
            "video 1/1 (frame 951/9000) /content/1.mp4: 384x640 (no detections), 7.1ms\n",
            "video 1/1 (frame 952/9000) /content/1.mp4: 384x640 (no detections), 7.3ms\n",
            "video 1/1 (frame 953/9000) /content/1.mp4: 384x640 (no detections), 7.0ms\n",
            "video 1/1 (frame 954/9000) /content/1.mp4: 384x640 (no detections), 11.0ms\n",
            "video 1/1 (frame 955/9000) /content/1.mp4: 384x640 (no detections), 6.9ms\n",
            "video 1/1 (frame 956/9000) /content/1.mp4: 384x640 (no detections), 9.5ms\n",
            "video 1/1 (frame 957/9000) /content/1.mp4: 384x640 (no detections), 7.0ms\n",
            "video 1/1 (frame 958/9000) /content/1.mp4: 384x640 (no detections), 7.2ms\n",
            "video 1/1 (frame 959/9000) /content/1.mp4: 384x640 (no detections), 7.0ms\n",
            "video 1/1 (frame 960/9000) /content/1.mp4: 384x640 (no detections), 9.6ms\n",
            "video 1/1 (frame 961/9000) /content/1.mp4: 384x640 (no detections), 11.4ms\n",
            "video 1/1 (frame 962/9000) /content/1.mp4: 384x640 (no detections), 7.3ms\n",
            "video 1/1 (frame 963/9000) /content/1.mp4: 384x640 (no detections), 10.0ms\n",
            "video 1/1 (frame 964/9000) /content/1.mp4: 384x640 (no detections), 7.2ms\n",
            "video 1/1 (frame 965/9000) /content/1.mp4: 384x640 (no detections), 7.8ms\n",
            "video 1/1 (frame 966/9000) /content/1.mp4: 384x640 (no detections), 7.4ms\n",
            "video 1/1 (frame 967/9000) /content/1.mp4: 384x640 (no detections), 7.4ms\n",
            "video 1/1 (frame 968/9000) /content/1.mp4: 384x640 (no detections), 7.0ms\n",
            "video 1/1 (frame 969/9000) /content/1.mp4: 384x640 (no detections), 11.1ms\n",
            "video 1/1 (frame 970/9000) /content/1.mp4: 384x640 (no detections), 7.1ms\n",
            "video 1/1 (frame 971/9000) /content/1.mp4: 384x640 (no detections), 19.2ms\n",
            "video 1/1 (frame 972/9000) /content/1.mp4: 384x640 (no detections), 6.9ms\n",
            "video 1/1 (frame 973/9000) /content/1.mp4: 384x640 (no detections), 7.1ms\n",
            "video 1/1 (frame 974/9000) /content/1.mp4: 384x640 (no detections), 9.5ms\n",
            "video 1/1 (frame 975/9000) /content/1.mp4: 384x640 (no detections), 7.2ms\n",
            "video 1/1 (frame 976/9000) /content/1.mp4: 384x640 (no detections), 9.1ms\n",
            "video 1/1 (frame 977/9000) /content/1.mp4: 384x640 (no detections), 7.1ms\n",
            "video 1/1 (frame 978/9000) /content/1.mp4: 384x640 (no detections), 8.3ms\n",
            "video 1/1 (frame 979/9000) /content/1.mp4: 384x640 (no detections), 8.6ms\n",
            "video 1/1 (frame 980/9000) /content/1.mp4: 384x640 (no detections), 10.2ms\n",
            "video 1/1 (frame 981/9000) /content/1.mp4: 384x640 (no detections), 6.7ms\n",
            "video 1/1 (frame 982/9000) /content/1.mp4: 384x640 (no detections), 12.0ms\n",
            "video 1/1 (frame 983/9000) /content/1.mp4: 384x640 (no detections), 9.6ms\n",
            "video 1/1 (frame 984/9000) /content/1.mp4: 384x640 (no detections), 8.5ms\n",
            "video 1/1 (frame 985/9000) /content/1.mp4: 384x640 (no detections), 7.8ms\n",
            "video 1/1 (frame 986/9000) /content/1.mp4: 384x640 (no detections), 10.4ms\n",
            "video 1/1 (frame 987/9000) /content/1.mp4: 384x640 (no detections), 8.3ms\n",
            "video 1/1 (frame 988/9000) /content/1.mp4: 384x640 (no detections), 7.1ms\n",
            "video 1/1 (frame 989/9000) /content/1.mp4: 384x640 (no detections), 7.0ms\n",
            "video 1/1 (frame 990/9000) /content/1.mp4: 384x640 (no detections), 9.4ms\n",
            "video 1/1 (frame 991/9000) /content/1.mp4: 384x640 (no detections), 10.2ms\n",
            "video 1/1 (frame 992/9000) /content/1.mp4: 384x640 (no detections), 7.2ms\n",
            "video 1/1 (frame 993/9000) /content/1.mp4: 384x640 (no detections), 9.6ms\n",
            "video 1/1 (frame 994/9000) /content/1.mp4: 384x640 (no detections), 10.2ms\n",
            "video 1/1 (frame 995/9000) /content/1.mp4: 384x640 (no detections), 7.1ms\n",
            "video 1/1 (frame 996/9000) /content/1.mp4: 384x640 (no detections), 7.2ms\n",
            "video 1/1 (frame 997/9000) /content/1.mp4: 384x640 (no detections), 9.6ms\n",
            "video 1/1 (frame 998/9000) /content/1.mp4: 384x640 (no detections), 7.6ms\n",
            "video 1/1 (frame 999/9000) /content/1.mp4: 384x640 (no detections), 11.3ms\n",
            "video 1/1 (frame 1000/9000) /content/1.mp4: 384x640 (no detections), 8.0ms\n",
            "video 1/1 (frame 1001/9000) /content/1.mp4: 384x640 (no detections), 9.6ms\n",
            "video 1/1 (frame 1002/9000) /content/1.mp4: 384x640 (no detections), 7.8ms\n",
            "video 1/1 (frame 1003/9000) /content/1.mp4: 384x640 (no detections), 9.9ms\n",
            "video 1/1 (frame 1004/9000) /content/1.mp4: 384x640 (no detections), 7.2ms\n",
            "video 1/1 (frame 1005/9000) /content/1.mp4: 384x640 (no detections), 6.8ms\n",
            "video 1/1 (frame 1006/9000) /content/1.mp4: 384x640 (no detections), 9.7ms\n",
            "video 1/1 (frame 1007/9000) /content/1.mp4: 384x640 (no detections), 6.9ms\n",
            "video 1/1 (frame 1008/9000) /content/1.mp4: 384x640 (no detections), 7.1ms\n",
            "video 1/1 (frame 1009/9000) /content/1.mp4: 384x640 (no detections), 7.0ms\n",
            "video 1/1 (frame 1010/9000) /content/1.mp4: 384x640 (no detections), 7.8ms\n",
            "video 1/1 (frame 1011/9000) /content/1.mp4: 384x640 (no detections), 7.2ms\n",
            "video 1/1 (frame 1012/9000) /content/1.mp4: 384x640 (no detections), 7.9ms\n",
            "video 1/1 (frame 1013/9000) /content/1.mp4: 384x640 (no detections), 7.0ms\n",
            "video 1/1 (frame 1014/9000) /content/1.mp4: 384x640 (no detections), 7.0ms\n",
            "video 1/1 (frame 1015/9000) /content/1.mp4: 384x640 (no detections), 7.2ms\n",
            "video 1/1 (frame 1016/9000) /content/1.mp4: 384x640 (no detections), 7.3ms\n",
            "video 1/1 (frame 1017/9000) /content/1.mp4: 384x640 (no detections), 9.6ms\n",
            "video 1/1 (frame 1018/9000) /content/1.mp4: 384x640 (no detections), 9.6ms\n",
            "video 1/1 (frame 1019/9000) /content/1.mp4: 384x640 (no detections), 7.1ms\n",
            "video 1/1 (frame 1020/9000) /content/1.mp4: 384x640 (no detections), 10.7ms\n",
            "video 1/1 (frame 1021/9000) /content/1.mp4: 384x640 (no detections), 8.1ms\n",
            "video 1/1 (frame 1022/9000) /content/1.mp4: 384x640 (no detections), 8.8ms\n",
            "video 1/1 (frame 1023/9000) /content/1.mp4: 384x640 (no detections), 7.2ms\n",
            "video 1/1 (frame 1024/9000) /content/1.mp4: 384x640 (no detections), 7.6ms\n",
            "video 1/1 (frame 1025/9000) /content/1.mp4: 384x640 (no detections), 6.9ms\n",
            "video 1/1 (frame 1026/9000) /content/1.mp4: 384x640 (no detections), 7.9ms\n",
            "video 1/1 (frame 1027/9000) /content/1.mp4: 384x640 (no detections), 6.9ms\n",
            "video 1/1 (frame 1028/9000) /content/1.mp4: 384x640 (no detections), 8.0ms\n",
            "video 1/1 (frame 1029/9000) /content/1.mp4: 384x640 1 with_mask, 8.0ms\n",
            "video 1/1 (frame 1030/9000) /content/1.mp4: 384x640 1 with_mask, 8.7ms\n",
            "video 1/1 (frame 1031/9000) /content/1.mp4: 384x640 (no detections), 7.3ms\n",
            "video 1/1 (frame 1032/9000) /content/1.mp4: 384x640 (no detections), 8.3ms\n",
            "video 1/1 (frame 1033/9000) /content/1.mp4: 384x640 (no detections), 11.9ms\n",
            "video 1/1 (frame 1034/9000) /content/1.mp4: 384x640 (no detections), 9.5ms\n",
            "video 1/1 (frame 1035/9000) /content/1.mp4: 384x640 (no detections), 7.1ms\n",
            "video 1/1 (frame 1036/9000) /content/1.mp4: 384x640 (no detections), 10.3ms\n",
            "video 1/1 (frame 1037/9000) /content/1.mp4: 384x640 (no detections), 7.0ms\n",
            "video 1/1 (frame 1038/9000) /content/1.mp4: 384x640 (no detections), 9.4ms\n",
            "video 1/1 (frame 1039/9000) /content/1.mp4: 384x640 (no detections), 7.4ms\n",
            "video 1/1 (frame 1040/9000) /content/1.mp4: 384x640 (no detections), 6.9ms\n",
            "video 1/1 (frame 1041/9000) /content/1.mp4: 384x640 (no detections), 9.7ms\n",
            "video 1/1 (frame 1042/9000) /content/1.mp4: 384x640 (no detections), 7.0ms\n",
            "video 1/1 (frame 1043/9000) /content/1.mp4: 384x640 (no detections), 6.9ms\n",
            "video 1/1 (frame 1044/9000) /content/1.mp4: 384x640 (no detections), 6.9ms\n",
            "video 1/1 (frame 1045/9000) /content/1.mp4: 384x640 (no detections), 6.9ms\n",
            "video 1/1 (frame 1046/9000) /content/1.mp4: 384x640 (no detections), 9.3ms\n",
            "video 1/1 (frame 1047/9000) /content/1.mp4: 384x640 (no detections), 6.9ms\n",
            "video 1/1 (frame 1048/9000) /content/1.mp4: 384x640 (no detections), 7.0ms\n",
            "video 1/1 (frame 1049/9000) /content/1.mp4: 384x640 (no detections), 7.1ms\n",
            "video 1/1 (frame 1050/9000) /content/1.mp4: 384x640 (no detections), 9.4ms\n",
            "video 1/1 (frame 1051/9000) /content/1.mp4: 384x640 (no detections), 6.9ms\n",
            "video 1/1 (frame 1052/9000) /content/1.mp4: 384x640 (no detections), 7.0ms\n",
            "video 1/1 (frame 1053/9000) /content/1.mp4: 384x640 (no detections), 7.3ms\n",
            "video 1/1 (frame 1054/9000) /content/1.mp4: 384x640 (no detections), 7.6ms\n",
            "video 1/1 (frame 1055/9000) /content/1.mp4: 384x640 (no detections), 7.4ms\n",
            "video 1/1 (frame 1056/9000) /content/1.mp4: 384x640 (no detections), 7.4ms\n",
            "video 1/1 (frame 1057/9000) /content/1.mp4: 384x640 (no detections), 6.8ms\n",
            "video 1/1 (frame 1058/9000) /content/1.mp4: 384x640 (no detections), 7.4ms\n",
            "video 1/1 (frame 1059/9000) /content/1.mp4: 384x640 (no detections), 6.9ms\n",
            "video 1/1 (frame 1060/9000) /content/1.mp4: 384x640 (no detections), 7.3ms\n",
            "video 1/1 (frame 1061/9000) /content/1.mp4: 384x640 (no detections), 10.1ms\n",
            "video 1/1 (frame 1062/9000) /content/1.mp4: 384x640 (no detections), 6.9ms\n",
            "video 1/1 (frame 1063/9000) /content/1.mp4: 384x640 (no detections), 6.9ms\n",
            "video 1/1 (frame 1064/9000) /content/1.mp4: 384x640 (no detections), 9.6ms\n",
            "video 1/1 (frame 1065/9000) /content/1.mp4: 384x640 (no detections), 9.0ms\n",
            "video 1/1 (frame 1066/9000) /content/1.mp4: 384x640 (no detections), 6.9ms\n",
            "video 1/1 (frame 1067/9000) /content/1.mp4: 384x640 (no detections), 14.5ms\n",
            "video 1/1 (frame 1068/9000) /content/1.mp4: 384x640 (no detections), 11.0ms\n",
            "video 1/1 (frame 1069/9000) /content/1.mp4: 384x640 (no detections), 9.2ms\n",
            "video 1/1 (frame 1070/9000) /content/1.mp4: 384x640 (no detections), 11.5ms\n",
            "video 1/1 (frame 1071/9000) /content/1.mp4: 384x640 (no detections), 8.9ms\n",
            "video 1/1 (frame 1072/9000) /content/1.mp4: 384x640 (no detections), 8.7ms\n",
            "video 1/1 (frame 1073/9000) /content/1.mp4: 384x640 (no detections), 12.2ms\n",
            "video 1/1 (frame 1074/9000) /content/1.mp4: 384x640 (no detections), 8.0ms\n",
            "video 1/1 (frame 1075/9000) /content/1.mp4: 384x640 (no detections), 13.4ms\n",
            "video 1/1 (frame 1076/9000) /content/1.mp4: 384x640 (no detections), 11.9ms\n",
            "video 1/1 (frame 1077/9000) /content/1.mp4: 384x640 (no detections), 11.0ms\n",
            "video 1/1 (frame 1078/9000) /content/1.mp4: 384x640 (no detections), 9.8ms\n",
            "video 1/1 (frame 1079/9000) /content/1.mp4: 384x640 (no detections), 9.6ms\n",
            "video 1/1 (frame 1080/9000) /content/1.mp4: 384x640 (no detections), 11.3ms\n",
            "video 1/1 (frame 1081/9000) /content/1.mp4: 384x640 (no detections), 14.5ms\n",
            "video 1/1 (frame 1082/9000) /content/1.mp4: 384x640 (no detections), 14.7ms\n",
            "video 1/1 (frame 1083/9000) /content/1.mp4: 384x640 (no detections), 11.4ms\n",
            "video 1/1 (frame 1084/9000) /content/1.mp4: 384x640 (no detections), 13.1ms\n",
            "video 1/1 (frame 1085/9000) /content/1.mp4: 384x640 (no detections), 9.3ms\n",
            "video 1/1 (frame 1086/9000) /content/1.mp4: 384x640 (no detections), 15.4ms\n",
            "video 1/1 (frame 1087/9000) /content/1.mp4: 384x640 (no detections), 10.5ms\n",
            "video 1/1 (frame 1088/9000) /content/1.mp4: 384x640 (no detections), 10.7ms\n",
            "video 1/1 (frame 1089/9000) /content/1.mp4: 384x640 (no detections), 9.0ms\n",
            "video 1/1 (frame 1090/9000) /content/1.mp4: 384x640 (no detections), 11.8ms\n",
            "video 1/1 (frame 1091/9000) /content/1.mp4: 384x640 (no detections), 10.3ms\n",
            "video 1/1 (frame 1092/9000) /content/1.mp4: 384x640 (no detections), 13.0ms\n",
            "video 1/1 (frame 1093/9000) /content/1.mp4: 384x640 (no detections), 11.8ms\n",
            "video 1/1 (frame 1094/9000) /content/1.mp4: 384x640 (no detections), 12.0ms\n",
            "video 1/1 (frame 1095/9000) /content/1.mp4: 384x640 (no detections), 9.3ms\n",
            "video 1/1 (frame 1096/9000) /content/1.mp4: 384x640 (no detections), 10.2ms\n",
            "video 1/1 (frame 1097/9000) /content/1.mp4: 384x640 (no detections), 9.6ms\n",
            "video 1/1 (frame 1098/9000) /content/1.mp4: 384x640 (no detections), 9.3ms\n",
            "video 1/1 (frame 1099/9000) /content/1.mp4: 384x640 (no detections), 16.0ms\n",
            "video 1/1 (frame 1100/9000) /content/1.mp4: 384x640 (no detections), 8.7ms\n",
            "video 1/1 (frame 1101/9000) /content/1.mp4: 384x640 (no detections), 10.4ms\n",
            "video 1/1 (frame 1102/9000) /content/1.mp4: 384x640 (no detections), 9.1ms\n",
            "video 1/1 (frame 1103/9000) /content/1.mp4: 384x640 (no detections), 10.5ms\n",
            "video 1/1 (frame 1104/9000) /content/1.mp4: 384x640 (no detections), 9.7ms\n",
            "video 1/1 (frame 1105/9000) /content/1.mp4: 384x640 (no detections), 9.9ms\n",
            "video 1/1 (frame 1106/9000) /content/1.mp4: 384x640 (no detections), 9.0ms\n",
            "video 1/1 (frame 1107/9000) /content/1.mp4: 384x640 (no detections), 8.5ms\n",
            "video 1/1 (frame 1108/9000) /content/1.mp4: 384x640 (no detections), 19.5ms\n",
            "video 1/1 (frame 1109/9000) /content/1.mp4: 384x640 (no detections), 9.0ms\n",
            "video 1/1 (frame 1110/9000) /content/1.mp4: 384x640 (no detections), 17.6ms\n",
            "video 1/1 (frame 1111/9000) /content/1.mp4: 384x640 (no detections), 9.9ms\n",
            "video 1/1 (frame 1112/9000) /content/1.mp4: 384x640 (no detections), 14.2ms\n",
            "video 1/1 (frame 1113/9000) /content/1.mp4: 384x640 (no detections), 9.6ms\n",
            "video 1/1 (frame 1114/9000) /content/1.mp4: 384x640 (no detections), 14.4ms\n",
            "video 1/1 (frame 1115/9000) /content/1.mp4: 384x640 (no detections), 12.5ms\n",
            "video 1/1 (frame 1116/9000) /content/1.mp4: 384x640 (no detections), 8.6ms\n",
            "video 1/1 (frame 1117/9000) /content/1.mp4: 384x640 (no detections), 25.3ms\n",
            "video 1/1 (frame 1118/9000) /content/1.mp4: 384x640 (no detections), 8.6ms\n",
            "video 1/1 (frame 1119/9000) /content/1.mp4: 384x640 (no detections), 11.1ms\n",
            "video 1/1 (frame 1120/9000) /content/1.mp4: 384x640 (no detections), 19.4ms\n",
            "video 1/1 (frame 1121/9000) /content/1.mp4: 384x640 (no detections), 14.3ms\n",
            "video 1/1 (frame 1122/9000) /content/1.mp4: 384x640 (no detections), 10.2ms\n",
            "video 1/1 (frame 1123/9000) /content/1.mp4: 384x640 (no detections), 12.1ms\n",
            "video 1/1 (frame 1124/9000) /content/1.mp4: 384x640 (no detections), 6.8ms\n",
            "video 1/1 (frame 1125/9000) /content/1.mp4: 384x640 (no detections), 9.0ms\n",
            "video 1/1 (frame 1126/9000) /content/1.mp4: 384x640 (no detections), 17.3ms\n",
            "video 1/1 (frame 1127/9000) /content/1.mp4: 384x640 (no detections), 7.1ms\n",
            "video 1/1 (frame 1128/9000) /content/1.mp4: 384x640 (no detections), 7.1ms\n",
            "video 1/1 (frame 1129/9000) /content/1.mp4: 384x640 (no detections), 11699.0ms\n",
            "video 1/1 (frame 1130/9000) /content/1.mp4: 384x640 (no detections), 41589.9ms\n",
            "video 1/1 (frame 1131/9000) /content/1.mp4: 384x640 (no detections), 227.6ms\n",
            "video 1/1 (frame 1132/9000) /content/1.mp4: 384x640 (no detections), 8.5ms\n",
            "video 1/1 (frame 1133/9000) /content/1.mp4: 384x640 (no detections), 12.8ms\n",
            "video 1/1 (frame 1134/9000) /content/1.mp4: 384x640 (no detections), 7.0ms\n",
            "video 1/1 (frame 1135/9000) /content/1.mp4: 384x640 (no detections), 10.0ms\n",
            "video 1/1 (frame 1136/9000) /content/1.mp4: 384x640 (no detections), 7.1ms\n",
            "video 1/1 (frame 1137/9000) /content/1.mp4: 384x640 (no detections), 9.3ms\n",
            "video 1/1 (frame 1138/9000) /content/1.mp4: 384x640 (no detections), 7.0ms\n",
            "video 1/1 (frame 1139/9000) /content/1.mp4: 384x640 (no detections), 9.1ms\n",
            "video 1/1 (frame 1140/9000) /content/1.mp4: 384x640 (no detections), 9.5ms\n",
            "video 1/1 (frame 1141/9000) /content/1.mp4: 384x640 (no detections), 8.9ms\n",
            "video 1/1 (frame 1142/9000) /content/1.mp4: 384x640 (no detections), 7.5ms\n",
            "video 1/1 (frame 1143/9000) /content/1.mp4: 384x640 (no detections), 10.7ms\n",
            "video 1/1 (frame 1144/9000) /content/1.mp4: 384x640 (no detections), 7.1ms\n",
            "video 1/1 (frame 1145/9000) /content/1.mp4: 384x640 (no detections), 12.4ms\n",
            "video 1/1 (frame 1146/9000) /content/1.mp4: 384x640 (no detections), 11.1ms\n",
            "video 1/1 (frame 1147/9000) /content/1.mp4: 384x640 (no detections), 12.6ms\n",
            "video 1/1 (frame 1148/9000) /content/1.mp4: 384x640 (no detections), 7.2ms\n",
            "video 1/1 (frame 1149/9000) /content/1.mp4: 384x640 (no detections), 9.4ms\n",
            "video 1/1 (frame 1150/9000) /content/1.mp4: 384x640 (no detections), 7.2ms\n",
            "video 1/1 (frame 1151/9000) /content/1.mp4: 384x640 (no detections), 9.7ms\n",
            "video 1/1 (frame 1152/9000) /content/1.mp4: 384x640 (no detections), 7.1ms\n",
            "video 1/1 (frame 1153/9000) /content/1.mp4: 384x640 (no detections), 9.4ms\n",
            "video 1/1 (frame 1154/9000) /content/1.mp4: 384x640 (no detections), 16.4ms\n",
            "video 1/1 (frame 1155/9000) /content/1.mp4: 384x640 (no detections), 10.0ms\n",
            "video 1/1 (frame 1156/9000) /content/1.mp4: 384x640 (no detections), 7.1ms\n",
            "video 1/1 (frame 1157/9000) /content/1.mp4: 384x640 (no detections), 9.5ms\n",
            "video 1/1 (frame 1158/9000) /content/1.mp4: 384x640 (no detections), 7.3ms\n",
            "video 1/1 (frame 1159/9000) /content/1.mp4: 384x640 (no detections), 10.8ms\n",
            "video 1/1 (frame 1160/9000) /content/1.mp4: 384x640 (no detections), 7.5ms\n",
            "video 1/1 (frame 1161/9000) /content/1.mp4: 384x640 (no detections), 11.1ms\n",
            "video 1/1 (frame 1162/9000) /content/1.mp4: 384x640 (no detections), 7.1ms\n",
            "video 1/1 (frame 1163/9000) /content/1.mp4: 384x640 (no detections), 7.7ms\n",
            "video 1/1 (frame 1164/9000) /content/1.mp4: 384x640 (no detections), 9.7ms\n",
            "video 1/1 (frame 1165/9000) /content/1.mp4: 384x640 (no detections), 7.4ms\n",
            "video 1/1 (frame 1166/9000) /content/1.mp4: 384x640 (no detections), 9.0ms\n",
            "video 1/1 (frame 1167/9000) /content/1.mp4: 384x640 (no detections), 7.5ms\n",
            "video 1/1 (frame 1168/9000) /content/1.mp4: 384x640 (no detections), 10.3ms\n",
            "video 1/1 (frame 1169/9000) /content/1.mp4: 384x640 (no detections), 7.3ms\n",
            "video 1/1 (frame 1170/9000) /content/1.mp4: 384x640 (no detections), 9.8ms\n",
            "video 1/1 (frame 1171/9000) /content/1.mp4: 384x640 (no detections), 7.2ms\n",
            "video 1/1 (frame 1172/9000) /content/1.mp4: 384x640 (no detections), 10.2ms\n",
            "video 1/1 (frame 1173/9000) /content/1.mp4: 384x640 (no detections), 7.1ms\n",
            "video 1/1 (frame 1174/9000) /content/1.mp4: 384x640 (no detections), 7.2ms\n",
            "video 1/1 (frame 1175/9000) /content/1.mp4: 384x640 (no detections), 8.8ms\n",
            "video 1/1 (frame 1176/9000) /content/1.mp4: 384x640 (no detections), 7.1ms\n",
            "video 1/1 (frame 1177/9000) /content/1.mp4: 384x640 (no detections), 7.1ms\n",
            "video 1/1 (frame 1178/9000) /content/1.mp4: 384x640 (no detections), 9.1ms\n",
            "video 1/1 (frame 1179/9000) /content/1.mp4: 384x640 (no detections), 7.1ms\n",
            "video 1/1 (frame 1180/9000) /content/1.mp4: 384x640 (no detections), 9.8ms\n",
            "video 1/1 (frame 1181/9000) /content/1.mp4: 384x640 (no detections), 7.1ms\n",
            "video 1/1 (frame 1182/9000) /content/1.mp4: 384x640 (no detections), 9.2ms\n",
            "video 1/1 (frame 1183/9000) /content/1.mp4: 384x640 (no detections), 7.2ms\n",
            "video 1/1 (frame 1184/9000) /content/1.mp4: 384x640 (no detections), 7.4ms\n",
            "video 1/1 (frame 1185/9000) /content/1.mp4: 384x640 (no detections), 7.2ms\n",
            "video 1/1 (frame 1186/9000) /content/1.mp4: 384x640 (no detections), 8.0ms\n",
            "video 1/1 (frame 1187/9000) /content/1.mp4: 384x640 (no detections), 7.1ms\n",
            "video 1/1 (frame 1188/9000) /content/1.mp4: 384x640 (no detections), 7.1ms\n",
            "video 1/1 (frame 1189/9000) /content/1.mp4: 384x640 (no detections), 10.4ms\n",
            "video 1/1 (frame 1190/9000) /content/1.mp4: 384x640 (no detections), 13.0ms\n",
            "video 1/1 (frame 1191/9000) /content/1.mp4: 384x640 (no detections), 8.6ms\n",
            "video 1/1 (frame 1192/9000) /content/1.mp4: 384x640 (no detections), 7.5ms\n",
            "video 1/1 (frame 1193/9000) /content/1.mp4: 384x640 (no detections), 7.7ms\n",
            "video 1/1 (frame 1194/9000) /content/1.mp4: 384x640 (no detections), 9.5ms\n",
            "video 1/1 (frame 1195/9000) /content/1.mp4: 384x640 (no detections), 8.9ms\n",
            "video 1/1 (frame 1196/9000) /content/1.mp4: 384x640 (no detections), 12.4ms\n",
            "video 1/1 (frame 1197/9000) /content/1.mp4: 384x640 (no detections), 10.9ms\n",
            "video 1/1 (frame 1198/9000) /content/1.mp4: 384x640 (no detections), 7.7ms\n",
            "video 1/1 (frame 1199/9000) /content/1.mp4: 384x640 (no detections), 7.6ms\n"
          ]
        }
      ]
    }
  ]
}